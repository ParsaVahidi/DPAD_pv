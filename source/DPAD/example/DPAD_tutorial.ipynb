{
 "cells": [
  {
   "cell_type": "markdown",
   "metadata": {},
   "source": [
    "  Written by: Omid G. Sani\n",
    "\n",
    "  Last update: Sep, 2024"
   ]
  },
  {
   "cell_type": "markdown",
   "metadata": {},
   "source": [
    "   # DPAD Tutorial\n",
    "\n",
    "   ## Overview \n",
    "   DPAD, which stands for **dissociative and prioritized analysis of dynamics**, is a method for nonlinear dynamical modeling of time-series neural-behavioral data that can simultaneously model, dissociate, and prioritize behaviorally relevant neural dynamics and can test hypotheses about the origin of nonlinearity. Beyond neural-behavioral data, DPAD can also be applied to any other two time-series data to simultaneously model, dissociate, and prioritize their shared dynamics. In this notebook, we will demonstrate some of the use-cases of DPAD in simulated data where the ground truth is known. For more details on the methods and for results in multiple real neural datasets, please see the DPAD paper:\n",
    "\n",
    "   Omid G. Sani, Bijan Pesaran, Maryam M. Shanechi. *Dissociative and prioritized modeling of behaviorally relevant neural dynamics using recurrent neural networks*. ***Nature Neuroscience*** (2024). https://doi.org/10.1038/s41593-024-01731-2\n",
    "\n",
    "   Original preprint: https://doi.org/10.1101/2021.09.03.458628\n",
    "\n",
    "   ## Model\n",
    "   Given signals $y_k$ (e.g. neural signals) and $z_k$ (e.g. behavior), DPAD learns a dynamic model for $y_k$ while prioritizing the dynamics that are relevant to $z_k$. The DPAD model can be formulated as (Eq. 1 in the [DPAD paper](https://doi.org/10.1038/s41593-024-01731-2)):\n",
    "\n",
    "   $$ x_{k+1} = A'(x_k) + K(y_k) $$\n",
    "\n",
    "   $$ y_k = C_y(x_k) + e_k $$\n",
    "\n",
    "   $$ z_k = C_z(x_k) + \\epsilon_k $$\n",
    "\n",
    "  Multi-input multi-output functions $A'$ (recursion), $K$ (neural input), $C_y$ (neural readout), and $C_z$ (behavior readout) define the model. DPAD with flexible nonlinearity can automatically fit all these nonlinearities to best describe the training data. Further, DPAD allows the user to flexibly set any of these four parameters to be linear or nonlinear. As such, it also enables testing hypotheses about where the origin of nonlinearities is in the dynamical transformation of neural activity to behavior (use-case 4 in the [DPAD paper](https://doi.org/10.1038/s41593-024-01731-2))."
   ]
  },
  {
   "cell_type": "markdown",
   "metadata": {},
   "source": [
    "   # Using DPAD\n",
    "   ## Modeling data\n",
    "   To use DPAD, you first need to import the DPADModel class, for example by running:\n",
    "   ```python\n",
    "   from DPAD import DPADModel\n",
    "   ```\n",
    "\n",
    "   You can then use it to model data as:\n",
    "   ```python\n",
    "   idSys = DPADModel()\n",
    "   methodCode = 'DPAD_CzNonLin' # Only Cz will be nonlinear\n",
    "   args = DPADModel.prepare_args(methodCode)\n",
    "   idSys.fit(Y, Z, nx=6, n1=2, **args)\n",
    "   ```\n",
    "\n",
    "   With the following arguments:\n",
    "   - `Y` and `Z`: Neural (e.g. LFP signal powers or spike counts) and behavioral data (e.g. joint angles, hand position, etc), respectively. Dimensions are: data x time.\n",
    "\n",
    "   - `nx`: the total dimension of the latent state in the model.\n",
    "\n",
    "   - `n1`: the number of latent state dimensions that are going to be dedicated to behaviorally relevant neural dynamics.\n",
    "\n",
    "   - args: other arguments that specify the type of nonlinearity in each parameter within the model.\n",
    "\n",
    "   A helper function called `DPADModel.prepare_args` can be used to prepare the additional arguments `args` that are passed to `idSys.fit`. This function simply takes `methodCode` string as input and returns the relevant arguments to pass to `idSys.fit`. For example, in the above code `methodCode` is `'DPAD_CzNonLin'`. In this case, only the behavior readout parameter $C_z$ of the learned model will be nonlinear and all other parameters will be linear. You can inspect the output of `DPADModel.prepare_args` to see how the architecture of each linear/nonlinear model parameter can be specified as an argument to `idSys.fit`.\n",
    "\n",
    "  After running the above, the learned model will be stored in the `DPADModel` object called `idSys`.\n",
    "\n",
    "   ## Using the model for dimension reduction, state estimation, neural self-prediction and behavior decoding\n",
    "   For a learned DPAD model `idSys` you can use the `predict` method to extract the latent state and predict behavior and neural activity given any new neural data as:\n",
    "   ```python\n",
    "   zPred, yPred, xPred = idSys.predict(yTest)\n",
    "   ```\n",
    "   With the argument:\n",
    "   - `yTest`: Neural activity `y` in the test data. Dimensions are: time x data dimension.\n",
    "\n",
    "   And with outputs (all dimensions are time x data dimension):\n",
    "   - `zPred`: Prediction of behavior using past neural activity at each data point.\n",
    "\n",
    "   - `yPred`: Prediction of neural activity using past neural activity at each data point.\n",
    "\n",
    "   - `xPred`: The latent state extracted at each data point.\n",
    "\n",
    "   We will next go through a complete example of using DPAD for multiple use-cases in data.\n",
    "\n",
    "   # A complete example of using DPAD for multiple use-cases\n",
    "   In this example, we will use DPAD to model some simulated data and demonstrate multiple use-cases in that data.\n",
    "\n",
    "   ## Loading and preparing the data\n",
    "   First, we import DPAD and a few other useful tools from DPAD and other libraries."
   ]
  },
  {
   "cell_type": "code",
   "execution_count": 17,
   "metadata": {},
   "outputs": [],
   "source": [
    "# Run these to enable python 3.11 for Google Colab\n",
    "# !sudo apt-get update -y\n",
    "# !sudo apt-get install python3.11 python3.11-dev python3.11-distutils libpython3.11-dev\n",
    "# !sudo update-alternatives --install /usr/bin/python3 python3 /usr/bin/python3.10 1\n",
    "# !sudo update-alternatives --install /usr/bin/python3 python3 /usr/bin/python3.11 2\n",
    "# !sudo apt-get install pip"
   ]
  },
  {
   "cell_type": "code",
   "execution_count": 18,
   "metadata": {},
   "outputs": [
    {
     "name": "stdout",
     "output_type": "stream",
     "text": [
      "The autoreload extension is already loaded. To reload it, use:\n",
      "  %reload_ext autoreload\n",
      "Python 3.11.4\n"
     ]
    },
    {
     "name": "stderr",
     "output_type": "stream",
     "text": [
      "ERROR: Invalid requirement: '#'\n",
      "\n",
      "[notice] A new release of pip is available: 23.1.2 -> 24.2\n",
      "[notice] To update, run: python.exe -m pip install --upgrade pip\n"
     ]
    },
    {
     "name": "stdout",
     "output_type": "stream",
     "text": [
      "Requirement already satisfied: sympy in c:\\codes\\envs\\py311gtf215_dpad\\lib\\site-packages (1.13.2)\n",
      "Requirement already satisfied: mpmath<1.4,>=1.1.0 in c:\\codes\\envs\\py311gtf215_dpad\\lib\\site-packages (from sympy) (1.3.0)\n"
     ]
    },
    {
     "name": "stderr",
     "output_type": "stream",
     "text": [
      "\n",
      "[notice] A new release of pip is available: 23.1.2 -> 24.2\n",
      "[notice] To update, run: python.exe -m pip install --upgrade pip\n"
     ]
    }
   ],
   "source": [
    "%load_ext autoreload\n",
    "%autoreload 2\n",
    "!python --version\n",
    "# !sudo update-alternatives --config python3\n",
    "\n",
    "!pip install --upgrade DPAD # Install or update to the latest version of DPAD\n",
    "\n",
    "# Install dependencies only required for this notebook and other development work\n",
    "!pip install sympy\n"
   ]
  },
  {
   "cell_type": "code",
   "execution_count": 19,
   "metadata": {},
   "outputs": [],
   "source": [
    "import logging\n",
    "import os\n",
    "import sys\n",
    "\n",
    "sys.path.insert(0, os.path.join(\"..\", \"..\"))\n",
    "# sys.path.insert(0, os.path.join(os.path.dirname(__file__), \"..\", \"..\"))\n",
    "\n",
    "# Setting up logs\n",
    "logging.basicConfig(level=logging.INFO)\n",
    "logger = logging.getLogger(__name__)\n",
    "\n",
    "import coloredlogs\n",
    "\n",
    "coloredlogs.install(\n",
    "    level=logging.INFO,\n",
    "    fmt=\"%(asctime)s %(name)s [%(filename)s > %(lineno)s] %(levelname)s %(message)s\",\n",
    "    datefmt=\"%Y-%m-%d %H:%M:%S\",\n",
    "    logger=logger,\n",
    ")\n",
    "\n",
    "\n",
    "# Prepare plots\n",
    "import matplotlib\n",
    "import matplotlib.pyplot as plt\n",
    "import numpy as np\n",
    "\n",
    "matplotlib.rcParams[\"figure.facecolor\"] = \"w\"\n",
    "matplotlib.rcParams[\"axes.facecolor\"] = \"w\"\n",
    "matplotlib.rcParams.update(\n",
    "    {\"font.size\": 16, \"axes.titlesize\": 14, \"axes.labelsize\": 14}\n",
    ")\n",
    "\n",
    "# Import DPAD tools\n",
    "from DPAD.DPADModel import DPADModel\n",
    "from DPAD.tools.evaluation import evalPrediction\n",
    "from DPAD.tools.file_tools import pickle_load\n",
    "from DPAD.tools.flexible import fitDPADWithFlexibleNonlinearity\n",
    "from DPAD.tools.plot import prepAxesStyle\n",
    "from DPAD.tools.plot_model_params import plot_model_params\n",
    "from DPAD.tools.tools import get_one_hot\n",
    "\n",
    "# Just to enable loading of the sample simulated data provided here\n",
    "from PSID import LSSM\n",
    "from DPAD.tools import SSM\n",
    "\n",
    "sys.modules[\"DPAD.SSM\"] = SSM\n",
    "if LSSM.__module__ != \"PSID.LSSM\":\n",
    "    import importlib.util\n",
    "    spec = importlib.util.spec_from_file_location(\"PSID\", \"LSSM.py\")\n",
    "    if spec is not None and spec.loader is not None:\n",
    "        LSSM_module = importlib.util.module_from_spec(spec)\n",
    "        sys.modules[\"DPAD.LSSM\"] = LSSM_module\n",
    "\n",
    "\n",
    "# Set random seeds for exact reproducibility\n",
    "seed = 42\n",
    "import random\n",
    "\n",
    "import numpy as np\n",
    "import tensorflow as tf\n",
    "\n",
    "random.seed(seed)\n",
    "np.random.seed(seed)\n",
    "tf.random.set_seed(seed)\n",
    "\n"
   ]
  },
  {
   "cell_type": "markdown",
   "metadata": {},
   "source": [
    "   Let's start by loading data from an example model where only $C_z$ is nonlinear:"
   ]
  },
  {
   "cell_type": "code",
   "execution_count": 20,
   "metadata": {},
   "outputs": [
    {
     "name": "stdout",
     "output_type": "stream",
     "text": [
      "c:\\codes\\libs\\DPAD\\DPAD\\source\\DPAD\\example\n",
      "Loading example data from ../../../data\\sample_data.p\n"
     ]
    }
   ],
   "source": [
    "# Load data\n",
    "print(os.getcwd())\n",
    "data_dir = \"../../../data\"\n",
    "fName = \"sample_data.p\"\n",
    "\n",
    "sample_data_path = os.path.join(data_dir, fName)\n",
    "\n",
    "print(\"Loading example data from {}\".format(sample_data_path))\n",
    "data = pickle_load(sample_data_path)\n",
    "# This data is from an example model with nonlinearity only in the behavior readout parameter Cz.\n",
    "\n",
    "maxN = int(2 * 1e5)  # Number of data points to use in this notebook\n",
    "N = np.min((maxN, data[\"x\"].shape[0]))\n",
    "x = data[\"x\"][:N, :]\n",
    "y = data[\"y\"][:N, :]\n",
    "z = data[\"z\"][:N, :]\n",
    "trueModel = data[\"csys\"]  # The object that contains the true simulated model\n",
    "\n",
    "nx = trueModel.state_dim  # Total number of latent states in the simulated model\n",
    "n1 = len(\n",
    "    trueModel.zDims\n",
    ")  # The number of latent states in the simulated model that drive behavior (behaviorally relevant)\n",
    "\n",
    "allYData, allZData = y, z\n",
    "\n"
   ]
  },
  {
   "cell_type": "markdown",
   "metadata": {},
   "source": [
    "   Let's separate the data into training and test segments."
   ]
  },
  {
   "cell_type": "code",
   "execution_count": 21,
   "metadata": {},
   "outputs": [],
   "source": [
    "# Separate data into training and test data:\n",
    "trainInds = np.arange(np.round(0.9 * allYData.shape[0]), dtype=int)\n",
    "testInds = np.arange(1 + trainInds[-1], allYData.shape[0])\n",
    "yTrain = allYData[trainInds, :]\n",
    "yTest = allYData[testInds, :]\n",
    "zTrain = allZData[trainInds, :]\n",
    "zTest = allZData[testInds, :]"
   ]
  },
  {
   "cell_type": "markdown",
   "metadata": {},
   "source": [
    "  # Use-cases\n",
    "  ## Use-case 1: Nonlinear dynamical modeling of neural-behavioral dynamics using DPAD\n",
    "  In this use-case, DPAD with flexible nonlinearity is used to automatically fit the nonlinearities in data (see **Results** in the [DPAD paper](https://doi.org/10.1038/s41593-024-01731-2)). Here we show in a simulation that this approach can learn a model that reaches behavior decoding and neural self-prediction as good as that of the ideal true model.\n",
    "\n",
    "  ### Model fitting\n"
   ]
  },
  {
   "cell_type": "code",
   "execution_count": 22,
   "metadata": {},
   "outputs": [
    {
     "name": "stderr",
     "output_type": "stream",
     "text": [
      "\u001b[32m2024-10-25 19:20:08\u001b[0m \u001b[34mDPAD.tools.flexible\u001b[0m [flexible.py > 249] \u001b[1;30mINFO\u001b[0m Running innerCV to choose among the following 16 variants:\n",
      "(1) DPAD_RTR2_ErSV16\n",
      "(2) DPAD_RTR2_A1HL64U_ErSV16\n",
      "(3) DPAD_RTR2_K1HL64U_ErSV16\n",
      "(4) DPAD_RTR2_Cz1HL64U_ErSV16\n",
      "(5) DPAD_RTR2_Cy1HL64U_ErSV16\n",
      "(6) DPAD_RTR2_uAK1HL64U_ErSV16\n",
      "(7) DPAD_RTR2_ACz1HL64U_ErSV16\n",
      "(8) DPAD_RTR2_ACy1HL64U_ErSV16\n",
      "(9) DPAD_RTR2_KCz1HL64U_ErSV16\n",
      "(10) DPAD_RTR2_KCy1HL64U_ErSV16\n",
      "(11) DPAD_RTR2_CzCy1HL64U_ErSV16\n",
      "(12) DPAD_RTR2_uAKCz1HL64U_ErSV16\n",
      "(13) DPAD_RTR2_uAKCy1HL64U_ErSV16\n",
      "(14) DPAD_RTR2_ACzCy1HL64U_ErSV16\n",
      "(15) DPAD_RTR2_KCzCy1HL64U_ErSV16\n",
      "(16) DPAD_RTR2_uAKCzCy1HL64U_ErSV16\n",
      "\u001b[32m2024-10-25 19:20:08\u001b[0m \u001b[34mDPAD.tools.flexible\u001b[0m [flexible.py > 3632] \u001b[1;30mINFO\u001b[0m Loading results from ..\\..\\..\\results\\3db7fe65_7329c759_N\\DPAD_GSUT_iCVF2_RTR2_uAKCzCy1HL64U_ErSV16\\.p (4.1MiB, modified: 2024-09-03 22:29:06)\n",
      "\u001b[32m2024-10-25 19:20:08\u001b[0m \u001b[34mDPAD.tools.flexible\u001b[0m [flexible.py > 4104] \u001b[1;30mINFO\u001b[0m Checking whether result file size could be reduced for future loads\n",
      "\u001b[32m2024-10-25 19:20:08\u001b[0m \u001b[34mDPAD.tools.flexible\u001b[0m [flexible.py > 4193] \u001b[1;30mINFO\u001b[0m Could not reduce file size\n",
      "\u001b[32m2024-10-25 19:20:08\u001b[0m \u001b[34mDPAD.tools.flexible\u001b[0m [flexible.py > 708] \u001b[1;30mINFO\u001b[0m Some multistep ahead results for steps_ahead=[1, 2, 4, 8, 16, 32] are NOT available\n",
      "\u001b[32m2024-10-25 19:20:08\u001b[0m \u001b[34mDPAD.tools.flexible\u001b[0m [flexible.py > 320] \u001b[1;30mINFO\u001b[0m Selecting among the 16 tried method variants based on the inner CV results: \n",
      "\u001b[32m2024-10-25 19:20:08\u001b[0m \u001b[34mDPAD.tools.flexible\u001b[0m [flexible.py > 389] \u001b[1;30mINFO\u001b[0m - Preaveraging meanyCC across the 2 folds => sem will be 0 and will pick the case with best meanyCC\n",
      "\u001b[32m2024-10-25 19:20:08\u001b[0m \u001b[34mDPAD.tools.evaluation\u001b[0m [evaluation.py > 569] \u001b[1;30mINFO\u001b[0m Of 16 cases, the following were within 1 sem of the best meanCC in each session:\n",
      "[ 8 10 13]\n",
      "\u001b[32m2024-10-25 19:20:08\u001b[0m \u001b[34mDPAD.tools.evaluation\u001b[0m [evaluation.py > 585] \u001b[1;30mINFO\u001b[0m Criteria 2: meanyCC\n",
      "Of 16 cases, the following were within 1 sem of the best meanyCC in each session:\n",
      "[2]\n",
      "\u001b[32m2024-10-25 19:20:08\u001b[0m \u001b[34mDPAD.tools.evaluation\u001b[0m [evaluation.py > 606] \u001b[1;30mINFO\u001b[0m - In 0/1 sessions ([]) some cases satisfied both criteria, will pick among those.\n",
      "\u001b[32m2024-10-25 19:20:08\u001b[0m \u001b[34mDPAD.tools.evaluation\u001b[0m [evaluation.py > 613] \u001b[1;30mINFO\u001b[0m - In 1/1 sessions ([0]), no case satisfied both criteria, so will pick the case with best criteria 2 (meanyCC) among those that satisfy criteria 1 (meanCC).\n",
      "\u001b[32m2024-10-25 19:20:08\u001b[0m \u001b[34mDPAD.tools.flexible\u001b[0m [flexible.py > 419] \u001b[1;30mINFO\u001b[0m Picked the following method after inner CV: (index 8) DPAD_RTR2_KCz1HL64U_ErSV16\n",
      "\u001b[32m2024-10-25 19:20:08\u001b[0m \u001b[34mDPAD.DPADModel\u001b[0m [DPADModel.py > 907] \u001b[1;30mINFO\u001b[0m Early stopping measure is \"val_loss\". Includes validation loss, so we will ignore any provided validation data and creating validation data fom the training data to avoid overfitting\n"
     ]
    },
    {
     "name": "stdout",
     "output_type": "stream",
     "text": [
      "Considering 16 possible combinations of location/type for nonlinearities (this might take a while)...\n"
     ]
    },
    {
     "name": "stderr",
     "output_type": "stream",
     "text": [
      "\u001b[32m2024-10-25 19:20:08\u001b[0m \u001b[34mDPAD.DPADModel\u001b[0m [DPADModel.py > 1525] \u001b[1;30mINFO\u001b[0m Stage 1: Learning A11, K1, Cz1 (ZType: cont)\n",
      "\u001b[32m2024-10-25 19:20:08\u001b[0m \u001b[34mDPAD.RNNModel\u001b[0m [RNNModel.py > 1583] \u001b[1;30mINFO\u001b[0m Shifting output by 1 samples to train network for 1-step ahead prediction\n",
      "\u001b[32m2024-10-25 19:20:08\u001b[0m \u001b[34mDPAD.RNNModel\u001b[0m [RNNModel.py > 1743] \u001b[1;30mINFO\u001b[0m Have 36 batches each with 31 128-sample data segments (ny_in=1, ny_out=1, nft=0)\n",
      "\u001b[32m2024-10-25 19:20:08\u001b[0m \u001b[34mDPAD.tools.model_base_classes\u001b[0m [model_base_classes.py > 226] \u001b[1;30mINFO\u001b[0m Starting fit attempt 1 of 2\n",
      "\u001b[32m2024-10-25 19:26:54\u001b[0m \u001b[34mDPAD.tools.model_base_classes\u001b[0m [model_base_classes.py > 114] \u001b[1;30mINFO\u001b[0m Restoring model weights from the end of the best epoch: 650 (stopped at 665 epochs).\n",
      "\u001b[32m2024-10-25 19:26:54\u001b[0m \u001b[34mDPAD.tools.model_base_classes\u001b[0m [model_base_classes.py > 499] \u001b[1;30mINFO\u001b[0m \n",
      "Epoch 1/666 - loss=rnn_1step_loss=rnn_1step_mse=0.99700034, rnn_1step_R2_maskV_None=0.0021981811, rnn_1step_CC_maskV_None=0.25630692, val_loss=val_rnn_1step_loss=val_rnn_1step_mse=0.97490841, val_rnn_1step_R2_maskV_None=0.0093793934, val_rnn_1step_CC_maskV_None=0.25373638, learning_rate=0.001\n",
      "Epoch 68/666 - loss=rnn_1step_loss=rnn_1step_mse=0.67669499, rnn_1step_R2_maskV_None=0.32258338, rnn_1step_CC_maskV_None=0.56835568, val_loss=val_rnn_1step_loss=val_rnn_1step_mse=0.66847861, val_rnn_1step_R2_maskV_None=0.32062107, val_rnn_1step_CC_maskV_None=0.5667274, learning_rate=0.001\n",
      "Epoch 135/666 - loss=rnn_1step_loss=rnn_1step_mse=0.67638594, rnn_1step_R2_maskV_None=0.32289013, rnn_1step_CC_maskV_None=0.56858742, val_loss=val_rnn_1step_loss=val_rnn_1step_mse=0.66824138, val_rnn_1step_R2_maskV_None=0.32086143, val_rnn_1step_CC_maskV_None=0.5668847, learning_rate=0.001\n",
      "Epoch 202/666 - loss=rnn_1step_loss=rnn_1step_mse=0.67627519, rnn_1step_R2_maskV_None=0.32299969, rnn_1step_CC_maskV_None=0.56868142, val_loss=val_rnn_1step_loss=val_rnn_1step_mse=0.6680637, val_rnn_1step_R2_maskV_None=0.32104415, val_rnn_1step_CC_maskV_None=0.56700039, learning_rate=0.001\n",
      "Epoch 269/666 - loss=rnn_1step_loss=rnn_1step_mse=0.67619139, rnn_1step_R2_maskV_None=0.32308272, rnn_1step_CC_maskV_None=0.56875783, val_loss=val_rnn_1step_loss=val_rnn_1step_mse=0.66790128, val_rnn_1step_R2_maskV_None=0.32121027, val_rnn_1step_CC_maskV_None=0.56710476, learning_rate=0.001\n",
      "Epoch 336/666 - loss=rnn_1step_loss=rnn_1step_mse=0.67610836, rnn_1step_R2_maskV_None=0.32316509, rnn_1step_CC_maskV_None=0.56883281, val_loss=val_rnn_1step_loss=val_rnn_1step_mse=0.66777056, val_rnn_1step_R2_maskV_None=0.32134458, val_rnn_1step_CC_maskV_None=0.56719589, learning_rate=0.001\n",
      "Epoch 403/666 - loss=rnn_1step_loss=rnn_1step_mse=0.67595077, rnn_1step_R2_maskV_None=0.32332161, rnn_1step_CC_maskV_None=0.568973, val_loss=val_rnn_1step_loss=val_rnn_1step_mse=0.66755658, val_rnn_1step_R2_maskV_None=0.32156408, val_rnn_1step_CC_maskV_None=0.56736135, learning_rate=0.001\n",
      "Epoch 470/666 - loss=rnn_1step_loss=rnn_1step_mse=0.67578614, rnn_1step_R2_maskV_None=0.32348472, rnn_1step_CC_maskV_None=0.56911808, val_loss=val_rnn_1step_loss=val_rnn_1step_mse=0.66732281, val_rnn_1step_R2_maskV_None=0.32180464, val_rnn_1step_CC_maskV_None=0.5675509, learning_rate=0.001\n",
      "Epoch 537/666 - loss=rnn_1step_loss=rnn_1step_mse=0.67565942, rnn_1step_R2_maskV_None=0.32361013, rnn_1step_CC_maskV_None=0.56923378, val_loss=val_rnn_1step_loss=val_rnn_1step_mse=0.66713059, val_rnn_1step_R2_maskV_None=0.32200256, val_rnn_1step_CC_maskV_None=0.56770831, learning_rate=0.001\n",
      "Epoch 604/666 - loss=rnn_1step_loss=rnn_1step_mse=0.67557043, rnn_1step_R2_maskV_None=0.32369828, rnn_1step_CC_maskV_None=0.56931013, val_loss=val_rnn_1step_loss=val_rnn_1step_mse=0.66698807, val_rnn_1step_R2_maskV_None=0.32214907, val_rnn_1step_CC_maskV_None=0.56782562, learning_rate=0.001\n",
      "Epoch 666/666 - loss=rnn_1step_loss=rnn_1step_mse=0.67550159, rnn_1step_R2_maskV_None=0.32376617, rnn_1step_CC_maskV_None=0.56937093, val_loss=val_rnn_1step_loss=val_rnn_1step_mse=0.66687584, val_rnn_1step_R2_maskV_None=0.32226455, val_rnn_1step_CC_maskV_None=0.56791067, learning_rate=0.001\n",
      "\n",
      "\u001b[32m2024-10-25 19:26:54\u001b[0m \u001b[34mDPAD.tools.model_base_classes\u001b[0m [model_base_classes.py > 539] \u001b[1;30mINFO\u001b[0m Model fitting took 405.59s\n",
      "\u001b[32m2024-10-25 19:26:54\u001b[0m \u001b[34mDPAD.tools.model_base_classes\u001b[0m [model_base_classes.py > 226] \u001b[1;30mINFO\u001b[0m Starting fit attempt 2 of 2\n",
      "\u001b[32m2024-10-25 19:27:48\u001b[0m \u001b[34mDPAD.tools.model_base_classes\u001b[0m [model_base_classes.py > 114] \u001b[1;30mINFO\u001b[0m Restoring model weights from the end of the best epoch: 70 (stopped at 85 epochs).\n",
      "\u001b[32m2024-10-25 19:27:48\u001b[0m \u001b[34mDPAD.tools.model_base_classes\u001b[0m [model_base_classes.py > 499] \u001b[1;30mINFO\u001b[0m \n",
      "Epoch 1/86 - loss=rnn_2_1step_loss=rnn_2_1step_mse=0.99857825, rnn_2_1step_R2_maskV_None=0.0006269117, rnn_2_1step_CC_maskV_None=0.22487409, val_loss=val_rnn_2_1step_loss=val_rnn_2_1step_mse=0.98080391, val_rnn_2_1step_R2_maskV_None=0.0033931732, val_rnn_2_1step_CC_maskV_None=0.25009263, learning_rate=0.001\n",
      "Epoch 10/86 - loss=rnn_2_1step_loss=rnn_2_1step_mse=0.85898536, rnn_2_1step_R2_maskV_None=0.14012644, rnn_2_1step_CC_maskV_None=0.37556115, val_loss=val_rnn_2_1step_loss=val_rnn_2_1step_mse=0.83920169, val_rnn_2_1step_R2_maskV_None=0.14713174, val_rnn_2_1step_CC_maskV_None=0.38408482, learning_rate=0.001\n",
      "Epoch 19/86 - loss=rnn_2_1step_loss=rnn_2_1step_mse=0.71065176, rnn_2_1step_R2_maskV_None=0.28858697, rnn_2_1step_CC_maskV_None=0.54045892, val_loss=val_rnn_2_1step_loss=val_rnn_2_1step_mse=0.69635439, val_rnn_2_1step_R2_maskV_None=0.29229689, val_rnn_2_1step_CC_maskV_None=0.54290175, learning_rate=0.001\n",
      "Epoch 28/86 - loss=rnn_2_1step_loss=rnn_2_1step_mse=0.68329287, rnn_2_1step_R2_maskV_None=0.31597212, rnn_2_1step_CC_maskV_None=0.56284553, val_loss=val_rnn_2_1step_loss=val_rnn_2_1step_mse=0.67390257, val_rnn_2_1step_R2_maskV_None=0.31512815, val_rnn_2_1step_CC_maskV_None=0.56198251, learning_rate=0.001\n",
      "Epoch 37/86 - loss=rnn_2_1step_loss=rnn_2_1step_mse=0.67868936, rnn_2_1step_R2_maskV_None=0.32058489, rnn_2_1step_CC_maskV_None=0.56669682, val_loss=val_rnn_2_1step_loss=val_rnn_2_1step_mse=0.67004776, val_rnn_2_1step_R2_maskV_None=0.31904504, val_rnn_2_1step_CC_maskV_None=0.56534225, learning_rate=0.001\n",
      "Epoch 46/86 - loss=rnn_2_1step_loss=rnn_2_1step_mse=0.67760289, rnn_2_1step_R2_maskV_None=0.32167509, rnn_2_1step_CC_maskV_None=0.56761074, val_loss=val_rnn_2_1step_loss=val_rnn_2_1step_mse=0.66906917, val_rnn_2_1step_R2_maskV_None=0.32003525, val_rnn_2_1step_CC_maskV_None=0.56623924, learning_rate=0.001\n",
      "Epoch 55/86 - loss=rnn_2_1step_loss=rnn_2_1step_mse=0.67706406, rnn_2_1step_R2_maskV_None=0.32221606, rnn_2_1step_CC_maskV_None=0.56807303, val_loss=val_rnn_2_1step_loss=val_rnn_2_1step_mse=0.66852987, val_rnn_2_1step_R2_maskV_None=0.32057938, val_rnn_2_1step_CC_maskV_None=0.56676787, learning_rate=0.001\n",
      "Epoch 64/86 - loss=rnn_2_1step_loss=rnn_2_1step_mse=0.67676699, rnn_2_1step_R2_maskV_None=0.32251301, rnn_2_1step_CC_maskV_None=0.56831604, val_loss=val_rnn_2_1step_loss=val_rnn_2_1step_mse=0.66832721, val_rnn_2_1step_R2_maskV_None=0.32078201, val_rnn_2_1step_CC_maskV_None=0.56693649, learning_rate=0.001\n",
      "Epoch 73/86 - loss=rnn_2_1step_loss=rnn_2_1step_mse=0.6766355, rnn_2_1step_R2_maskV_None=0.32264408, rnn_2_1step_CC_maskV_None=0.5684303, val_loss=val_rnn_2_1step_loss=val_rnn_2_1step_mse=0.66827738, val_rnn_2_1step_R2_maskV_None=0.32083094, val_rnn_2_1step_CC_maskV_None=0.5669989, learning_rate=0.001\n",
      "Epoch 82/86 - loss=rnn_2_1step_loss=rnn_2_1step_mse=0.67658234, rnn_2_1step_R2_maskV_None=0.32269692, rnn_2_1step_CC_maskV_None=0.56847429, val_loss=val_rnn_2_1step_loss=val_rnn_2_1step_mse=0.66828412, val_rnn_2_1step_R2_maskV_None=0.32082352, val_rnn_2_1step_CC_maskV_None=0.56700349, learning_rate=0.001\n",
      "Epoch 86/86 - loss=rnn_2_1step_loss=rnn_2_1step_mse=0.67656422, rnn_2_1step_R2_maskV_None=0.32271492, rnn_2_1step_CC_maskV_None=0.56848741, val_loss=val_rnn_2_1step_loss=val_rnn_2_1step_mse=0.66827691, val_rnn_2_1step_R2_maskV_None=0.32083058, val_rnn_2_1step_CC_maskV_None=0.56701726, learning_rate=0.001\n",
      "\n",
      "\u001b[32m2024-10-25 19:27:48\u001b[0m \u001b[34mDPAD.tools.model_base_classes\u001b[0m [model_base_classes.py > 539] \u001b[1;30mINFO\u001b[0m Model fitting took 53.96s\n",
      "\u001b[32m2024-10-25 19:27:48\u001b[0m \u001b[34mDPAD.tools.model_base_classes\u001b[0m [model_base_classes.py > 584] \u001b[1;30mINFO\u001b[0m Selected model from learning attempt 1/2, which had the smallest loss (0.66686231)\n",
      "\u001b[32m2024-10-25 19:28:01\u001b[0m \u001b[34mDPAD.DPADModel\u001b[0m [DPADModel.py > 1557] \u001b[1;30mINFO\u001b[0m Training Z pred after fitting RNN1: \n",
      "1-step: MSE_maskV_None=0.671, R2_maskV_None=0.329, CC_maskV_None=0.574\n",
      "\u001b[32m2024-10-25 19:28:03\u001b[0m \u001b[34mDPAD.DPADModel\u001b[0m [DPADModel.py > 1580] \u001b[1;30mINFO\u001b[0m Validation Z pred after fitting RNN1: \n",
      "1-step: MSE_maskV_None=0.66, R2_maskV_None=0.328, CC_maskV_None=0.573\n",
      "\u001b[32m2024-10-25 19:28:03\u001b[0m \u001b[34mDPAD.DPADModel\u001b[0m [DPADModel.py > 1659] \u001b[1;30mINFO\u001b[0m Stage 1: Learning Cy1 (YType: cont)\n",
      "\u001b[32m2024-10-25 19:28:03\u001b[0m \u001b[34mDPAD.tools.model_base_classes\u001b[0m [model_base_classes.py > 226] \u001b[1;30mINFO\u001b[0m Starting fit attempt 1 of 2\n",
      "\u001b[32m2024-10-25 19:32:06\u001b[0m \u001b[34mDPAD.tools.model_base_classes\u001b[0m [model_base_classes.py > 114] \u001b[1;30mINFO\u001b[0m Restoring model weights from the end of the best epoch: 32 (stopped at 47 epochs).\n",
      "\u001b[32m2024-10-25 19:32:06\u001b[0m \u001b[34mDPAD.tools.model_base_classes\u001b[0m [model_base_classes.py > 499] \u001b[1;30mINFO\u001b[0m \n",
      "Epoch 1/48 - loss=mse=1.5376128, R2_maskV_None=-0.62740916, CC_maskV_None=0.018003277, val_loss=val_mse=0.98315084, val_R2_maskV_None=-0.032351654, val_CC_maskV_None=-0.010956255, learning_rate=0.001\n",
      "Epoch 6/48 - loss=mse=0.99732, R2_maskV_None=-0.032457862, CC_maskV_None=0.054065105, val_loss=val_mse=0.98335707, val_R2_maskV_None=-0.032563038, val_CC_maskV_None=-0.010956253, learning_rate=0.001\n",
      "Epoch 11/48 - loss=mse=0.99731129, R2_maskV_None=-0.031660028, CC_maskV_None=0.053228922, val_loss=val_mse=0.98311394, val_R2_maskV_None=-0.032336999, val_CC_maskV_None=-0.010956258, learning_rate=0.001\n",
      "Epoch 16/48 - loss=mse=0.99721789, R2_maskV_None=-0.03285009, CC_maskV_None=0.054259457, val_loss=val_mse=0.98305827, val_R2_maskV_None=-0.032257855, val_CC_maskV_None=-0.010956249, learning_rate=0.001\n",
      "Epoch 21/48 - loss=mse=0.99725968, R2_maskV_None=-0.032349024, CC_maskV_None=0.053901974, val_loss=val_mse=0.98340178, val_R2_maskV_None=-0.032650061, val_CC_maskV_None=-0.01095625, learning_rate=0.001\n",
      "Epoch 26/48 - loss=mse=0.99728018, R2_maskV_None=-0.033763994, CC_maskV_None=0.05375142, val_loss=val_mse=0.98328894, val_R2_maskV_None=-0.032492779, val_CC_maskV_None=-0.010956254, learning_rate=0.001\n",
      "Epoch 31/48 - loss=mse=0.99728018, R2_maskV_None=-0.031481836, CC_maskV_None=0.053940896, val_loss=val_mse=0.98358148, val_R2_maskV_None=-0.032795381, val_CC_maskV_None=-0.010956249, learning_rate=0.001\n",
      "Epoch 36/48 - loss=mse=0.9973405, R2_maskV_None=-0.030785549, CC_maskV_None=0.051671792, val_loss=val_mse=0.98296767, val_R2_maskV_None=-0.03217347, val_CC_maskV_None=-0.010956253, learning_rate=0.001\n",
      "Epoch 41/48 - loss=mse=0.99738085, R2_maskV_None=-0.031765509, CC_maskV_None=0.054252595, val_loss=val_mse=0.98326087, val_R2_maskV_None=-0.032463275, val_CC_maskV_None=-0.010956252, learning_rate=0.001\n",
      "Epoch 46/48 - loss=mse=0.99733233, R2_maskV_None=-0.033099666, CC_maskV_None=0.053817879, val_loss=val_mse=0.98334897, val_R2_maskV_None=-0.032592088, val_CC_maskV_None=-0.010956257, learning_rate=0.001\n",
      "Epoch 48/48 - loss=mse=0.99733442, R2_maskV_None=-0.031389084, CC_maskV_None=0.05336317, val_loss=val_mse=0.98386222, val_R2_maskV_None=-0.033085924, val_CC_maskV_None=-0.010956252, learning_rate=0.001\n",
      "\n",
      "\u001b[32m2024-10-25 19:32:06\u001b[0m \u001b[34mDPAD.tools.model_base_classes\u001b[0m [model_base_classes.py > 539] \u001b[1;30mINFO\u001b[0m Model fitting took 243.63s\n",
      "\u001b[32m2024-10-25 19:32:06\u001b[0m \u001b[34mDPAD.tools.model_base_classes\u001b[0m [model_base_classes.py > 226] \u001b[1;30mINFO\u001b[0m Starting fit attempt 2 of 2\n",
      "\u001b[32m2024-10-25 19:36:07\u001b[0m \u001b[34mDPAD.tools.model_base_classes\u001b[0m [model_base_classes.py > 114] \u001b[1;30mINFO\u001b[0m Restoring model weights from the end of the best epoch: 32 (stopped at 47 epochs).\n",
      "\u001b[32m2024-10-25 19:36:07\u001b[0m \u001b[34mDPAD.tools.model_base_classes\u001b[0m [model_base_classes.py > 499] \u001b[1;30mINFO\u001b[0m \n",
      "Epoch 1/48 - loss=mse=2.6878445, R2_maskV_None=-1.9080454, CC_maskV_None=0.05615972, val_loss=val_mse=0.9832446, val_R2_maskV_None=-0.032447457, val_CC_maskV_None=-0.010956248, learning_rate=0.001\n",
      "Epoch 6/48 - loss=mse=0.99732, R2_maskV_None=-0.032457862, CC_maskV_None=0.054065105, val_loss=val_mse=0.98335707, val_R2_maskV_None=-0.032563038, val_CC_maskV_None=-0.010956253, learning_rate=0.001\n",
      "Epoch 11/48 - loss=mse=0.99731129, R2_maskV_None=-0.031660028, CC_maskV_None=0.053228922, val_loss=val_mse=0.98311394, val_R2_maskV_None=-0.032336999, val_CC_maskV_None=-0.010956258, learning_rate=0.001\n",
      "Epoch 16/48 - loss=mse=0.99721789, R2_maskV_None=-0.03285009, CC_maskV_None=0.054259457, val_loss=val_mse=0.98305827, val_R2_maskV_None=-0.032257855, val_CC_maskV_None=-0.010956249, learning_rate=0.001\n",
      "Epoch 21/48 - loss=mse=0.99725968, R2_maskV_None=-0.032349024, CC_maskV_None=0.053901974, val_loss=val_mse=0.98340178, val_R2_maskV_None=-0.032650061, val_CC_maskV_None=-0.01095625, learning_rate=0.001\n",
      "Epoch 26/48 - loss=mse=0.99728018, R2_maskV_None=-0.033763994, CC_maskV_None=0.05375142, val_loss=val_mse=0.98328894, val_R2_maskV_None=-0.032492779, val_CC_maskV_None=-0.010956254, learning_rate=0.001\n",
      "Epoch 31/48 - loss=mse=0.99728018, R2_maskV_None=-0.031481836, CC_maskV_None=0.053940896, val_loss=val_mse=0.98358148, val_R2_maskV_None=-0.032795381, val_CC_maskV_None=-0.010956249, learning_rate=0.001\n",
      "Epoch 36/48 - loss=mse=0.9973405, R2_maskV_None=-0.030785549, CC_maskV_None=0.051671792, val_loss=val_mse=0.98296767, val_R2_maskV_None=-0.03217347, val_CC_maskV_None=-0.010956253, learning_rate=0.001\n",
      "Epoch 41/48 - loss=mse=0.99738085, R2_maskV_None=-0.031765509, CC_maskV_None=0.054252595, val_loss=val_mse=0.98326087, val_R2_maskV_None=-0.032463275, val_CC_maskV_None=-0.010956252, learning_rate=0.001\n",
      "Epoch 46/48 - loss=mse=0.99733233, R2_maskV_None=-0.033099666, CC_maskV_None=0.053817879, val_loss=val_mse=0.98334897, val_R2_maskV_None=-0.032592088, val_CC_maskV_None=-0.010956257, learning_rate=0.001\n",
      "Epoch 48/48 - loss=mse=0.99733442, R2_maskV_None=-0.031389084, CC_maskV_None=0.05336317, val_loss=val_mse=0.98386222, val_R2_maskV_None=-0.033085924, val_CC_maskV_None=-0.010956252, learning_rate=0.001\n",
      "\n",
      "\u001b[32m2024-10-25 19:36:07\u001b[0m \u001b[34mDPAD.tools.model_base_classes\u001b[0m [model_base_classes.py > 539] \u001b[1;30mINFO\u001b[0m Model fitting took 240.96s\n",
      "\u001b[32m2024-10-25 19:36:07\u001b[0m \u001b[34mDPAD.tools.model_base_classes\u001b[0m [model_base_classes.py > 584] \u001b[1;30mINFO\u001b[0m Selected model from learning attempt 1/2, which had the smallest loss (0.98296094)\n",
      "\u001b[32m2024-10-25 19:36:07\u001b[0m \u001b[34mDPAD.RegressionModel\u001b[0m [RegressionModel.py > 470] \u001b[1;30mINFO\u001b[0m Model fitting finished. Had 4500 batches each with batch_size of 32 samples each (ny_in=1, ny_out=1)\n"
     ]
    },
    {
     "name": "stdout",
     "output_type": "stream",
     "text": [
      "4500/4500 [==============================] - 4s 841us/step\n"
     ]
    },
    {
     "name": "stderr",
     "output_type": "stream",
     "text": [
      "\u001b[32m2024-10-25 19:36:13\u001b[0m \u001b[34mDPAD.DPADModel\u001b[0m [DPADModel.py > 1712] \u001b[1;30mINFO\u001b[0m Training Y pred after fitting model1_Cy: \n",
      "1-step: MSE_maskV_None=0.997, R2_maskV_None=0.003, CC_maskV_None=0.0549\n"
     ]
    },
    {
     "name": "stdout",
     "output_type": "stream",
     "text": [
      "4500/4500 [==============================] - 4s 839us/step\n",
      "1125/1125 [==============================] - 1s 813us/step\n"
     ]
    },
    {
     "name": "stderr",
     "output_type": "stream",
     "text": [
      "\u001b[32m2024-10-25 19:36:20\u001b[0m \u001b[34mDPAD.DPADModel\u001b[0m [DPADModel.py > 1781] \u001b[1;30mINFO\u001b[0m Stage 2: Learning A12, A22, K2, Cy2 (YType: cont)\n",
      "\u001b[32m2024-10-25 19:36:20\u001b[0m \u001b[34mDPAD.RNNModel\u001b[0m [RNNModel.py > 1583] \u001b[1;30mINFO\u001b[0m Shifting output by 1 samples to train network for 1-step ahead prediction\n",
      "\u001b[32m2024-10-25 19:36:20\u001b[0m \u001b[34mDPAD.RNNModel\u001b[0m [RNNModel.py > 1743] \u001b[1;30mINFO\u001b[0m Have 36 batches each with 31 128-sample data segments (ny_in=2, ny_out=1, nft=0)\n",
      "\u001b[32m2024-10-25 19:36:20\u001b[0m \u001b[34mDPAD.tools.model_base_classes\u001b[0m [model_base_classes.py > 226] \u001b[1;30mINFO\u001b[0m Starting fit attempt 1 of 2\n",
      "\u001b[32m2024-10-25 19:37:27\u001b[0m \u001b[34mDPAD.tools.model_base_classes\u001b[0m [model_base_classes.py > 114] \u001b[1;30mINFO\u001b[0m Restoring model weights from the end of the best epoch: 70 (stopped at 85 epochs).\n",
      "\u001b[32m2024-10-25 19:37:27\u001b[0m \u001b[34mDPAD.tools.model_base_classes\u001b[0m [model_base_classes.py > 499] \u001b[1;30mINFO\u001b[0m \n",
      "Epoch 1/86 - loss=rnn_1_1step_loss=rnn_1_1step_mse=0.99343544, rnn_1_1step_R2_maskV_None=0.0066678012, rnn_1_1step_CC_maskV_None=0.089915827, val_loss=val_rnn_1_1step_loss=val_rnn_1_1step_mse=0.97387934, val_rnn_1_1step_R2_maskV_None=0.013035655, val_rnn_1_1step_CC_maskV_None=0.13537216, learning_rate=0.001\n",
      "Epoch 10/86 - loss=rnn_1_1step_loss=rnn_1_1step_mse=0.97902161, rnn_1_1step_R2_maskV_None=0.021104518, rnn_1_1step_CC_maskV_None=0.14632532, val_loss=val_rnn_1_1step_loss=val_rnn_1_1step_mse=0.96773863, val_rnn_1_1step_R2_maskV_None=0.019237718, val_rnn_1_1step_CC_maskV_None=0.13959146, learning_rate=0.001\n",
      "Epoch 19/86 - loss=rnn_1_1step_loss=rnn_1_1step_mse=0.96824813, rnn_1_1step_R2_maskV_None=0.031861819, rnn_1_1step_CC_maskV_None=0.17927554, val_loss=val_rnn_1_1step_loss=val_rnn_1_1step_mse=0.95941621, val_rnn_1_1step_R2_maskV_None=0.027661689, val_rnn_1_1step_CC_maskV_None=0.16785306, learning_rate=0.001\n",
      "Epoch 28/86 - loss=rnn_1_1step_loss=rnn_1_1step_mse=0.96807754, rnn_1_1step_R2_maskV_None=0.03203271, rnn_1_1step_CC_maskV_None=0.17975745, val_loss=val_rnn_1_1step_loss=val_rnn_1_1step_mse=0.95930737, val_rnn_1_1step_R2_maskV_None=0.02777103, val_rnn_1_1step_CC_maskV_None=0.16803753, learning_rate=0.001\n",
      "Epoch 37/86 - loss=rnn_1_1step_loss=rnn_1_1step_mse=0.96795416, rnn_1_1step_R2_maskV_None=0.032157056, rnn_1_1step_CC_maskV_None=0.18015939, val_loss=val_rnn_1_1step_loss=val_rnn_1_1step_mse=0.9590863, val_rnn_1_1step_R2_maskV_None=0.027994871, val_rnn_1_1step_CC_maskV_None=0.16835235, learning_rate=0.001\n",
      "Epoch 46/86 - loss=rnn_1_1step_loss=rnn_1_1step_mse=0.96799266, rnn_1_1step_R2_maskV_None=0.032118812, rnn_1_1step_CC_maskV_None=0.18013126, val_loss=val_rnn_1_1step_loss=val_rnn_1_1step_mse=0.95900518, val_rnn_1_1step_R2_maskV_None=0.028077986, val_rnn_1_1step_CC_maskV_None=0.16838978, learning_rate=0.001\n",
      "Epoch 55/86 - loss=rnn_1_1step_loss=rnn_1_1step_mse=0.9680286, rnn_1_1step_R2_maskV_None=0.032082837, rnn_1_1step_CC_maskV_None=0.18010466, val_loss=val_rnn_1_1step_loss=val_rnn_1_1step_mse=0.95895231, val_rnn_1_1step_R2_maskV_None=0.028132213, val_rnn_1_1step_CC_maskV_None=0.16842324, learning_rate=0.001\n",
      "Epoch 64/86 - loss=rnn_1_1step_loss=rnn_1_1step_mse=0.968063, rnn_1_1step_R2_maskV_None=0.032048941, rnn_1_1step_CC_maskV_None=0.18007983, val_loss=val_rnn_1_1step_loss=val_rnn_1_1step_mse=0.95892847, val_rnn_1_1step_R2_maskV_None=0.028157128, val_rnn_1_1step_CC_maskV_None=0.16842914, learning_rate=0.001\n",
      "Epoch 73/86 - loss=rnn_1_1step_loss=rnn_1_1step_mse=0.96808964, rnn_1_1step_R2_maskV_None=0.032022554, rnn_1_1step_CC_maskV_None=0.18006228, val_loss=val_rnn_1_1step_loss=val_rnn_1_1step_mse=0.95892489, val_rnn_1_1step_R2_maskV_None=0.028161492, val_rnn_1_1step_CC_maskV_None=0.16842002, learning_rate=0.001\n",
      "Epoch 82/86 - loss=rnn_1_1step_loss=rnn_1_1step_mse=0.96810955, rnn_1_1step_R2_maskV_None=0.032002788, rnn_1_1step_CC_maskV_None=0.18005006, val_loss=val_rnn_1_1step_loss=val_rnn_1_1step_mse=0.95893145, val_rnn_1_1step_R2_maskV_None=0.028155319, val_rnn_1_1step_CC_maskV_None=0.1684061, learning_rate=0.001\n",
      "Epoch 86/86 - loss=rnn_1_1step_loss=rnn_1_1step_mse=0.96811622, rnn_1_1step_R2_maskV_None=0.031996213, rnn_1_1step_CC_maskV_None=0.18004668, val_loss=val_rnn_1_1step_loss=val_rnn_1_1step_mse=0.9589358, val_rnn_1_1step_R2_maskV_None=0.028151048, val_rnn_1_1step_CC_maskV_None=0.16839994, learning_rate=0.001\n",
      "\n",
      "\u001b[32m2024-10-25 19:37:27\u001b[0m \u001b[34mDPAD.tools.model_base_classes\u001b[0m [model_base_classes.py > 539] \u001b[1;30mINFO\u001b[0m Model fitting took 67.43s\n",
      "\u001b[32m2024-10-25 19:37:27\u001b[0m \u001b[34mDPAD.tools.model_base_classes\u001b[0m [model_base_classes.py > 226] \u001b[1;30mINFO\u001b[0m Starting fit attempt 2 of 2\n",
      "\u001b[32m2024-10-25 19:38:28\u001b[0m \u001b[34mDPAD.tools.model_base_classes\u001b[0m [model_base_classes.py > 114] \u001b[1;30mINFO\u001b[0m Restoring model weights from the end of the best epoch: 60 (stopped at 75 epochs).\n",
      "\u001b[32m2024-10-25 19:38:28\u001b[0m \u001b[34mDPAD.tools.model_base_classes\u001b[0m [model_base_classes.py > 499] \u001b[1;30mINFO\u001b[0m \n",
      "Epoch 1/76 - loss=rnn_5_1step_loss=rnn_5_1step_mse=0.99415487, rnn_5_1step_R2_maskV_None=0.0059516379, rnn_5_1step_CC_maskV_None=0.083731651, val_loss=val_rnn_5_1step_loss=val_rnn_5_1step_mse=0.97479051, val_rnn_5_1step_R2_maskV_None=0.012119167, val_rnn_5_1step_CC_maskV_None=0.13349952, learning_rate=0.001\n",
      "Epoch 9/76 - loss=rnn_5_1step_loss=rnn_5_1step_mse=0.97985971, rnn_5_1step_R2_maskV_None=0.020268496, rnn_5_1step_CC_maskV_None=0.14344062, val_loss=val_rnn_5_1step_loss=val_rnn_5_1step_mse=0.96870285, val_rnn_5_1step_R2_maskV_None=0.018262161, val_rnn_5_1step_CC_maskV_None=0.13612133, learning_rate=0.001\n",
      "Epoch 17/76 - loss=rnn_5_1step_loss=rnn_5_1step_mse=0.9685331, rnn_5_1step_R2_maskV_None=0.031577628, rnn_5_1step_CC_maskV_None=0.17848024, val_loss=val_rnn_5_1step_loss=val_rnn_5_1step_mse=0.9595173, val_rnn_5_1step_R2_maskV_None=0.027559089, val_rnn_5_1step_CC_maskV_None=0.16739604, learning_rate=0.001\n",
      "Epoch 25/76 - loss=rnn_5_1step_loss=rnn_5_1step_mse=0.96797884, rnn_5_1step_R2_maskV_None=0.032131921, rnn_5_1step_CC_maskV_None=0.18005466, val_loss=val_rnn_5_1step_loss=val_rnn_5_1step_mse=0.95922744, val_rnn_5_1step_R2_maskV_None=0.027852304, val_rnn_5_1step_CC_maskV_None=0.16827805, learning_rate=0.001\n",
      "Epoch 33/76 - loss=rnn_5_1step_loss=rnn_5_1step_mse=0.96796429, rnn_5_1step_R2_maskV_None=0.032147251, rnn_5_1step_CC_maskV_None=0.18013136, val_loss=val_rnn_5_1step_loss=val_rnn_5_1step_mse=0.95913672, val_rnn_5_1step_R2_maskV_None=0.027944215, val_rnn_5_1step_CC_maskV_None=0.16828084, learning_rate=0.001\n",
      "Epoch 41/76 - loss=rnn_5_1step_loss=rnn_5_1step_mse=0.96798825, rnn_5_1step_R2_maskV_None=0.0321237, rnn_5_1step_CC_maskV_None=0.18008812, val_loss=val_rnn_5_1step_loss=val_rnn_5_1step_mse=0.95904762, val_rnn_5_1step_R2_maskV_None=0.028035309, val_rnn_5_1step_CC_maskV_None=0.16829185, learning_rate=0.001\n",
      "Epoch 49/76 - loss=rnn_5_1step_loss=rnn_5_1step_mse=0.968018, rnn_5_1step_R2_maskV_None=0.032094214, rnn_5_1step_CC_maskV_None=0.18003516, val_loss=val_rnn_5_1step_loss=val_rnn_5_1step_mse=0.95900196, val_rnn_5_1step_R2_maskV_None=0.02808214, val_rnn_5_1step_CC_maskV_None=0.16828328, learning_rate=0.001\n",
      "Epoch 57/76 - loss=rnn_5_1step_loss=rnn_5_1step_mse=0.9680447, rnn_5_1step_R2_maskV_None=0.032068178, rnn_5_1step_CC_maskV_None=0.17998756, val_loss=val_rnn_5_1step_loss=val_rnn_5_1step_mse=0.95898819, val_rnn_5_1step_R2_maskV_None=0.028096484, val_rnn_5_1step_CC_maskV_None=0.1682561, learning_rate=0.001\n",
      "Epoch 65/76 - loss=rnn_5_1step_loss=rnn_5_1step_mse=0.9680655, rnn_5_1step_R2_maskV_None=0.032047674, rnn_5_1step_CC_maskV_None=0.17994678, val_loss=val_rnn_5_1step_loss=val_rnn_5_1step_mse=0.95898896, val_rnn_5_1step_R2_maskV_None=0.028096067, val_rnn_5_1step_CC_maskV_None=0.16822439, learning_rate=0.001\n",
      "Epoch 73/76 - loss=rnn_5_1step_loss=rnn_5_1step_mse=0.96807992, rnn_5_1step_R2_maskV_None=0.032033265, rnn_5_1step_CC_maskV_None=0.17991537, val_loss=val_rnn_5_1step_loss=val_rnn_5_1step_mse=0.95899028, val_rnn_5_1step_R2_maskV_None=0.028094815, val_rnn_5_1step_CC_maskV_None=0.1682073, learning_rate=0.001\n",
      "Epoch 76/76 - loss=rnn_5_1step_loss=rnn_5_1step_mse=0.96808386, rnn_5_1step_R2_maskV_None=0.032029662, rnn_5_1step_CC_maskV_None=0.17990692, val_loss=val_rnn_5_1step_loss=val_rnn_5_1step_mse=0.95898962, val_rnn_5_1step_R2_maskV_None=0.028095517, val_rnn_5_1step_CC_maskV_None=0.16820711, learning_rate=0.001\n",
      "\n",
      "\u001b[32m2024-10-25 19:38:28\u001b[0m \u001b[34mDPAD.tools.model_base_classes\u001b[0m [model_base_classes.py > 539] \u001b[1;30mINFO\u001b[0m Model fitting took 60.15s\n",
      "\u001b[32m2024-10-25 19:38:28\u001b[0m \u001b[34mDPAD.tools.model_base_classes\u001b[0m [model_base_classes.py > 584] \u001b[1;30mINFO\u001b[0m Selected model from learning attempt 1/2, which had the smallest loss (0.95892435)\n",
      "\u001b[32m2024-10-25 19:38:43\u001b[0m \u001b[34mDPAD.DPADModel\u001b[0m [DPADModel.py > 1818] \u001b[1;30mINFO\u001b[0m Training Y pred after fitting RNN2: \n",
      "1-step: MSE_maskV_None=0.967, R2_maskV_None=0.0331, CC_maskV_None=0.182\n",
      "\u001b[32m2024-10-25 19:38:43\u001b[0m \u001b[34mDPAD.DPADModel\u001b[0m [DPADModel.py > 1834] \u001b[1;30mINFO\u001b[0m Validation Y pred after fitting RNN2: \n",
      "1-step: MSE_maskV_None=0.958, R2_maskV_None=0.0286, CC_maskV_None=0.169\n",
      "\u001b[32m2024-10-25 19:38:43\u001b[0m \u001b[34mDPAD.DPADModel\u001b[0m [DPADModel.py > 2017] \u001b[1;30mINFO\u001b[0m Stage 2: Learning Cz2 (ZType: cont)\n",
      "\u001b[32m2024-10-25 19:38:43\u001b[0m \u001b[34mDPAD.tools.model_base_classes\u001b[0m [model_base_classes.py > 226] \u001b[1;30mINFO\u001b[0m Starting fit attempt 1 of 2\n",
      "\u001b[32m2024-10-25 19:42:53\u001b[0m \u001b[34mDPAD.tools.model_base_classes\u001b[0m [model_base_classes.py > 114] \u001b[1;30mINFO\u001b[0m Restoring model weights from the end of the best epoch: 28 (stopped at 43 epochs).\n",
      "\u001b[32m2024-10-25 19:42:53\u001b[0m \u001b[34mDPAD.tools.model_base_classes\u001b[0m [model_base_classes.py > 499] \u001b[1;30mINFO\u001b[0m \n",
      "Epoch 1/44 - loss=mse=0.68576109, R2_maskV_None=0.27312815, CC_maskV_None=0.55471635, val_loss=val_mse=0.67482692, val_R2_maskV_None=0.26175961, val_CC_maskV_None=0.54051363, learning_rate=0.001\n",
      "Epoch 6/44 - loss=mse=0.67558146, R2_maskV_None=0.28446206, CC_maskV_None=0.56195086, val_loss=val_mse=0.66910297, val_R2_maskV_None=0.26833081, val_CC_maskV_None=0.54580343, learning_rate=0.001\n",
      "Epoch 11/44 - loss=mse=0.67169553, R2_maskV_None=0.28816977, CC_maskV_None=0.56431061, val_loss=val_mse=0.66118711, val_R2_maskV_None=0.27718684, val_CC_maskV_None=0.55286402, learning_rate=0.001\n",
      "Epoch 16/44 - loss=mse=0.67120373, R2_maskV_None=0.28918338, CC_maskV_None=0.56521398, val_loss=val_mse=0.66069591, val_R2_maskV_None=0.27768949, val_CC_maskV_None=0.55336678, learning_rate=0.001\n",
      "Epoch 21/44 - loss=mse=0.67119092, R2_maskV_None=0.28844023, CC_maskV_None=0.56463605, val_loss=val_mse=0.66071588, val_R2_maskV_None=0.27766109, val_CC_maskV_None=0.55355692, learning_rate=0.001\n",
      "Epoch 26/44 - loss=mse=0.67114103, R2_maskV_None=0.28878683, CC_maskV_None=0.56430203, val_loss=val_mse=0.66089851, val_R2_maskV_None=0.2774694, val_CC_maskV_None=0.55357534, learning_rate=0.001\n",
      "Epoch 31/44 - loss=mse=0.67115027, R2_maskV_None=0.29001695, CC_maskV_None=0.56488019, val_loss=val_mse=0.66051197, val_R2_maskV_None=0.27788994, val_CC_maskV_None=0.55357611, learning_rate=0.001\n",
      "Epoch 36/44 - loss=mse=0.67115998, R2_maskV_None=0.28919375, CC_maskV_None=0.56436497, val_loss=val_mse=0.66048795, val_R2_maskV_None=0.2779125, val_CC_maskV_None=0.55357593, learning_rate=0.001\n",
      "Epoch 41/44 - loss=mse=0.67114198, R2_maskV_None=0.28998211, CC_maskV_None=0.56537497, val_loss=val_mse=0.66050869, val_R2_maskV_None=0.27788201, val_CC_maskV_None=0.55357653, learning_rate=0.001\n",
      "Epoch 44/44 - loss=mse=0.67114377, R2_maskV_None=0.28885314, CC_maskV_None=0.56499761, val_loss=val_mse=0.6608035, val_R2_maskV_None=0.27757427, val_CC_maskV_None=0.55357587, learning_rate=0.001\n",
      "\n",
      "\u001b[32m2024-10-25 19:42:53\u001b[0m \u001b[34mDPAD.tools.model_base_classes\u001b[0m [model_base_classes.py > 539] \u001b[1;30mINFO\u001b[0m Model fitting took 249.61s\n",
      "\u001b[32m2024-10-25 19:42:53\u001b[0m \u001b[34mDPAD.tools.model_base_classes\u001b[0m [model_base_classes.py > 226] \u001b[1;30mINFO\u001b[0m Starting fit attempt 2 of 2\n",
      "\u001b[32m2024-10-25 19:46:11\u001b[0m \u001b[34mDPAD.tools.model_base_classes\u001b[0m [model_base_classes.py > 114] \u001b[1;30mINFO\u001b[0m Restoring model weights from the end of the best epoch: 19 (stopped at 34 epochs).\n",
      "\u001b[32m2024-10-25 19:46:11\u001b[0m \u001b[34mDPAD.tools.model_base_classes\u001b[0m [model_base_classes.py > 499] \u001b[1;30mINFO\u001b[0m \n",
      "Epoch 1/35 - loss=mse=0.69324118, R2_maskV_None=0.26439893, CC_maskV_None=0.55392861, val_loss=val_mse=0.67712766, val_R2_maskV_None=0.25917402, val_CC_maskV_None=0.54204702, learning_rate=0.001\n",
      "Epoch 5/35 - loss=mse=0.67650521, R2_maskV_None=0.28229076, CC_maskV_None=0.56035197, val_loss=val_mse=0.6658777, val_R2_maskV_None=0.2719056, val_CC_maskV_None=0.55040985, learning_rate=0.001\n",
      "Epoch 9/35 - loss=mse=0.67280895, R2_maskV_None=0.2873621, CC_maskV_None=0.5634048, val_loss=val_mse=0.66317707, val_R2_maskV_None=0.2750462, val_CC_maskV_None=0.55104804, learning_rate=0.001\n",
      "Epoch 13/35 - loss=mse=0.67121947, R2_maskV_None=0.29008606, CC_maskV_None=0.56464833, val_loss=val_mse=0.66074705, val_R2_maskV_None=0.27764612, val_CC_maskV_None=0.55354488, learning_rate=0.001\n",
      "Epoch 17/35 - loss=mse=0.67120892, R2_maskV_None=0.28858373, CC_maskV_None=0.56469411, val_loss=val_mse=0.66056657, val_R2_maskV_None=0.27783251, val_CC_maskV_None=0.55357349, learning_rate=0.001\n",
      "Epoch 21/35 - loss=mse=0.67117673, R2_maskV_None=0.28844726, CC_maskV_None=0.56463921, val_loss=val_mse=0.66071284, val_R2_maskV_None=0.27767453, val_CC_maskV_None=0.55357593, learning_rate=0.001\n",
      "Epoch 25/35 - loss=mse=0.67116451, R2_maskV_None=0.28973365, CC_maskV_None=0.56508631, val_loss=val_mse=0.66050404, val_R2_maskV_None=0.27789867, val_CC_maskV_None=0.55357558, learning_rate=0.001\n",
      "Epoch 29/35 - loss=mse=0.67114246, R2_maskV_None=0.28881022, CC_maskV_None=0.56388205, val_loss=val_mse=0.66070527, val_R2_maskV_None=0.27768457, val_CC_maskV_None=0.55357933, learning_rate=0.001\n",
      "Epoch 33/35 - loss=mse=0.67116106, R2_maskV_None=0.28978655, CC_maskV_None=0.5652644, val_loss=val_mse=0.66048801, val_R2_maskV_None=0.2779128, val_CC_maskV_None=0.55357593, learning_rate=0.001\n",
      "Epoch 35/35 - loss=mse=0.67115861, R2_maskV_None=0.28884897, CC_maskV_None=0.56533146, val_loss=val_mse=0.66059721, val_R2_maskV_None=0.27779993, val_CC_maskV_None=0.55357593, learning_rate=0.001\n",
      "\n",
      "\u001b[32m2024-10-25 19:46:11\u001b[0m \u001b[34mDPAD.tools.model_base_classes\u001b[0m [model_base_classes.py > 539] \u001b[1;30mINFO\u001b[0m Model fitting took 197.74s\n",
      "\u001b[32m2024-10-25 19:46:11\u001b[0m \u001b[34mDPAD.tools.model_base_classes\u001b[0m [model_base_classes.py > 584] \u001b[1;30mINFO\u001b[0m Selected model from learning attempt 2/2, which had the smallest loss (0.66048491)\n",
      "\u001b[32m2024-10-25 19:46:11\u001b[0m \u001b[34mDPAD.RegressionModel\u001b[0m [RegressionModel.py > 470] \u001b[1;30mINFO\u001b[0m Model fitting finished. Had 4500 batches each with batch_size of 32 samples each (ny_in=3, ny_out=1)\n"
     ]
    },
    {
     "name": "stdout",
     "output_type": "stream",
     "text": [
      "4500/4500 [==============================] - 5s 1ms/step\n",
      "4500/4500 [==============================] - 4s 922us/step\n"
     ]
    },
    {
     "name": "stderr",
     "output_type": "stream",
     "text": [
      "\u001b[32m2024-10-25 19:46:23\u001b[0m \u001b[34mDPAD.DPADModel\u001b[0m [DPADModel.py > 2064] \u001b[1;30mINFO\u001b[0m Training Z pred after fitting model2_Cz: \n",
      "1-step: MSE_maskV_None=0.671, R2_maskV_None=0.329, CC_maskV_None=0.574\n"
     ]
    }
   ],
   "source": [
    "# The following  function searches over possible nonlinearities and picks the best one based on the training data\n",
    "settings = {}\n",
    "settings[\n",
    "    \"min_cores_to_enable_parallelization\"\n",
    "] = 100  # If fewer than this many cores are available, code will not run with parallelization, set to a large number to disable parallelization\n",
    "# methodCode = \"DPAD_GSUT_iCVF2_LSTM_uAKCzCy2HL128U\"  # Each nonlinear parameter will be an MLP with either 1 or 2 hidden layers, each with either 64 or 128 hidden units, and recursion (A') will either be an MLP or an LSTM. This is the default setting used for real data in the DPAD paper.\n",
    "methodCode = \"DPAD_GSUT_iCVF2_RTR2_uAKCzCy1HL64U_ErSV16\"  # We will use a smaller search space for this simulation.\n",
    "# A few other useful things to add to the methodCode:\n",
    "# 1) RTR2: we try fitting with two random parameter initialization and keep the one that gets better loss.\n",
    "# 2) ErSV16: changes early stopping to 16 epochs, based on an inner validation set (last 20% of the training data). Without this, by default early stopping is 3 epochs and based on training loss.\n",
    "# See more below under: Tips for avoiding optimization issues\n",
    "\n",
    "# selectedMethodCode, iCVRes = fitDPADWithFlexibleNonlinearity(\n",
    "#     yTrain, Z=zTrain, nx=nx, n1=n1, settings=settings, methodCode=methodCode, saveDir=os.path.join(\"..\", \"..\", \"..\", \"results\")\n",
    "# )\n",
    "\n",
    "# Typical runtime for this step:\n",
    "# - For any individual nonlinearity: a couple of minutes\n",
    "# - For flexible search over all nonlinearity options:\n",
    "#   + Without parallelization: sum of run times for all considered nonlinearity options\n",
    "#   + With full parallelization: max of run time across all considered nonlinearity options\n",
    "\n",
    "# ATTENTION: we commented out the above flexible search step here just to avoid running it by default, \n",
    "# but to get the best results for a given data, you should run the `fitDPADWithFlexibleNonlinearity` step.\n",
    "\n",
    "# To skip the flexible search, comment out the above call to `fitDPADWithFlexibleNonlinearity`\n",
    "# and simply set `selectedMethodCode` to the desired nonlinearity settings. For example, you can set:\n",
    "selectedMethodCode = 'DPAD_RTR2_Cz1HL64U_ErSV16'\n",
    "\n",
    "\n",
    "idSysF = DPADModel()\n",
    "epochs = 2500  # Default for this is 2500.\n",
    "# Fitting will stop upon convergence or after at most the specified number of\n",
    "# epochs. 2500 as the max number of epochs is usually more than enough.\n",
    "# Here for speed, we can set to something lower, expecting that the decoding\n",
    "# will not reach that of the true model unless the number of epochs is large\n",
    "# enough for convergence\n",
    "# Prepare settings to make desired parameters in the learned model nonlinear\n",
    "args = DPADModel.prepare_args(selectedMethodCode)\n",
    "idSysF.fit(yTrain.T, Z=zTrain.T, nx=nx, n1=n1, epochs=epochs, **args)\n",
    "\n"
   ]
  },
  {
   "cell_type": "markdown",
   "metadata": {},
   "source": [
    "\n",
    "**Note:** The fit function in DPAD prints a log of how the losses converge during training. The printed log is useful to see if the error has converged to a value or if it is still decreasing. If the total number of epochs printed in the log is less than the number of epochs passed as the argument of the fit method, then fitting has converged and the number of epochs has been enough. If the total number of epochs printed in the log is equal to the epochs argument, it means that more epochs would result in an even better fit.\n"
   ]
  },
  {
   "cell_type": "code",
   "execution_count": 23,
   "metadata": {},
   "outputs": [
    {
     "name": "stdout",
     "output_type": "stream",
     "text": [
      "Selected nonlinearity setting: DPAD_RTR2_KCz1HL64U_ErSV16\n"
     ]
    }
   ],
   "source": [
    "print(f'Selected nonlinearity setting: {selectedMethodCode}')"
   ]
  },
  {
   "cell_type": "markdown",
   "metadata": {},
   "source": [
    "We see that as expected the selected nonlinearity includes the true location of nonlinearity (`Cz` in this simulation). This analysis however does not answer whether all nonlinearity can be isolated in that parameter (`Cz`). To confirm isolation, a separate analysis is required that we will address later under use-case 4 where we show isolating nonlinearity only in `Cz` is sufficient and reaches a performance similar to the above result from a flexible search over all nonlinearity combinations.\n",
    "\n",
    "\n",
    "### Using the learned model to estimate the latent state and predict future behavior and neural activity\n",
    "The `DPADModel` object (here `idSys`) stores the learned model in itself and after learning is done can be used to extract the latent states and decode behavior in new data. To do this, we use the 'predict' method in the learned model. We will then compare the prediction accuracy for behavior and neural activity with those of the true model."
   ]
  },
  {
   "cell_type": "code",
   "execution_count": 24,
   "metadata": {},
   "outputs": [
    {
     "name": "stdout",
     "output_type": "stream",
     "text": [
      "Computing predictions for the learned model\n",
      "625/625 [==============================] - 1s 809us/step\n",
      "625/625 [==============================] - 1s 868us/step\n",
      "Computing predictions for the true model (slower due to the analytical symbolic implementation of nonlinearity in the true model)\n"
     ]
    },
    {
     "name": "stderr",
     "output_type": "stream",
     "text": [
      "Estimating latent states: 100%|██████████| 20000/20000 [00:00<00:00, 42633.90it/s]\n",
      "applying Cz: 100%|██████████| 20000/20000 [00:16<00:00, 1224.77it/s]"
     ]
    },
    {
     "name": "stdout",
     "output_type": "stream",
     "text": [
      "Behavior decoding CC:\n",
      "  Flexible DPAD => 0.564, Ideal using true model => 0.565\n",
      "Neural self-prediction CC:\n",
      "  Flexible DPAD => 0.176, Ideal using true model => 0.177\n"
     ]
    },
    {
     "name": "stderr",
     "output_type": "stream",
     "text": [
      "\n"
     ]
    }
   ],
   "source": [
    "# Predict behavior and neural activity, from past neural activity, using the learned model\n",
    "print(\"Computing predictions for the learned model\")\n",
    "zTestPredF, yTestPredF, xTestPredF = idSysF.predict(yTest)\n",
    "\n",
    "# Compute CC of decoding and self-prediction\n",
    "zCCNonLinF = evalPrediction(zTest, zTestPredF, \"CC\")\n",
    "yCCNonLinF = evalPrediction(yTest, yTestPredF, \"CC\")\n",
    "\n",
    "# Decode behavior and do neural self-prediction using the true model for comparison\n",
    "print(\n",
    "    \"Computing predictions for the true model (slower due to the analytical symbolic implementation of nonlinearity in the true model)\"\n",
    ")\n",
    "zTestPredIdeal, yTestPredIdeal, xTestPredIdeal = trueModel.predict(yTest)\n",
    "zCCIdeal = evalPrediction(zTest, zTestPredIdeal, \"CC\")\n",
    "yCCIdeal = evalPrediction(yTest, yTestPredIdeal, \"CC\")\n",
    "\n",
    "print(\n",
    "    f\"Behavior decoding CC:\\n  Flexible DPAD => {np.mean(zCCNonLinF):.3g}, Ideal using true model => {np.mean(zCCIdeal):.3g}\"\n",
    ")\n",
    "print(\n",
    "    f\"Neural self-prediction CC:\\n  Flexible DPAD => {np.mean(yCCNonLinF):.3g}, Ideal using true model => {np.mean(yCCIdeal):.3g}\"\n",
    ")\n",
    "\n"
   ]
  },
  {
   "cell_type": "markdown",
   "metadata": {},
   "source": [
    "  As we see in the above printed accuracies, nonlinear DPAD has reached ideal behavior decoding and neural self-prediction accuracy."
   ]
  },
  {
   "cell_type": "markdown",
   "metadata": {},
   "source": [
    "  ### Visualizing the learned nonlinear parameter\n",
    "  Nonlinear DPAD with flexible nonlinearity reaches ideal behavior and neural self-prediction because it can accurately learn nonlinear parameters (assuming enough epochs are used during learning and optimization does not fall into local optima, more on this later). In this example model, the nonlinearity in the true model is only in the behavior readout parameter $C_z$. To see that this nonlinearity is correctly learned by DPAD, we will next plot the true and learned nonlinear functions for this parameter ($C_z$) in this simulation."
   ]
  },
  {
   "cell_type": "code",
   "execution_count": 25,
   "metadata": {},
   "outputs": [
    {
     "name": "stdout",
     "output_type": "stream",
     "text": [
      "313/313 [==============================] - 0s 847us/step\n"
     ]
    },
    {
     "name": "stderr",
     "output_type": "stream",
     "text": [
      "applying Cz: 100%|██████████| 10000/10000 [00:08<00:00, 1233.96it/s]\n"
     ]
    },
    {
     "data": {
      "image/png": "[encoded data removed]",
      "text/plain": [
       "<Figure size 800x600 with 1 Axes>"
      ]
     },
     "metadata": {},
     "output_type": "display_data"
    }
   ],
   "source": [
    "# Plot the true and learned nonlinear parameter\n",
    "max_samples = np.min([10000, zTestPredF.shape[0]])\n",
    "plot_model_params(\n",
    "    idSysF,\n",
    "    zTestPredF[:max_samples, :],\n",
    "    yTestPredF[:max_samples, :],\n",
    "    xTestPredF[:max_samples, :],\n",
    "    \"Nonlinear learning\\n\",\n",
    "    trueModel=trueModel,\n",
    "    ZTrue=zTestPredIdeal[:max_samples, :],\n",
    "    YTrue=yTestPredIdeal[:max_samples, :],\n",
    "    XTrue=xTestPredIdeal[:max_samples, :],\n",
    "    figsize=(8, 6),\n",
    "    show_hist_x=True,\n",
    "    show_hist_y=True,\n",
    "    x_keep_quantiles=[0.05, 0.95],\n",
    "    params_to_plot=[\"Cz\"],\n",
    ")\n",
    "\n"
   ]
  },
  {
   "cell_type": "markdown",
   "metadata": {},
   "source": [
    "   The distribution of inputs and outputs of $C_z$ in the true data are also shown as histograms on the horizontal and vertical axes, respectively. We see that DPAD very accurately learns the nonlinear behavior readout parameter $C_z$, which was the only nonlinear parameter in the simulated model in this example. Note that with more training samples and more training epochs the learned model will become more and more accurate. Using more hidden layers (e.g., 3 hidden layers) in $C_z$ also results in more accurate fit to the true function in these simulations. More example plots similar to this plot for other locations of nonlinearity are shown in **ED Fig. 2** in the [DPAD paper](https://doi.org/10.1038/s41593-024-01731-2)."
   ]
  },
  {
   "cell_type": "markdown",
   "metadata": {},
   "source": [
    "  ### Comparing with the linear DPAD model\n",
    "  Let's compare the behavior and neural predictions from the nonlinear DPAD model with the predictions from a linear DPAD model — note, as we show in the paper (**ED Fig. 1** in the [DPAD paper](https://doi.org/10.1038/s41593-024-01731-2)), linear DPAD does similarly to linear PSID and is thus used as the comparison linear modeling method to show the benefit of nonlinearity in dissociative and prioritized dynamical modeling. We don't expect a linear model to perform well because in this simulation the true model is nonlinear."
   ]
  },
  {
   "cell_type": "code",
   "execution_count": 26,
   "metadata": {},
   "outputs": [
    {
     "name": "stderr",
     "output_type": "stream",
     "text": [
      "\u001b[32m2024-10-25 19:46:53\u001b[0m \u001b[34mDPAD.DPADModel\u001b[0m [DPADModel.py > 1525] \u001b[1;30mINFO\u001b[0m Stage 1: Learning A11, K1, Cz1 (ZType: cont)\n",
      "\u001b[32m2024-10-25 19:46:53\u001b[0m \u001b[34mDPAD.RNNModel\u001b[0m [RNNModel.py > 1583] \u001b[1;30mINFO\u001b[0m Shifting output by 1 samples to train network for 1-step ahead prediction\n",
      "\u001b[32m2024-10-25 19:46:53\u001b[0m \u001b[34mDPAD.RNNModel\u001b[0m [RNNModel.py > 1743] \u001b[1;30mINFO\u001b[0m Have 45 batches each with 31 128-sample data segments (ny_in=1, ny_out=1, nft=0)\n",
      "\u001b[32m2024-10-25 19:47:04\u001b[0m \u001b[34mDPAD.tools.model_base_classes\u001b[0m [model_base_classes.py > 114] \u001b[1;30mINFO\u001b[0m Restoring model weights from the end of the best epoch: 15 (stopped at 17 epochs).\n",
      "\u001b[32m2024-10-25 19:47:04\u001b[0m \u001b[34mDPAD.tools.model_base_classes\u001b[0m [model_base_classes.py > 499] \u001b[1;30mINFO\u001b[0m \n",
      "Epoch 1/18 - loss=rnn_1step_loss=rnn_1step_mse=0.9999336, rnn_1step_R2_maskV_None=-0.00014840232, rnn_1step_CC_maskV_None=0.09540651, learning_rate=0.001\n",
      "Epoch 3/18 - loss=rnn_1step_loss=rnn_1step_mse=0.98778284, rnn_1step_R2_maskV_None=0.011997875, rnn_1step_CC_maskV_None=0.2962338, learning_rate=0.001\n",
      "Epoch 5/18 - loss=rnn_1step_loss=rnn_1step_mse=0.94948435, rnn_1step_R2_maskV_None=0.050270807, rnn_1step_CC_maskV_None=0.31512341, learning_rate=0.001\n",
      "Epoch 7/18 - loss=rnn_1step_loss=rnn_1step_mse=0.90825224, rnn_1step_R2_maskV_None=0.091448426, rnn_1step_CC_maskV_None=0.32349136, learning_rate=0.001\n",
      "Epoch 9/18 - loss=rnn_1step_loss=rnn_1step_mse=0.89609653, rnn_1step_R2_maskV_None=0.10356108, rnn_1step_CC_maskV_None=0.32326353, learning_rate=0.001\n",
      "Epoch 11/18 - loss=rnn_1step_loss=rnn_1step_mse=0.89514536, rnn_1step_R2_maskV_None=0.10450014, rnn_1step_CC_maskV_None=0.32371444, learning_rate=0.001\n",
      "Epoch 13/18 - loss=rnn_1step_loss=rnn_1step_mse=0.89501595, rnn_1step_R2_maskV_None=0.10462567, rnn_1step_CC_maskV_None=0.32384449, learning_rate=0.001\n",
      "Epoch 15/18 - loss=rnn_1step_loss=rnn_1step_mse=0.89500368, rnn_1step_R2_maskV_None=0.10463649, rnn_1step_CC_maskV_None=0.32385916, learning_rate=0.001\n",
      "Epoch 17/18 - loss=rnn_1step_loss=rnn_1step_mse=0.89500445, rnn_1step_R2_maskV_None=0.10463551, rnn_1step_CC_maskV_None=0.32385951, learning_rate=0.001\n",
      "Epoch 18/18 - loss=rnn_1step_loss=rnn_1step_mse=0.89500511, rnn_1step_R2_maskV_None=0.10463486, rnn_1step_CC_maskV_None=0.3238593, learning_rate=0.001\n",
      "\n",
      "\u001b[32m2024-10-25 19:47:04\u001b[0m \u001b[34mDPAD.tools.model_base_classes\u001b[0m [model_base_classes.py > 539] \u001b[1;30mINFO\u001b[0m Model fitting took 10.84s\n",
      "\u001b[32m2024-10-25 19:47:17\u001b[0m \u001b[34mDPAD.DPADModel\u001b[0m [DPADModel.py > 1557] \u001b[1;30mINFO\u001b[0m Training Z pred after fitting RNN1: \n",
      "1-step: MSE_maskV_None=0.894, R2_maskV_None=0.106, CC_maskV_None=0.325\n",
      "\u001b[32m2024-10-25 19:47:17\u001b[0m \u001b[34mDPAD.DPADModel\u001b[0m [DPADModel.py > 1659] \u001b[1;30mINFO\u001b[0m Stage 1: Learning Cy1 (YType: cont)\n",
      "\u001b[32m2024-10-25 19:48:08\u001b[0m \u001b[34mDPAD.tools.model_base_classes\u001b[0m [model_base_classes.py > 114] \u001b[1;30mINFO\u001b[0m Restoring model weights from the end of the best epoch: 7 (stopped at 9 epochs).\n",
      "\u001b[32m2024-10-25 19:48:08\u001b[0m \u001b[34mDPAD.tools.model_base_classes\u001b[0m [model_base_classes.py > 499] \u001b[1;30mINFO\u001b[0m \n",
      "Epoch 1/10 - loss=mse=1.0463237, R2_maskV_None=-0.086444274, CC_maskV_None=0.055778842, learning_rate=0.001\n",
      "Epoch 2/10 - loss=mse=0.99696267, R2_maskV_None=-0.030929904, CC_maskV_None=0.055637673, learning_rate=0.001\n",
      "Epoch 3/10 - loss=mse=0.99696112, R2_maskV_None=-0.03055628, CC_maskV_None=0.055971101, learning_rate=0.001\n",
      "Epoch 4/10 - loss=mse=0.99693882, R2_maskV_None=-0.031344566, CC_maskV_None=0.055458501, learning_rate=0.001\n",
      "Epoch 5/10 - loss=mse=0.99696898, R2_maskV_None=-0.032344315, CC_maskV_None=0.054872587, learning_rate=0.001\n",
      "Epoch 6/10 - loss=mse=0.99698663, R2_maskV_None=-0.031222733, CC_maskV_None=0.054459505, learning_rate=0.001\n",
      "Epoch 7/10 - loss=mse=0.9969328, R2_maskV_None=-0.032212656, CC_maskV_None=0.055184588, learning_rate=0.001\n",
      "Epoch 8/10 - loss=mse=0.99694747, R2_maskV_None=-0.032947253, CC_maskV_None=0.054368548, learning_rate=0.001\n",
      "Epoch 9/10 - loss=mse=0.99698496, R2_maskV_None=-0.031305987, CC_maskV_None=0.053541444, learning_rate=0.001\n",
      "Epoch 10/10 - loss=mse=0.9969666, R2_maskV_None=-0.031506713, CC_maskV_None=0.055144548, learning_rate=0.001\n",
      "\n",
      "\u001b[32m2024-10-25 19:48:08\u001b[0m \u001b[34mDPAD.tools.model_base_classes\u001b[0m [model_base_classes.py > 539] \u001b[1;30mINFO\u001b[0m Model fitting took 51.13s\n",
      "\u001b[32m2024-10-25 19:48:08\u001b[0m \u001b[34mDPAD.RegressionModel\u001b[0m [RegressionModel.py > 470] \u001b[1;30mINFO\u001b[0m Model fitting finished. Had 5625 batches each with batch_size of 32 samples each (ny_in=1, ny_out=1)\n"
     ]
    },
    {
     "name": "stdout",
     "output_type": "stream",
     "text": [
      "5625/5625 [==============================] - 5s 814us/step\n"
     ]
    },
    {
     "name": "stderr",
     "output_type": "stream",
     "text": [
      "\u001b[32m2024-10-25 19:48:15\u001b[0m \u001b[34mDPAD.DPADModel\u001b[0m [DPADModel.py > 1712] \u001b[1;30mINFO\u001b[0m Training Y pred after fitting model1_Cy: \n",
      "1-step: MSE_maskV_None=0.997, R2_maskV_None=0.00283, CC_maskV_None=0.0556\n"
     ]
    },
    {
     "name": "stdout",
     "output_type": "stream",
     "text": [
      "5625/5625 [==============================] - 5s 826us/step\n"
     ]
    },
    {
     "name": "stderr",
     "output_type": "stream",
     "text": [
      "\u001b[32m2024-10-25 19:48:22\u001b[0m \u001b[34mDPAD.DPADModel\u001b[0m [DPADModel.py > 1781] \u001b[1;30mINFO\u001b[0m Stage 2: Learning A12, A22, K2, Cy2 (YType: cont)\n",
      "\u001b[32m2024-10-25 19:48:22\u001b[0m \u001b[34mDPAD.RNNModel\u001b[0m [RNNModel.py > 1583] \u001b[1;30mINFO\u001b[0m Shifting output by 1 samples to train network for 1-step ahead prediction\n",
      "\u001b[32m2024-10-25 19:48:22\u001b[0m \u001b[34mDPAD.RNNModel\u001b[0m [RNNModel.py > 1743] \u001b[1;30mINFO\u001b[0m Have 45 batches each with 31 128-sample data segments (ny_in=2, ny_out=1, nft=0)\n",
      "\u001b[32m2024-10-25 19:48:53\u001b[0m \u001b[34mDPAD.tools.model_base_classes\u001b[0m [model_base_classes.py > 114] \u001b[1;30mINFO\u001b[0m Restoring model weights from the end of the best epoch: 36 (stopped at 38 epochs).\n",
      "\u001b[32m2024-10-25 19:48:53\u001b[0m \u001b[34mDPAD.tools.model_base_classes\u001b[0m [model_base_classes.py > 499] \u001b[1;30mINFO\u001b[0m \n",
      "Epoch 1/39 - loss=rnn_1_1step_loss=rnn_1_1step_mse=0.99516183, rnn_1_1step_R2_maskV_None=0.0041552968, rnn_1_1step_CC_maskV_None=0.070197061, learning_rate=0.001\n",
      "Epoch 5/39 - loss=rnn_1_1step_loss=rnn_1_1step_mse=0.97574693, rnn_1_1step_R2_maskV_None=0.023573909, rnn_1_1step_CC_maskV_None=0.15439703, learning_rate=0.001\n",
      "Epoch 9/39 - loss=rnn_1_1step_loss=rnn_1_1step_mse=0.96837991, rnn_1_1step_R2_maskV_None=0.030928288, rnn_1_1step_CC_maskV_None=0.17656183, learning_rate=0.001\n",
      "Epoch 13/39 - loss=rnn_1_1step_loss=rnn_1_1step_mse=0.96835244, rnn_1_1step_R2_maskV_None=0.030955646, rnn_1_1step_CC_maskV_None=0.1766398, learning_rate=0.001\n",
      "Epoch 17/39 - loss=rnn_1_1step_loss=rnn_1_1step_mse=0.96832776, rnn_1_1step_R2_maskV_None=0.030980675, rnn_1_1step_CC_maskV_None=0.17671052, learning_rate=0.001\n",
      "Epoch 21/39 - loss=rnn_1_1step_loss=rnn_1_1step_mse=0.96830589, rnn_1_1step_R2_maskV_None=0.031002559, rnn_1_1step_CC_maskV_None=0.17677617, learning_rate=0.001\n",
      "Epoch 25/39 - loss=rnn_1_1step_loss=rnn_1_1step_mse=0.96828812, rnn_1_1step_R2_maskV_None=0.031020321, rnn_1_1step_CC_maskV_None=0.17683229, learning_rate=0.001\n",
      "Epoch 29/39 - loss=rnn_1_1step_loss=rnn_1_1step_mse=0.96827662, rnn_1_1step_R2_maskV_None=0.031032203, rnn_1_1step_CC_maskV_None=0.17687306, learning_rate=0.001\n",
      "Epoch 33/39 - loss=rnn_1_1step_loss=rnn_1_1step_mse=0.96827102, rnn_1_1step_R2_maskV_None=0.031037865, rnn_1_1step_CC_maskV_None=0.17689659, learning_rate=0.001\n",
      "Epoch 37/39 - loss=rnn_1_1step_loss=rnn_1_1step_mse=0.96827036, rnn_1_1step_R2_maskV_None=0.031038705, rnn_1_1step_CC_maskV_None=0.17690609, learning_rate=0.001\n",
      "Epoch 39/39 - loss=rnn_1_1step_loss=rnn_1_1step_mse=0.9682712, rnn_1_1step_R2_maskV_None=0.031037997, rnn_1_1step_CC_maskV_None=0.1769073, learning_rate=0.001\n",
      "\n",
      "\u001b[32m2024-10-25 19:48:53\u001b[0m \u001b[34mDPAD.tools.model_base_classes\u001b[0m [model_base_classes.py > 539] \u001b[1;30mINFO\u001b[0m Model fitting took 30.62s\n",
      "\u001b[32m2024-10-25 19:49:09\u001b[0m \u001b[34mDPAD.DPADModel\u001b[0m [DPADModel.py > 1818] \u001b[1;30mINFO\u001b[0m Training Y pred after fitting RNN2: \n",
      "1-step: MSE_maskV_None=0.968, R2_maskV_None=0.0321, CC_maskV_None=0.179\n",
      "\u001b[32m2024-10-25 19:49:09\u001b[0m \u001b[34mDPAD.DPADModel\u001b[0m [DPADModel.py > 2017] \u001b[1;30mINFO\u001b[0m Stage 2: Learning Cz2 (ZType: cont)\n",
      "\u001b[32m2024-10-25 19:50:01\u001b[0m \u001b[34mDPAD.tools.model_base_classes\u001b[0m [model_base_classes.py > 114] \u001b[1;30mINFO\u001b[0m Restoring model weights from the end of the best epoch: 7 (stopped at 9 epochs).\n",
      "\u001b[32m2024-10-25 19:50:01\u001b[0m \u001b[34mDPAD.tools.model_base_classes\u001b[0m [model_base_classes.py > 499] \u001b[1;30mINFO\u001b[0m \n",
      "Epoch 1/10 - loss=mse=0.95408791, R2_maskV_None=-0.00064111379, CC_maskV_None=0.27392706, learning_rate=0.001\n",
      "Epoch 2/10 - loss=mse=0.89529401, R2_maskV_None=0.063791022, CC_maskV_None=0.30824319, learning_rate=0.001\n",
      "Epoch 3/10 - loss=mse=0.89481109, R2_maskV_None=0.064807013, CC_maskV_None=0.30793354, learning_rate=0.001\n",
      "Epoch 4/10 - loss=mse=0.89461261, R2_maskV_None=0.06441132, CC_maskV_None=0.30851394, learning_rate=0.001\n",
      "Epoch 5/10 - loss=mse=0.89451122, R2_maskV_None=0.064921476, CC_maskV_None=0.30855027, learning_rate=0.001\n",
      "Epoch 6/10 - loss=mse=0.89436555, R2_maskV_None=0.063940808, CC_maskV_None=0.30856094, learning_rate=0.001\n",
      "Epoch 7/10 - loss=mse=0.89436328, R2_maskV_None=0.064841338, CC_maskV_None=0.30926803, learning_rate=0.001\n",
      "Epoch 8/10 - loss=mse=0.89443934, R2_maskV_None=0.065882653, CC_maskV_None=0.30998647, learning_rate=0.001\n",
      "Epoch 9/10 - loss=mse=0.89439702, R2_maskV_None=0.064697161, CC_maskV_None=0.30943134, learning_rate=0.001\n",
      "Epoch 10/10 - loss=mse=0.89442641, R2_maskV_None=0.065478355, CC_maskV_None=0.30948913, learning_rate=0.001\n",
      "\n",
      "\u001b[32m2024-10-25 19:50:01\u001b[0m \u001b[34mDPAD.tools.model_base_classes\u001b[0m [model_base_classes.py > 539] \u001b[1;30mINFO\u001b[0m Model fitting took 51.92s\n",
      "\u001b[32m2024-10-25 19:50:01\u001b[0m \u001b[34mDPAD.RegressionModel\u001b[0m [RegressionModel.py > 470] \u001b[1;30mINFO\u001b[0m Model fitting finished. Had 5625 batches each with batch_size of 32 samples each (ny_in=3, ny_out=1)\n"
     ]
    },
    {
     "name": "stdout",
     "output_type": "stream",
     "text": [
      "5625/5625 [==============================] - 5s 865us/step\n",
      "5625/5625 [==============================] - 5s 874us/step\n"
     ]
    },
    {
     "name": "stderr",
     "output_type": "stream",
     "text": [
      "\u001b[32m2024-10-25 19:50:15\u001b[0m \u001b[34mDPAD.DPADModel\u001b[0m [DPADModel.py > 2064] \u001b[1;30mINFO\u001b[0m Training Z pred after fitting model2_Cz: \n",
      "1-step: MSE_maskV_None=0.895, R2_maskV_None=0.105, CC_maskV_None=0.324\n"
     ]
    },
    {
     "name": "stdout",
     "output_type": "stream",
     "text": [
      "625/625 [==============================] - 1s 792us/step\n",
      "625/625 [==============================] - 1s 833us/step\n"
     ]
    }
   ],
   "source": [
    "# Fit a fully linear model\n",
    "idSysLin = DPADModel()\n",
    "methodCodeLin = \"DPAD_Linear\"  # All parameters will be linear\n",
    "args = DPADModel.prepare_args(methodCodeLin)\n",
    "idSysLin.fit(yTrain.T, Z=zTrain.T, nx=nx, n1=n1, epochs=epochs, **args)\n",
    "\n",
    "# Predict behavior and neural activity, from past neural activity, using the learned model\n",
    "zTestPredLin, yTestPredLin, xTestPredLin = idSysLin.predict(yTest)"
   ]
  },
  {
   "cell_type": "code",
   "execution_count": 27,
   "metadata": {},
   "outputs": [
    {
     "name": "stdout",
     "output_type": "stream",
     "text": [
      "Behavior decoding CC:\n",
      "  Linear DPAD model => 0.31, Ideal using true model => 0.565\n",
      "Neural self-prediction CC:\n",
      "  Linear DPAD model => 0.176, Ideal using true model => 0.177\n"
     ]
    }
   ],
   "source": [
    "# Compute CC of decoding and self-prediction\n",
    "zCCLin = evalPrediction(zTest, zTestPredLin, \"CC\")\n",
    "yCCLin = evalPrediction(yTest, yTestPredLin, \"CC\")\n",
    "\n",
    "print(\n",
    "    \"Behavior decoding CC:\\n  Linear DPAD model => {:.3g}, Ideal using true model => {:.3g}\".format(\n",
    "        np.mean(zCCLin), np.mean(zCCIdeal)\n",
    "    )\n",
    ")\n",
    "print(\n",
    "    \"Neural self-prediction CC:\\n  Linear DPAD model => {:.3g}, Ideal using true model => {:.3g}\".format(\n",
    "        np.mean(yCCLin), np.mean(yCCIdeal)\n",
    "    )\n",
    ")\n",
    "\n"
   ]
  },
  {
   "cell_type": "code",
   "execution_count": 28,
   "metadata": {},
   "outputs": [],
   "source": [
    "# Let's plot the predictions and compare with ideal\n",
    "def plotDecoding(zCCVals, labels, cols, zPerfMeasure=\"CC\", ax=None, figsize=(4, 4)):\n",
    "    if ax is None:\n",
    "        fig = plt.figure(figsize=figsize)\n",
    "        ax = fig.add_subplot(1, 1, 1)\n",
    "    prepAxesStyle(ax)\n",
    "    # Make bar plot of zCC values\n",
    "    barlist = ax.bar(np.arange(len(zCCVals)), zCCVals, alpha=0.5)\n",
    "    ax.set_xticks(np.arange(len(zCCVals)))\n",
    "    ax.set_xticklabels([L.replace(\"_\", \"\\n\") for L in labels])\n",
    "    for mi in range(len(barlist)):\n",
    "        barlist[mi].set_color(cols[mi])\n",
    "    ax.set_ylabel(f\"Behavior decoding {zPerfMeasure}\", fontsize=14)\n",
    "    ax.set_xlabel(\"\", fontsize=14)\n",
    "    ax.set_title(\"Behavior decoding\", fontsize=14)\n",
    "    ax.tick_params(axis=\"both\", labelsize=14)\n",
    "    if ax is None:\n",
    "        plt.show()\n",
    "\n",
    "\n",
    "def plotDecodingVsSelfPred(\n",
    "    zCCVals,\n",
    "    yCCVals,\n",
    "    labels,\n",
    "    cols,\n",
    "    zPerfMeasure=\"CC\",\n",
    "    yPerfMeasure=\"CC\",\n",
    "    ax=None,\n",
    "    figsize=(8, 4),\n",
    "):\n",
    "    if ax is None:\n",
    "        fig = plt.figure(figsize=figsize)\n",
    "        ax = fig.add_subplot(1, 2, 1)\n",
    "    prepAxesStyle(ax)\n",
    "    # Make scatter plot of zCC and yCC values\n",
    "    for mi in range(len(yCCVals)):\n",
    "        style_args = {\"marker\": [\"x\", \"+\", \"o\"][mi % 3], \"s\": [60, 100, 60][mi % 3]}\n",
    "        if mi % 3 == 2:\n",
    "            style_args[\"facecolors\"] = \"none\"\n",
    "        ax.scatter(\n",
    "            yCCVals[mi],\n",
    "            zCCVals[mi],\n",
    "            color=cols[mi],\n",
    "            label=\"\\n\" + labels[mi],\n",
    "            **style_args,\n",
    "        )\n",
    "    ax.set_xlabel(f\"Neural self-prediction {yPerfMeasure}\", fontsize=14)\n",
    "    ax.set_ylabel(f\"Behavior decoding {zPerfMeasure}\", fontsize=14)\n",
    "    ax.set_title(\"Neural-behavior prediction\", fontsize=14)\n",
    "    ax.tick_params(axis=\"both\", labelsize=14)\n",
    "    xlim = ax.get_xlim()\n",
    "    if np.diff(xlim) < 0.1:\n",
    "        ax.set_xlim(\n",
    "            np.array([np.min(yCCVals), np.max(yCCVals)]) + 0.05 * np.array([-1, 1])\n",
    "        )\n",
    "    ylim = ax.get_ylim()\n",
    "    if np.diff(ylim) < 0.1:\n",
    "        ax.set_ylim(\n",
    "            np.array([np.min(zCCVals), np.max(zCCVals)]) + 0.05 * np.array([-1, 1])\n",
    "        )\n",
    "    ax.legend(\n",
    "        bbox_to_anchor=(1.04, 0.5), loc=\"center left\", borderaxespad=0, fontsize=14\n",
    "    )\n",
    "    if ax is None:\n",
    "        plt.show()\n",
    "\n",
    "\n",
    "def plotDecodingAndSelfPred(\n",
    "    zCCVals,\n",
    "    yCCVals,\n",
    "    labels,\n",
    "    cols,\n",
    "    zPerfMeasure=\"CC\",\n",
    "    yPerfMeasure=\"CC\",\n",
    "    ax=None,\n",
    "    figsize=(12, 4),\n",
    "):\n",
    "    fig = plt.figure(figsize=figsize)\n",
    "    fig.subplots_adjust(wspace=0.4)\n",
    "    ax = fig.add_subplot(1, 3, 1)\n",
    "    plotDecoding(zCCVals, labels, cols, zPerfMeasure=zPerfMeasure, ax=ax)\n",
    "    ax = fig.add_subplot(1, 3, 2)\n",
    "    plotDecodingVsSelfPred(\n",
    "        zCCVals,\n",
    "        yCCVals,\n",
    "        labels,\n",
    "        cols,\n",
    "        zPerfMeasure=zPerfMeasure,\n",
    "        yPerfMeasure=yPerfMeasure,\n",
    "        ax=ax,\n",
    "    )\n",
    "    plt.show()\n",
    "\n"
   ]
  },
  {
   "cell_type": "code",
   "execution_count": 29,
   "metadata": {},
   "outputs": [
    {
     "data": {
      "image/png": "[encoded data removed]",
      "text/plain": [
       "<Figure size 1200x400 with 2 Axes>"
      ]
     },
     "metadata": {},
     "output_type": "display_data"
    }
   ],
   "source": [
    "zCCValsL = [np.mean(zCCIdeal), np.mean(zCCNonLinF), np.mean(zCCLin)]\n",
    "yCCValsL = [np.mean(yCCIdeal), np.mean(yCCNonLinF), np.mean(yCCLin)]\n",
    "labelsL = [\"Ideal\", \"DPAD\\nwith\\nFlexible\\nNonlinearity\", \"Linear\\nDPAD\"]\n",
    "colsL = [\"#010101\", \"#1d5925\", \"#39b54a\"]\n",
    "plotDecodingAndSelfPred(zCCValsL, yCCValsL, labelsL, colsL)\n",
    "\n"
   ]
  },
  {
   "cell_type": "markdown",
   "metadata": {},
   "source": [
    "  We clearly see that as expected since in this simulation the behavior readout $C_z$ is nonlinear, a linear model can only learn accurate neural self-prediction but would fail to reach an ideal behavior decoding performance. In contrast, nonlinear DPAD can reach ideal performance (similar to the true model) both in terms of behavior decoding and in terms of neural self-prediction."
   ]
  },
  {
   "cell_type": "markdown",
   "metadata": {},
   "source": [
    " ### Tips for avoiding optimization issues\n",
    " As noted above, having more and more training data of course helps increase the chances that the model learns an accurate and complete description of the data statistics, which also generalizes to test data. Beyond that, the following are some tips for avoiding issues that are typical for any numerical optimization:\n",
    " 1. As with any other numerical optimization solved with gradient descent, adjusting the optimizer (e.g. `AdamW`) and its parameters (learning rate, weight decay, etc.) to be suitable for the data can help reduce the chance of getting stuck in local optima. DPAD provides control of the optimizer and its parameter via the parameters of `DPADModel.fit`. Please also see `DPADModel.prepare_args` and the method `parseMethodCodeArgOptimizer` used inside it on how the optimizer settings can be specified simply by changing the `methodCode` string passed to `DPADModel.prepare_args`.\n",
    " 2. Retrying the model fitting with different random initializations and picking the outcome with the best final training data accuracy is another way to reduce the chance of falling into local optima. DPAD allows this via the `init_attempts` argument to `DPADModel.fit`. This can also be specified by including `RTR{init_attempts}` in the `methodCode` string passed to `DPADModel.prepare_argsgs`. We recommend at least `RTR2`.\n",
    " 3. Early stopping criteria: by default training stops when the *training* loss does not improve for 3 consecutive epochs (each epoch is running gradient descent once over the whole data). This is not the best option because it may stop training too early. Simply increasing early stopping but still doing it based on *training* loss, it will lead to overfitting. The more reliable setting is to have longer early stopping, but based on a validation data (a part of the training data that we set aside from the optimization in the beginning just for this purpose). To do this, check the parameters of `DPADModel.fit`. Alternatively, add `ErSV{early_stopping_epochs}` to the `methodCode`. For example, adding `ErSV16` will stop training when the validation loss (loss on the last 20% of training data that is initially set aside) does not improve for 16 epochs."
   ]
  },
  {
   "cell_type": "markdown",
   "metadata": {},
   "source": [
    "   ## Use-case 2: Extracting behavior-predictive nonlinear features from raw LFP\n",
    "  As **Fig. 2** in the [DPAD paper](https://doi.org/10.1038/s41593-024-01731-2) shows, DPAD can extend across various neural modalities including spiking, LFP power and raw LFP modalities. In each case, we can use DPAD to quantify the improvement in behavior decoding obtained by going from a linear model to a nonlinear model for the neural-behavioral transformation. Using DPAD, we find that raw LFP gains the most from adding nonlinearity (**Fig. 2**). Also, DPAD extracts nonlinear features from raw LFP that are more behavior-predictive than traditional LFP power features, and sometimes even outperform spiking activity (**Fig. 2**). Our results suggest that the dynamical nonlinear LFP transformations uncovered by DPAD capture the encoding of behavior in LFP more accurately than the traditional nonlinear band power transformations."
   ]
  },
  {
   "cell_type": "markdown",
   "metadata": {},
   "source": [
    "   ## Use-case 3: Nonlinear and prioritized dynamic dimensionality reduction\n",
    "  As **Fig. 5** in the [DPAD paper](https://doi.org/10.1038/s41593-024-01731-2) demonstrates, DPAD enables a dynamic nonlinear dimensionality reduction that extracts behavior-predictive latent states by prioritizing them. Here, the simulated data shown in this notebook is generated from a nonlinear model with $n_x=4$ state dimensions, out of which only $n_1=1$ contribute to the generation of behavior. We will next show the dimension reduction capability of DPAD by fitting models with only 1 total latent state dimension and comparing the results with an RNN of the same latent state dimension that is fitted without prioritization of behaviorally relevant neural dynamics (referred to as NDM, [**Methods**](https://doi.org/10.1038/s41593-024-01731-2)). We also compare the results with the true model that has 4 latent state dimensions. Moreover, for ease of exposition, for both DPAD and NDM we put the nonlinearity in the correct location (consistent with the true simulated model in this example), which is in the behavior readout parameter $C_z$."
   ]
  },
  {
   "cell_type": "code",
   "execution_count": 30,
   "metadata": {},
   "outputs": [],
   "source": [
    "# First to make comparisons easier, we create a function that repeats model fitting for a list of methods\n",
    "def run_methods(\n",
    "    methodCodesToTry,\n",
    "    nx,\n",
    "    n1Vals,\n",
    "    zPerfMeasure=\"CC\",\n",
    "    yPerfMeasure=\"CC\",\n",
    "    zTrainThis=None,\n",
    "    zTestThis=None,\n",
    "):\n",
    "    if zTrainThis is None:\n",
    "        zTrainThis = zTrain\n",
    "    if zTestThis is None:\n",
    "        zTestThis = zTest\n",
    "    zPerfAll = []\n",
    "    yPerfAll = []\n",
    "    labels = []\n",
    "    idSysAll = []\n",
    "    for mi, methodCode in enumerate(methodCodesToTry):\n",
    "        thisN1 = n1Vals[mi % len(n1Vals)]\n",
    "        print(\n",
    "            f\"Working on {methodCode}, with nx={nx}\"\n",
    "            + (f\" and n1={thisN1}\" if \"DPAD\" in methodCode else \"\")\n",
    "        )\n",
    "        args = DPADModel.prepare_args(methodCode)\n",
    "        idSysThis = DPADModel()\n",
    "        idSysThis.fit(yTrain.T, Z=zTrainThis.T, nx=nx, n1=thisN1, epochs=epochs, **args)\n",
    "\n",
    "        # Predict behavior and neural activity, from past neural activity, using the learned model\n",
    "        zTestPred, yTestPred, xTestPred = idSysThis.predict(yTest)\n",
    "\n",
    "        # Compute CC of decoding and self-prediction\n",
    "        zPerf = evalPrediction(zTestThis, zTestPred, zPerfMeasure)\n",
    "        yPerf = evalPrediction(yTest, yTestPred, yPerfMeasure)\n",
    "\n",
    "        print(\n",
    "            f\"{methodCode} => Behavior decoding {zPerfMeasure}: {np.mean(zPerf):.3g}, Neural self-prediction {yPerfMeasure}: {np.mean(yPerf):.3g}\"\n",
    "        )\n",
    "\n",
    "        zPerfAll.append(zPerf)\n",
    "        yPerfAll.append(yPerf)\n",
    "        labels.append(methodCode.replace(\"_\", \"\\n\") + f\"\\nnx={nx}\")\n",
    "        idSysAll.append(idSysThis)\n",
    "    return zPerfAll, yPerfAll, labels, idSysAll\n",
    "\n"
   ]
  },
  {
   "cell_type": "code",
   "execution_count": 31,
   "metadata": {},
   "outputs": [
    {
     "name": "stdout",
     "output_type": "stream",
     "text": [
      "Working on DPAD_CzNonLin, with nx=1 and n1=1\n"
     ]
    },
    {
     "name": "stderr",
     "output_type": "stream",
     "text": [
      "\u001b[32m2024-10-25 19:50:19\u001b[0m \u001b[34mDPAD.DPADModel\u001b[0m [DPADModel.py > 1525] \u001b[1;30mINFO\u001b[0m Stage 1: Learning A11, K1, Cz1 (ZType: cont)\n",
      "\u001b[32m2024-10-25 19:50:19\u001b[0m \u001b[34mDPAD.RNNModel\u001b[0m [RNNModel.py > 1583] \u001b[1;30mINFO\u001b[0m Shifting output by 1 samples to train network for 1-step ahead prediction\n",
      "\u001b[32m2024-10-25 19:50:19\u001b[0m \u001b[34mDPAD.RNNModel\u001b[0m [RNNModel.py > 1743] \u001b[1;30mINFO\u001b[0m Have 45 batches each with 31 128-sample data segments (ny_in=1, ny_out=1, nft=0)\n",
      "\u001b[32m2024-10-25 19:54:19\u001b[0m \u001b[34mDPAD.tools.model_base_classes\u001b[0m [model_base_classes.py > 114] \u001b[1;30mINFO\u001b[0m Restoring model weights from the end of the best epoch: 304 (stopped at 306 epochs).\n",
      "\u001b[32m2024-10-25 19:54:19\u001b[0m \u001b[34mDPAD.tools.model_base_classes\u001b[0m [model_base_classes.py > 499] \u001b[1;30mINFO\u001b[0m \n",
      "Epoch 1/307 - loss=rnn_1step_loss=rnn_1step_mse=0.99779677, rnn_1step_R2_maskV_None=0.0019997836, rnn_1step_CC_maskV_None=0.27276608, learning_rate=0.001\n",
      "Epoch 32/307 - loss=rnn_1step_loss=rnn_1step_mse=0.67671072, rnn_1step_R2_maskV_None=0.32295364, rnn_1step_CC_maskV_None=0.56885511, learning_rate=0.001\n",
      "Epoch 63/307 - loss=rnn_1step_loss=rnn_1step_mse=0.6763202, rnn_1step_R2_maskV_None=0.32334599, rnn_1step_CC_maskV_None=0.56914967, learning_rate=0.001\n",
      "Epoch 94/307 - loss=rnn_1step_loss=rnn_1step_mse=0.67624092, rnn_1step_R2_maskV_None=0.32342577, rnn_1step_CC_maskV_None=0.5692125, learning_rate=0.001\n",
      "Epoch 125/307 - loss=rnn_1step_loss=rnn_1step_mse=0.67612994, rnn_1step_R2_maskV_None=0.32353705, rnn_1step_CC_maskV_None=0.56930578, learning_rate=0.001\n",
      "Epoch 156/307 - loss=rnn_1step_loss=rnn_1step_mse=0.67602652, rnn_1step_R2_maskV_None=0.32364053, rnn_1step_CC_maskV_None=0.56939179, learning_rate=0.001\n",
      "Epoch 187/307 - loss=rnn_1step_loss=rnn_1step_mse=0.67594582, rnn_1step_R2_maskV_None=0.32372147, rnn_1step_CC_maskV_None=0.56946129, learning_rate=0.001\n",
      "Epoch 218/307 - loss=rnn_1step_loss=rnn_1step_mse=0.67588949, rnn_1step_R2_maskV_None=0.32377788, rnn_1step_CC_maskV_None=0.56951046, learning_rate=0.001\n",
      "Epoch 249/307 - loss=rnn_1step_loss=rnn_1step_mse=0.67582273, rnn_1step_R2_maskV_None=0.32384449, rnn_1step_CC_maskV_None=0.56956899, learning_rate=0.001\n",
      "Epoch 280/307 - loss=rnn_1step_loss=rnn_1step_mse=0.67566156, rnn_1step_R2_maskV_None=0.32400513, rnn_1step_CC_maskV_None=0.56971729, learning_rate=0.001\n",
      "Epoch 307/307 - loss=rnn_1step_loss=rnn_1step_mse=0.675632, rnn_1step_R2_maskV_None=0.32403496, rnn_1step_CC_maskV_None=0.56973851, learning_rate=0.001\n",
      "\n",
      "\u001b[32m2024-10-25 19:54:19\u001b[0m \u001b[34mDPAD.tools.model_base_classes\u001b[0m [model_base_classes.py > 539] \u001b[1;30mINFO\u001b[0m Model fitting took 239.89s\n",
      "\u001b[32m2024-10-25 19:54:34\u001b[0m \u001b[34mDPAD.DPADModel\u001b[0m [DPADModel.py > 1557] \u001b[1;30mINFO\u001b[0m Training Z pred after fitting RNN1: \n",
      "1-step: MSE_maskV_None=0.671, R2_maskV_None=0.329, CC_maskV_None=0.574\n",
      "\u001b[32m2024-10-25 19:54:34\u001b[0m \u001b[34mDPAD.DPADModel\u001b[0m [DPADModel.py > 1659] \u001b[1;30mINFO\u001b[0m Stage 1: Learning Cy1 (YType: cont)\n",
      "\u001b[32m2024-10-25 19:55:25\u001b[0m \u001b[34mDPAD.tools.model_base_classes\u001b[0m [model_base_classes.py > 114] \u001b[1;30mINFO\u001b[0m Restoring model weights from the end of the best epoch: 7 (stopped at 9 epochs).\n",
      "\u001b[32m2024-10-25 19:55:25\u001b[0m \u001b[34mDPAD.tools.model_base_classes\u001b[0m [model_base_classes.py > 499] \u001b[1;30mINFO\u001b[0m \n",
      "Epoch 1/10 - loss=mse=1.0817968, R2_maskV_None=-0.12530029, CC_maskV_None=0.056239832, learning_rate=0.001\n",
      "Epoch 2/10 - loss=mse=0.99693114, R2_maskV_None=-0.03090073, CC_maskV_None=0.056099869, learning_rate=0.001\n",
      "Epoch 3/10 - loss=mse=0.99693471, R2_maskV_None=-0.030537121, CC_maskV_None=0.056432545, learning_rate=0.001\n",
      "Epoch 4/10 - loss=mse=0.99690545, R2_maskV_None=-0.031313848, CC_maskV_None=0.05592034, learning_rate=0.001\n",
      "Epoch 5/10 - loss=mse=0.99694377, R2_maskV_None=-0.032330271, CC_maskV_None=0.055338133, learning_rate=0.001\n",
      "Epoch 6/10 - loss=mse=0.99696833, R2_maskV_None=-0.031205008, CC_maskV_None=0.054920241, learning_rate=0.001\n",
      "Epoch 7/10 - loss=mse=0.99689496, R2_maskV_None=-0.032168657, CC_maskV_None=0.055650402, learning_rate=0.001\n",
      "Epoch 8/10 - loss=mse=0.99691856, R2_maskV_None=-0.03293075, CC_maskV_None=0.054827522, learning_rate=0.001\n",
      "Epoch 9/10 - loss=mse=0.99696195, R2_maskV_None=-0.031287577, CC_maskV_None=0.054007735, learning_rate=0.001\n",
      "Epoch 10/10 - loss=mse=0.99693906, R2_maskV_None=-0.031479195, CC_maskV_None=0.055612814, learning_rate=0.001\n",
      "\n",
      "\u001b[32m2024-10-25 19:55:25\u001b[0m \u001b[34mDPAD.tools.model_base_classes\u001b[0m [model_base_classes.py > 539] \u001b[1;30mINFO\u001b[0m Model fitting took 50.45s\n",
      "\u001b[32m2024-10-25 19:55:25\u001b[0m \u001b[34mDPAD.RegressionModel\u001b[0m [RegressionModel.py > 470] \u001b[1;30mINFO\u001b[0m Model fitting finished. Had 5625 batches each with batch_size of 32 samples each (ny_in=1, ny_out=1)\n"
     ]
    },
    {
     "name": "stdout",
     "output_type": "stream",
     "text": [
      "5625/5625 [==============================] - 5s 877us/step\n"
     ]
    },
    {
     "name": "stderr",
     "output_type": "stream",
     "text": [
      "\u001b[32m2024-10-25 19:55:32\u001b[0m \u001b[34mDPAD.DPADModel\u001b[0m [DPADModel.py > 1712] \u001b[1;30mINFO\u001b[0m Training Y pred after fitting model1_Cy: \n",
      "1-step: MSE_maskV_None=0.997, R2_maskV_None=0.00288, CC_maskV_None=0.0561\n"
     ]
    },
    {
     "name": "stdout",
     "output_type": "stream",
     "text": [
      "5625/5625 [==============================] - 5s 838us/step\n",
      "625/625 [==============================] - 1s 802us/step\n",
      "DPAD_CzNonLin => Behavior decoding CC: 0.564, Neural self-prediction CC: 0.0483\n",
      "Working on NDM_CzNonLin, with nx=1\n"
     ]
    },
    {
     "name": "stderr",
     "output_type": "stream",
     "text": [
      "\u001b[32m2024-10-25 19:55:41\u001b[0m \u001b[34mDPAD.DPADModel\u001b[0m [DPADModel.py > 1781] \u001b[1;30mINFO\u001b[0m Stage 2: Learning A12, A22, K2, Cy2 (YType: cont)\n",
      "\u001b[32m2024-10-25 19:55:41\u001b[0m \u001b[34mDPAD.RNNModel\u001b[0m [RNNModel.py > 1583] \u001b[1;30mINFO\u001b[0m Shifting output by 1 samples to train network for 1-step ahead prediction\n",
      "\u001b[32m2024-10-25 19:55:41\u001b[0m \u001b[34mDPAD.RNNModel\u001b[0m [RNNModel.py > 1743] \u001b[1;30mINFO\u001b[0m Have 45 batches each with 31 128-sample data segments (ny_in=1, ny_out=1, nft=0)\n",
      "\u001b[32m2024-10-25 19:55:52\u001b[0m \u001b[34mDPAD.tools.model_base_classes\u001b[0m [model_base_classes.py > 114] \u001b[1;30mINFO\u001b[0m Restoring model weights from the end of the best epoch: 13 (stopped at 15 epochs).\n",
      "\u001b[32m2024-10-25 19:55:52\u001b[0m \u001b[34mDPAD.tools.model_base_classes\u001b[0m [model_base_classes.py > 499] \u001b[1;30mINFO\u001b[0m \n",
      "Epoch 1/16 - loss=rnn_1step_loss=0.99896455, rnn_1step_R2_maskV_None=0.00034890836, rnn_1step_CC_maskV_None=0.11471912, rnn_1step_mse=0.99896449, learning_rate=0.001\n",
      "Epoch 3/16 - loss=rnn_1step_loss=rnn_1step_mse=0.99377221, rnn_1step_R2_maskV_None=0.0055446136, rnn_1step_CC_maskV_None=0.11905371, learning_rate=0.001\n",
      "Epoch 5/16 - loss=rnn_1step_loss=rnn_1step_mse=0.98708129, rnn_1step_R2_maskV_None=0.012239259, rnn_1step_CC_maskV_None=0.11975823, learning_rate=0.001\n",
      "Epoch 7/16 - loss=rnn_1step_loss=rnn_1step_mse=0.98525655, rnn_1step_R2_maskV_None=0.014064927, rnn_1step_CC_maskV_None=0.11976077, learning_rate=0.001\n",
      "Epoch 9/16 - loss=rnn_1step_loss=0.98517382, rnn_1step_R2_maskV_None=0.014147523, rnn_1step_CC_maskV_None=0.11976345, rnn_1step_mse=0.98517394, learning_rate=0.001\n",
      "Epoch 11/16 - loss=rnn_1step_loss=0.98517281, rnn_1step_R2_maskV_None=0.014148826, rnn_1step_CC_maskV_None=0.11976393, rnn_1step_mse=0.98517269, learning_rate=0.001\n",
      "Epoch 13/16 - loss=rnn_1step_loss=rnn_1step_mse=0.98517263, rnn_1step_R2_maskV_None=0.014148708, rnn_1step_CC_maskV_None=0.11976425, learning_rate=0.001\n",
      "Epoch 15/16 - loss=rnn_1step_loss=rnn_1step_mse=0.98517299, rnn_1step_R2_maskV_None=0.014148558, rnn_1step_CC_maskV_None=0.11976443, learning_rate=0.001\n",
      "Epoch 16/16 - loss=rnn_1step_loss=rnn_1step_mse=0.98517299, rnn_1step_R2_maskV_None=0.014148486, rnn_1step_CC_maskV_None=0.11976451, learning_rate=0.001\n",
      "\n",
      "\u001b[32m2024-10-25 19:55:52\u001b[0m \u001b[34mDPAD.tools.model_base_classes\u001b[0m [model_base_classes.py > 539] \u001b[1;30mINFO\u001b[0m Model fitting took 10.99s\n",
      "\u001b[32m2024-10-25 19:56:07\u001b[0m \u001b[34mDPAD.DPADModel\u001b[0m [DPADModel.py > 1818] \u001b[1;30mINFO\u001b[0m Training Y pred after fitting RNN2: \n",
      "1-step: MSE_maskV_None=0.986, R2_maskV_None=0.0145, CC_maskV_None=0.12\n",
      "\u001b[32m2024-10-25 19:56:07\u001b[0m \u001b[34mDPAD.DPADModel\u001b[0m [DPADModel.py > 2017] \u001b[1;30mINFO\u001b[0m Stage 2: Learning Cz2 (ZType: cont)\n",
      "\u001b[32m2024-10-25 19:58:05\u001b[0m \u001b[34mDPAD.tools.model_base_classes\u001b[0m [model_base_classes.py > 114] \u001b[1;30mINFO\u001b[0m Restoring model weights from the end of the best epoch: 16 (stopped at 18 epochs).\n",
      "\u001b[32m2024-10-25 19:58:05\u001b[0m \u001b[34mDPAD.tools.model_base_classes\u001b[0m [model_base_classes.py > 499] \u001b[1;30mINFO\u001b[0m \n",
      "Epoch 1/19 - loss=mse=0.92667317, R2_maskV_None=0.034249082, CC_maskV_None=0.26490051, learning_rate=0.001\n",
      "Epoch 3/19 - loss=mse=0.92488897, R2_maskV_None=0.036758028, CC_maskV_None=0.26462311, learning_rate=0.001\n",
      "Epoch 5/19 - loss=mse=0.92438692, R2_maskV_None=0.037520528, CC_maskV_None=0.26605695, learning_rate=0.001\n",
      "Epoch 7/19 - loss=mse=0.92421544, R2_maskV_None=0.03767933, CC_maskV_None=0.26671946, learning_rate=0.001\n",
      "Epoch 9/19 - loss=mse=0.92417932, R2_maskV_None=0.037289333, CC_maskV_None=0.26722431, learning_rate=0.001\n",
      "Epoch 11/19 - loss=mse=0.9240967, R2_maskV_None=0.036539838, CC_maskV_None=0.26560107, learning_rate=0.001\n",
      "Epoch 13/19 - loss=mse=0.9239192, R2_maskV_None=0.038131118, CC_maskV_None=0.26788476, learning_rate=0.001\n",
      "Epoch 15/19 - loss=mse=0.92373532, R2_maskV_None=0.036911245, CC_maskV_None=0.26524216, learning_rate=0.001\n",
      "Epoch 17/19 - loss=mse=0.92400384, R2_maskV_None=0.036373254, CC_maskV_None=0.26655081, learning_rate=0.001\n",
      "Epoch 19/19 - loss=mse=0.92388254, R2_maskV_None=0.035804149, CC_maskV_None=0.26626712, learning_rate=0.001\n",
      "\n",
      "\u001b[32m2024-10-25 19:58:05\u001b[0m \u001b[34mDPAD.tools.model_base_classes\u001b[0m [model_base_classes.py > 539] \u001b[1;30mINFO\u001b[0m Model fitting took 118.13s\n",
      "\u001b[32m2024-10-25 19:58:05\u001b[0m \u001b[34mDPAD.RegressionModel\u001b[0m [RegressionModel.py > 470] \u001b[1;30mINFO\u001b[0m Model fitting finished. Had 5625 batches each with batch_size of 32 samples each (ny_in=1, ny_out=1)\n"
     ]
    },
    {
     "name": "stdout",
     "output_type": "stream",
     "text": [
      "5625/5625 [==============================] - 5s 963us/step\n",
      "5625/5625 [==============================] - 5s 968us/step\n"
     ]
    },
    {
     "name": "stderr",
     "output_type": "stream",
     "text": [
      "\u001b[32m2024-10-25 19:58:21\u001b[0m \u001b[34mDPAD.DPADModel\u001b[0m [DPADModel.py > 2064] \u001b[1;30mINFO\u001b[0m Training Z pred after fitting model2_Cz: \n",
      "1-step: MSE_maskV_None=0.923, R2_maskV_None=0.0767, CC_maskV_None=0.278\n"
     ]
    },
    {
     "name": "stdout",
     "output_type": "stream",
     "text": [
      "625/625 [==============================] - 1s 911us/step\n",
      "NDM_CzNonLin => Behavior decoding CC: 0.269, Neural self-prediction CC: 0.116\n"
     ]
    }
   ],
   "source": [
    "zCCAll, yCCAll, labels, idSysAll = run_methods(\n",
    "    [\n",
    "        \"DPAD_CzNonLin\",  # Prioritized DPAD model with nonlinearity in Cz\n",
    "        \"NDM_CzNonLin\",  # Non-prioritized neural dynamic model (NDM) with nonlinearity in Cz\n",
    "        # (NDM is a standard RNN model as described in manuscript)\n",
    "    ],\n",
    "    nx=n1,  # We use the same low latent state dimension (i.e. n1) for both methods\n",
    "    n1Vals=[n1, 0],\n",
    ")  # DPAD can also implement NDM as a special case when n1=0\n",
    "# (i.e, when only optimization steps 3-4 are used for RNN training)\n",
    "\n"
   ]
  },
  {
   "cell_type": "code",
   "execution_count": 32,
   "metadata": {},
   "outputs": [
    {
     "data": {
      "image/png": "[encoded data removed]",
      "text/plain": [
       "<Figure size 400x400 with 1 Axes>"
      ]
     },
     "metadata": {},
     "output_type": "display_data"
    }
   ],
   "source": [
    "zCCValsP = [np.mean(zCCIdeal)] + [np.mean(v) for v in zCCAll]\n",
    "labelsP = [\"Ideal\"] + labels\n",
    "colsP = [\"#010101\", \"#ee2a7b\", \"#ff7f0e\"]\n",
    "labelsP2 = [L.replace(\"NonLin\", \"\\nNonlinear\") for L in labelsP]\n",
    "plotDecoding(zCCValsP, labelsP2, colsP)\n",
    "\n"
   ]
  },
  {
   "cell_type": "markdown",
   "metadata": {},
   "source": [
    "  As we can see, DPAD can learn models with low-dimensional latent states that are more behavior-predictive than models learned by methods that do not prioritize the learning of behaviorally relevant neural dynamics. This enables more behavior-predictive dynamic nonlinear dimensionality reduction as another use-case of DPAD. As the manuscript shows, DPAD extracted latent states that were lower-dimensional yet more behavior-predictive than both nonlinear NDM and linear DPAD."
   ]
  },
  {
   "cell_type": "markdown",
   "metadata": {},
   "source": [
    "   ## Use-case 4: Testing hypotheses regarding the origin of nonlinearity in the dynamic neural-behavioral transformation\n",
    "   As **Fig. 6** and **ED Fig. 2** in the [DPAD paper](https://doi.org/10.1038/s41593-024-01731-2) show, DPAD also allows flexible control over nonlinearities: it can make each model parameter linear or nonlinear independent of the other parameters. This flexible control allows us to fit alternative DPAD models with nonlinearity in different model parameters and compare them in terms of cross-validated behavior decoding and neural self-prediction to test hypotheses about where in the neural-behavioral transformation the nonlinearity can be isolated to."
   ]
  },
  {
   "cell_type": "code",
   "execution_count": 33,
   "metadata": {},
   "outputs": [
    {
     "name": "stdout",
     "output_type": "stream",
     "text": [
      "Working on DPAD_CzNonLin, with nx=4 and n1=1\n"
     ]
    },
    {
     "name": "stderr",
     "output_type": "stream",
     "text": [
      "\u001b[32m2024-10-25 19:58:24\u001b[0m \u001b[34mDPAD.DPADModel\u001b[0m [DPADModel.py > 1525] \u001b[1;30mINFO\u001b[0m Stage 1: Learning A11, K1, Cz1 (ZType: cont)\n",
      "\u001b[32m2024-10-25 19:58:24\u001b[0m \u001b[34mDPAD.RNNModel\u001b[0m [RNNModel.py > 1583] \u001b[1;30mINFO\u001b[0m Shifting output by 1 samples to train network for 1-step ahead prediction\n",
      "\u001b[32m2024-10-25 19:58:24\u001b[0m \u001b[34mDPAD.RNNModel\u001b[0m [RNNModel.py > 1743] \u001b[1;30mINFO\u001b[0m Have 45 batches each with 31 128-sample data segments (ny_in=1, ny_out=1, nft=0)\n",
      "\u001b[32m2024-10-25 20:00:13\u001b[0m \u001b[34mDPAD.tools.model_base_classes\u001b[0m [model_base_classes.py > 114] \u001b[1;30mINFO\u001b[0m Restoring model weights from the end of the best epoch: 132 (stopped at 134 epochs).\n",
      "\u001b[32m2024-10-25 20:00:13\u001b[0m \u001b[34mDPAD.tools.model_base_classes\u001b[0m [model_base_classes.py > 499] \u001b[1;30mINFO\u001b[0m \n",
      "Epoch 1/135 - loss=rnn_1step_loss=rnn_1step_mse=0.99830782, rnn_1step_R2_maskV_None=0.0014863398, rnn_1step_CC_maskV_None=0.27105826, learning_rate=0.001\n",
      "Epoch 15/135 - loss=rnn_1step_loss=rnn_1step_mse=0.6825577, rnn_1step_R2_maskV_None=0.3171016, rnn_1step_CC_maskV_None=0.563658, learning_rate=0.001\n",
      "Epoch 29/135 - loss=rnn_1step_loss=rnn_1step_mse=0.67878848, rnn_1step_R2_maskV_None=0.32087156, rnn_1step_CC_maskV_None=0.56703955, learning_rate=0.001\n",
      "Epoch 43/135 - loss=rnn_1step_loss=rnn_1step_mse=0.67773211, rnn_1step_R2_maskV_None=0.32193035, rnn_1step_CC_maskV_None=0.56799018, learning_rate=0.001\n",
      "Epoch 57/135 - loss=rnn_1step_loss=rnn_1step_mse=0.67718947, rnn_1step_R2_maskV_None=0.3224746, rnn_1step_CC_maskV_None=0.56848037, learning_rate=0.001\n",
      "Epoch 71/135 - loss=rnn_1step_loss=rnn_1step_mse=0.67683876, rnn_1step_R2_maskV_None=0.3228268, rnn_1step_CC_maskV_None=0.56880116, learning_rate=0.001\n",
      "Epoch 85/135 - loss=rnn_1step_loss=rnn_1step_mse=0.67652965, rnn_1step_R2_maskV_None=0.32313722, rnn_1step_CC_maskV_None=0.56907445, learning_rate=0.001\n",
      "Epoch 99/135 - loss=rnn_1step_loss=rnn_1step_mse=0.67630005, rnn_1step_R2_maskV_None=0.32336766, rnn_1step_CC_maskV_None=0.5692448, learning_rate=0.001\n",
      "Epoch 113/135 - loss=rnn_1step_loss=rnn_1step_mse=0.67619938, rnn_1step_R2_maskV_None=0.3234683, rnn_1step_CC_maskV_None=0.56932086, learning_rate=0.001\n",
      "Epoch 127/135 - loss=rnn_1step_loss=rnn_1step_mse=0.6761477, rnn_1step_R2_maskV_None=0.32351992, rnn_1step_CC_maskV_None=0.56935626, learning_rate=0.001\n",
      "Epoch 135/135 - loss=rnn_1step_loss=rnn_1step_mse=0.67613369, rnn_1step_R2_maskV_None=0.32353371, rnn_1step_CC_maskV_None=0.56936198, learning_rate=0.001\n",
      "\n",
      "\u001b[32m2024-10-25 20:00:13\u001b[0m \u001b[34mDPAD.tools.model_base_classes\u001b[0m [model_base_classes.py > 539] \u001b[1;30mINFO\u001b[0m Model fitting took 109.64s\n",
      "\u001b[32m2024-10-25 20:00:29\u001b[0m \u001b[34mDPAD.DPADModel\u001b[0m [DPADModel.py > 1557] \u001b[1;30mINFO\u001b[0m Training Z pred after fitting RNN1: \n",
      "1-step: MSE_maskV_None=0.671, R2_maskV_None=0.329, CC_maskV_None=0.574\n",
      "\u001b[32m2024-10-25 20:00:29\u001b[0m \u001b[34mDPAD.DPADModel\u001b[0m [DPADModel.py > 1659] \u001b[1;30mINFO\u001b[0m Stage 1: Learning Cy1 (YType: cont)\n",
      "\u001b[32m2024-10-25 20:01:19\u001b[0m \u001b[34mDPAD.tools.model_base_classes\u001b[0m [model_base_classes.py > 114] \u001b[1;30mINFO\u001b[0m Restoring model weights from the end of the best epoch: 7 (stopped at 9 epochs).\n",
      "\u001b[32m2024-10-25 20:01:19\u001b[0m \u001b[34mDPAD.tools.model_base_classes\u001b[0m [model_base_classes.py > 499] \u001b[1;30mINFO\u001b[0m \n",
      "Epoch 1/10 - loss=mse=0.99922448, R2_maskV_None=-0.034252565, CC_maskV_None=0.056201529, learning_rate=0.001\n",
      "Epoch 2/10 - loss=mse=0.99690634, R2_maskV_None=-0.030877078, CC_maskV_None=0.056061413, learning_rate=0.001\n",
      "Epoch 3/10 - loss=mse=0.99690461, R2_maskV_None=-0.03049813, CC_maskV_None=0.056394238, learning_rate=0.001\n",
      "Epoch 4/10 - loss=mse=0.99688488, R2_maskV_None=-0.031291455, CC_maskV_None=0.055881966, learning_rate=0.001\n",
      "Epoch 5/10 - loss=mse=0.99690598, R2_maskV_None=-0.032283235, CC_maskV_None=0.055299386, learning_rate=0.001\n",
      "Epoch 6/10 - loss=mse=0.99692553, R2_maskV_None=-0.031165663, CC_maskV_None=0.054881971, learning_rate=0.001\n",
      "Epoch 7/10 - loss=mse=0.99687892, R2_maskV_None=-0.032164559, CC_maskV_None=0.055611763, learning_rate=0.001\n",
      "Epoch 8/10 - loss=mse=0.99689013, R2_maskV_None=-0.032888353, CC_maskV_None=0.054789405, learning_rate=0.001\n",
      "Epoch 9/10 - loss=mse=0.99692518, R2_maskV_None=-0.03124864, CC_maskV_None=0.05396888, learning_rate=0.001\n",
      "Epoch 10/10 - loss=mse=0.99690825, R2_maskV_None=-0.03145219, CC_maskV_None=0.055573881, learning_rate=0.001\n",
      "\n",
      "\u001b[32m2024-10-25 20:01:19\u001b[0m \u001b[34mDPAD.tools.model_base_classes\u001b[0m [model_base_classes.py > 539] \u001b[1;30mINFO\u001b[0m Model fitting took 50.40s\n",
      "\u001b[32m2024-10-25 20:01:19\u001b[0m \u001b[34mDPAD.RegressionModel\u001b[0m [RegressionModel.py > 470] \u001b[1;30mINFO\u001b[0m Model fitting finished. Had 5625 batches each with batch_size of 32 samples each (ny_in=1, ny_out=1)\n"
     ]
    },
    {
     "name": "stdout",
     "output_type": "stream",
     "text": [
      "5625/5625 [==============================] - 5s 815us/step\n"
     ]
    },
    {
     "name": "stderr",
     "output_type": "stream",
     "text": [
      "\u001b[32m2024-10-25 20:01:26\u001b[0m \u001b[34mDPAD.DPADModel\u001b[0m [DPADModel.py > 1712] \u001b[1;30mINFO\u001b[0m Training Y pred after fitting model1_Cy: \n",
      "1-step: MSE_maskV_None=0.997, R2_maskV_None=0.0029, CC_maskV_None=0.0561\n"
     ]
    },
    {
     "name": "stdout",
     "output_type": "stream",
     "text": [
      "5625/5625 [==============================] - 5s 838us/step\n"
     ]
    },
    {
     "name": "stderr",
     "output_type": "stream",
     "text": [
      "\u001b[32m2024-10-25 20:01:33\u001b[0m \u001b[34mDPAD.DPADModel\u001b[0m [DPADModel.py > 1781] \u001b[1;30mINFO\u001b[0m Stage 2: Learning A12, A22, K2, Cy2 (YType: cont)\n",
      "\u001b[32m2024-10-25 20:01:33\u001b[0m \u001b[34mDPAD.RNNModel\u001b[0m [RNNModel.py > 1583] \u001b[1;30mINFO\u001b[0m Shifting output by 1 samples to train network for 1-step ahead prediction\n",
      "\u001b[32m2024-10-25 20:01:33\u001b[0m \u001b[34mDPAD.RNNModel\u001b[0m [RNNModel.py > 1743] \u001b[1;30mINFO\u001b[0m Have 45 batches each with 31 128-sample data segments (ny_in=2, ny_out=1, nft=0)\n",
      "\u001b[32m2024-10-25 20:02:33\u001b[0m \u001b[34mDPAD.tools.model_base_classes\u001b[0m [model_base_classes.py > 114] \u001b[1;30mINFO\u001b[0m Restoring model weights from the end of the best epoch: 76 (stopped at 78 epochs).\n",
      "\u001b[32m2024-10-25 20:02:33\u001b[0m \u001b[34mDPAD.tools.model_base_classes\u001b[0m [model_base_classes.py > 499] \u001b[1;30mINFO\u001b[0m \n",
      "Epoch 1/79 - loss=rnn_1_1step_loss=rnn_1_1step_mse=0.99632365, rnn_1_1step_R2_maskV_None=0.0029925122, rnn_1_1step_CC_maskV_None=0.058971696, learning_rate=0.001\n",
      "Epoch 9/79 - loss=rnn_1_1step_loss=rnn_1_1step_mse=0.96845013, rnn_1_1step_R2_maskV_None=0.030858617, rnn_1_1step_CC_maskV_None=0.17635748, learning_rate=0.001\n",
      "Epoch 17/79 - loss=rnn_1_1step_loss=rnn_1_1step_mse=0.96843892, rnn_1_1step_R2_maskV_None=0.030869916, rnn_1_1step_CC_maskV_None=0.17638946, learning_rate=0.001\n",
      "Epoch 25/79 - loss=rnn_1_1step_loss=rnn_1_1step_mse=0.96843541, rnn_1_1step_R2_maskV_None=0.030873312, rnn_1_1step_CC_maskV_None=0.17640324, learning_rate=0.001\n",
      "Epoch 33/79 - loss=rnn_1_1step_loss=rnn_1_1step_mse=0.96842945, rnn_1_1step_R2_maskV_None=0.030879308, rnn_1_1step_CC_maskV_None=0.17642692, learning_rate=0.001\n",
      "Epoch 41/79 - loss=rnn_1_1step_loss=rnn_1_1step_mse=0.96841627, rnn_1_1step_R2_maskV_None=0.030892562, rnn_1_1step_CC_maskV_None=0.17647269, learning_rate=0.001\n",
      "Epoch 49/79 - loss=rnn_1_1step_loss=rnn_1_1step_mse=0.96839094, rnn_1_1step_R2_maskV_None=0.030917687, rnn_1_1step_CC_maskV_None=0.17655382, learning_rate=0.001\n",
      "Epoch 57/79 - loss=rnn_1_1step_loss=rnn_1_1step_mse=0.96835518, rnn_1_1step_R2_maskV_None=0.030953798, rnn_1_1step_CC_maskV_None=0.17666815, learning_rate=0.001\n",
      "Epoch 65/79 - loss=rnn_1_1step_loss=rnn_1_1step_mse=0.96832365, rnn_1_1step_R2_maskV_None=0.030985601, rnn_1_1step_CC_maskV_None=0.1767706, learning_rate=0.001\n",
      "Epoch 73/79 - loss=rnn_1_1step_loss=rnn_1_1step_mse=0.96831143, rnn_1_1step_R2_maskV_None=0.030997828, rnn_1_1step_CC_maskV_None=0.17681482, learning_rate=0.001\n",
      "Epoch 79/79 - loss=rnn_1_1step_loss=rnn_1_1step_mse=0.96831125, rnn_1_1step_R2_maskV_None=0.030998209, rnn_1_1step_CC_maskV_None=0.17682046, learning_rate=0.001\n",
      "\n",
      "\u001b[32m2024-10-25 20:02:33\u001b[0m \u001b[34mDPAD.tools.model_base_classes\u001b[0m [model_base_classes.py > 539] \u001b[1;30mINFO\u001b[0m Model fitting took 60.17s\n",
      "\u001b[32m2024-10-25 20:02:49\u001b[0m \u001b[34mDPAD.DPADModel\u001b[0m [DPADModel.py > 1818] \u001b[1;30mINFO\u001b[0m Training Y pred after fitting RNN2: \n",
      "1-step: MSE_maskV_None=0.968, R2_maskV_None=0.0321, CC_maskV_None=0.179\n",
      "\u001b[32m2024-10-25 20:02:49\u001b[0m \u001b[34mDPAD.DPADModel\u001b[0m [DPADModel.py > 2017] \u001b[1;30mINFO\u001b[0m Stage 2: Learning Cz2 (ZType: cont)\n",
      "\u001b[32m2024-10-25 20:04:41\u001b[0m \u001b[34mDPAD.tools.model_base_classes\u001b[0m [model_base_classes.py > 114] \u001b[1;30mINFO\u001b[0m Restoring model weights from the end of the best epoch: 15 (stopped at 17 epochs).\n",
      "\u001b[32m2024-10-25 20:04:41\u001b[0m \u001b[34mDPAD.tools.model_base_classes\u001b[0m [model_base_classes.py > 499] \u001b[1;30mINFO\u001b[0m \n",
      "Epoch 1/18 - loss=mse=0.67162788, R2_maskV_None=0.28832301, CC_maskV_None=0.5650537, learning_rate=0.001\n",
      "Epoch 3/18 - loss=mse=0.67076272, R2_maskV_None=0.28985557, CC_maskV_None=0.5647645, learning_rate=0.001\n",
      "Epoch 5/18 - loss=mse=0.67072153, R2_maskV_None=0.29002807, CC_maskV_None=0.56460232, learning_rate=0.001\n",
      "Epoch 7/18 - loss=mse=0.6707058, R2_maskV_None=0.28987405, CC_maskV_None=0.56576747, learning_rate=0.001\n",
      "Epoch 9/18 - loss=mse=0.67073452, R2_maskV_None=0.28920457, CC_maskV_None=0.56509072, learning_rate=0.001\n",
      "Epoch 11/18 - loss=mse=0.67073053, R2_maskV_None=0.28977209, CC_maskV_None=0.56488681, learning_rate=0.001\n",
      "Epoch 13/18 - loss=mse=0.67068464, R2_maskV_None=0.29075038, CC_maskV_None=0.56603432, learning_rate=0.001\n",
      "Epoch 15/18 - loss=mse=0.6706537, R2_maskV_None=0.28842688, CC_maskV_None=0.56387407, learning_rate=0.001\n",
      "Epoch 17/18 - loss=mse=0.67068577, R2_maskV_None=0.28889498, CC_maskV_None=0.56511068, learning_rate=0.001\n",
      "Epoch 18/18 - loss=mse=0.67070067, R2_maskV_None=0.28917947, CC_maskV_None=0.56465602, learning_rate=0.001\n",
      "\n",
      "\u001b[32m2024-10-25 20:04:41\u001b[0m \u001b[34mDPAD.tools.model_base_classes\u001b[0m [model_base_classes.py > 539] \u001b[1;30mINFO\u001b[0m Model fitting took 111.43s\n",
      "\u001b[32m2024-10-25 20:04:41\u001b[0m \u001b[34mDPAD.RegressionModel\u001b[0m [RegressionModel.py > 470] \u001b[1;30mINFO\u001b[0m Model fitting finished. Had 5625 batches each with batch_size of 32 samples each (ny_in=3, ny_out=1)\n"
     ]
    },
    {
     "name": "stdout",
     "output_type": "stream",
     "text": [
      "5625/5625 [==============================] - 5s 963us/step\n",
      "5625/5625 [==============================] - 5s 956us/step\n"
     ]
    },
    {
     "name": "stderr",
     "output_type": "stream",
     "text": [
      "\u001b[32m2024-10-25 20:04:56\u001b[0m \u001b[34mDPAD.DPADModel\u001b[0m [DPADModel.py > 2064] \u001b[1;30mINFO\u001b[0m Training Z pred after fitting model2_Cz: \n",
      "1-step: MSE_maskV_None=0.671, R2_maskV_None=0.329, CC_maskV_None=0.574\n"
     ]
    },
    {
     "name": "stdout",
     "output_type": "stream",
     "text": [
      "625/625 [==============================] - 1s 792us/step\n",
      "625/625 [==============================] - 1s 915us/step\n",
      "DPAD_CzNonLin => Behavior decoding CC: 0.564, Neural self-prediction CC: 0.176\n",
      "Working on DPAD_CyNonLin, with nx=4 and n1=1\n"
     ]
    },
    {
     "name": "stderr",
     "output_type": "stream",
     "text": [
      "\u001b[32m2024-10-25 20:05:00\u001b[0m \u001b[34mDPAD.DPADModel\u001b[0m [DPADModel.py > 1525] \u001b[1;30mINFO\u001b[0m Stage 1: Learning A11, K1, Cz1 (ZType: cont)\n",
      "\u001b[32m2024-10-25 20:05:00\u001b[0m \u001b[34mDPAD.RNNModel\u001b[0m [RNNModel.py > 1583] \u001b[1;30mINFO\u001b[0m Shifting output by 1 samples to train network for 1-step ahead prediction\n",
      "\u001b[32m2024-10-25 20:05:00\u001b[0m \u001b[34mDPAD.RNNModel\u001b[0m [RNNModel.py > 1743] \u001b[1;30mINFO\u001b[0m Have 45 batches each with 31 128-sample data segments (ny_in=1, ny_out=1, nft=0)\n",
      "\u001b[32m2024-10-25 20:05:11\u001b[0m \u001b[34mDPAD.tools.model_base_classes\u001b[0m [model_base_classes.py > 114] \u001b[1;30mINFO\u001b[0m Restoring model weights from the end of the best epoch: 15 (stopped at 17 epochs).\n",
      "\u001b[32m2024-10-25 20:05:11\u001b[0m \u001b[34mDPAD.tools.model_base_classes\u001b[0m [model_base_classes.py > 499] \u001b[1;30mINFO\u001b[0m \n",
      "Epoch 1/18 - loss=rnn_1step_loss=rnn_1step_mse=1.0002114, rnn_1step_R2_maskV_None=-0.00042704475, rnn_1step_CC_maskV_None=-0.10440478, learning_rate=0.001\n",
      "Epoch 3/18 - loss=rnn_1step_loss=rnn_1step_mse=0.99368435, rnn_1step_R2_maskV_None=0.0060997168, rnn_1step_CC_maskV_None=0.2852602, learning_rate=0.001\n",
      "Epoch 5/18 - loss=rnn_1step_loss=rnn_1step_mse=0.9579016, rnn_1step_R2_maskV_None=0.041860361, rnn_1step_CC_maskV_None=0.30888775, learning_rate=0.001\n",
      "Epoch 7/18 - loss=rnn_1step_loss=rnn_1step_mse=0.91271913, rnn_1step_R2_maskV_None=0.08698976, rnn_1step_CC_maskV_None=0.32206899, learning_rate=0.001\n",
      "Epoch 9/18 - loss=rnn_1step_loss=rnn_1step_mse=0.89604038, rnn_1step_R2_maskV_None=0.10361762, rnn_1step_CC_maskV_None=0.32364208, learning_rate=0.001\n",
      "Epoch 11/18 - loss=rnn_1step_loss=rnn_1step_mse=0.8950938, rnn_1step_R2_maskV_None=0.10455049, rnn_1step_CC_maskV_None=0.32376367, learning_rate=0.001\n",
      "Epoch 13/18 - loss=rnn_1step_loss=rnn_1step_mse=0.89501041, rnn_1step_R2_maskV_None=0.10463068, rnn_1step_CC_maskV_None=0.32385045, learning_rate=0.001\n",
      "Epoch 15/18 - loss=rnn_1step_loss=rnn_1step_mse=0.8950038, rnn_1step_R2_maskV_None=0.10463636, rnn_1step_CC_maskV_None=0.32385954, learning_rate=0.001\n",
      "Epoch 17/18 - loss=rnn_1step_loss=rnn_1step_mse=0.89500463, rnn_1step_R2_maskV_None=0.10463511, rnn_1step_CC_maskV_None=0.32385951, learning_rate=0.001\n",
      "Epoch 18/18 - loss=rnn_1step_loss=rnn_1step_mse=0.89500535, rnn_1step_R2_maskV_None=0.10463454, rnn_1step_CC_maskV_None=0.32385927, learning_rate=0.001\n",
      "\n",
      "\u001b[32m2024-10-25 20:05:11\u001b[0m \u001b[34mDPAD.tools.model_base_classes\u001b[0m [model_base_classes.py > 539] \u001b[1;30mINFO\u001b[0m Model fitting took 11.32s\n",
      "\u001b[32m2024-10-25 20:05:25\u001b[0m \u001b[34mDPAD.DPADModel\u001b[0m [DPADModel.py > 1557] \u001b[1;30mINFO\u001b[0m Training Z pred after fitting RNN1: \n",
      "1-step: MSE_maskV_None=0.894, R2_maskV_None=0.106, CC_maskV_None=0.325\n",
      "\u001b[32m2024-10-25 20:05:25\u001b[0m \u001b[34mDPAD.DPADModel\u001b[0m [DPADModel.py > 1659] \u001b[1;30mINFO\u001b[0m Stage 1: Learning Cy1 (YType: cont)\n",
      "\u001b[32m2024-10-25 20:06:28\u001b[0m \u001b[34mDPAD.tools.model_base_classes\u001b[0m [model_base_classes.py > 114] \u001b[1;30mINFO\u001b[0m Restoring model weights from the end of the best epoch: 7 (stopped at 9 epochs).\n",
      "\u001b[32m2024-10-25 20:06:28\u001b[0m \u001b[34mDPAD.tools.model_base_classes\u001b[0m [model_base_classes.py > 499] \u001b[1;30mINFO\u001b[0m \n",
      "Epoch 1/10 - loss=mse=0.99762672, R2_maskV_None=-0.032334138, CC_maskV_None=0.05426852, learning_rate=0.001\n",
      "Epoch 2/10 - loss=mse=0.99750477, R2_maskV_None=-0.031488258, CC_maskV_None=0.054738205, learning_rate=0.001\n",
      "Epoch 3/10 - loss=mse=0.997334, R2_maskV_None=-0.030965054, CC_maskV_None=0.055805907, learning_rate=0.001\n",
      "Epoch 4/10 - loss=mse=0.99729538, R2_maskV_None=-0.031659067, CC_maskV_None=0.05513427, learning_rate=0.001\n",
      "Epoch 5/10 - loss=mse=0.99731416, R2_maskV_None=-0.032700654, CC_maskV_None=0.054643307, learning_rate=0.001\n",
      "Epoch 6/10 - loss=mse=0.99731916, R2_maskV_None=-0.0315594, CC_maskV_None=0.054330718, learning_rate=0.001\n",
      "Epoch 7/10 - loss=mse=0.99718976, R2_maskV_None=-0.032452676, CC_maskV_None=0.054953158, learning_rate=0.001\n",
      "Epoch 8/10 - loss=mse=0.99720442, R2_maskV_None=-0.033234604, CC_maskV_None=0.054337613, learning_rate=0.001\n",
      "Epoch 9/10 - loss=mse=0.99724621, R2_maskV_None=-0.031580139, CC_maskV_None=0.053165875, learning_rate=0.001\n",
      "Epoch 10/10 - loss=mse=0.99722326, R2_maskV_None=-0.031778432, CC_maskV_None=0.054893848, learning_rate=0.001\n",
      "\n",
      "\u001b[32m2024-10-25 20:06:28\u001b[0m \u001b[34mDPAD.tools.model_base_classes\u001b[0m [model_base_classes.py > 539] \u001b[1;30mINFO\u001b[0m Model fitting took 63.33s\n",
      "\u001b[32m2024-10-25 20:06:28\u001b[0m \u001b[34mDPAD.RegressionModel\u001b[0m [RegressionModel.py > 470] \u001b[1;30mINFO\u001b[0m Model fitting finished. Had 5625 batches each with batch_size of 32 samples each (ny_in=1, ny_out=1)\n"
     ]
    },
    {
     "name": "stdout",
     "output_type": "stream",
     "text": [
      "5625/5625 [==============================] - 5s 963us/step\n"
     ]
    },
    {
     "name": "stderr",
     "output_type": "stream",
     "text": [
      "\u001b[32m2024-10-25 20:06:36\u001b[0m \u001b[34mDPAD.DPADModel\u001b[0m [DPADModel.py > 1712] \u001b[1;30mINFO\u001b[0m Training Y pred after fitting model1_Cy: \n",
      "1-step: MSE_maskV_None=0.997, R2_maskV_None=0.0026, CC_maskV_None=0.0556\n"
     ]
    },
    {
     "name": "stdout",
     "output_type": "stream",
     "text": [
      "5625/5625 [==============================] - 5s 934us/step\n"
     ]
    },
    {
     "name": "stderr",
     "output_type": "stream",
     "text": [
      "\u001b[32m2024-10-25 20:06:43\u001b[0m \u001b[34mDPAD.DPADModel\u001b[0m [DPADModel.py > 1781] \u001b[1;30mINFO\u001b[0m Stage 2: Learning A12, A22, K2, Cy2 (YType: cont)\n",
      "\u001b[32m2024-10-25 20:06:43\u001b[0m \u001b[34mDPAD.RNNModel\u001b[0m [RNNModel.py > 1583] \u001b[1;30mINFO\u001b[0m Shifting output by 1 samples to train network for 1-step ahead prediction\n",
      "\u001b[32m2024-10-25 20:06:43\u001b[0m \u001b[34mDPAD.RNNModel\u001b[0m [RNNModel.py > 1743] \u001b[1;30mINFO\u001b[0m Have 45 batches each with 31 128-sample data segments (ny_in=2, ny_out=1, nft=0)\n",
      "\u001b[32m2024-10-25 20:07:51\u001b[0m \u001b[34mDPAD.tools.model_base_classes\u001b[0m [model_base_classes.py > 114] \u001b[1;30mINFO\u001b[0m Restoring model weights from the end of the best epoch: 70 (stopped at 72 epochs).\n",
      "\u001b[32m2024-10-25 20:07:51\u001b[0m \u001b[34mDPAD.tools.model_base_classes\u001b[0m [model_base_classes.py > 499] \u001b[1;30mINFO\u001b[0m \n",
      "Epoch 1/73 - loss=rnn_1_1step_loss=rnn_1_1step_mse=0.99558645, rnn_1_1step_R2_maskV_None=0.0037367556, rnn_1_1step_CC_maskV_None=0.0681981, learning_rate=0.001\n",
      "Epoch 9/73 - loss=rnn_1_1step_loss=rnn_1_1step_mse=0.96920145, rnn_1_1step_R2_maskV_None=0.030107889, rnn_1_1step_CC_maskV_None=0.17498977, learning_rate=0.001\n",
      "Epoch 17/73 - loss=rnn_1_1step_loss=rnn_1_1step_mse=0.9686569, rnn_1_1step_R2_maskV_None=0.030651098, rnn_1_1step_CC_maskV_None=0.176498, learning_rate=0.001\n",
      "Epoch 25/73 - loss=rnn_1_1step_loss=rnn_1_1step_mse=0.96851516, rnn_1_1step_R2_maskV_None=0.030793216, rnn_1_1step_CC_maskV_None=0.17690755, learning_rate=0.001\n",
      "Epoch 33/73 - loss=rnn_1_1step_loss=rnn_1_1step_mse=0.9684636, rnn_1_1step_R2_maskV_None=0.030844733, rnn_1_1step_CC_maskV_None=0.17704114, learning_rate=0.001\n",
      "Epoch 41/73 - loss=rnn_1_1step_loss=rnn_1_1step_mse=0.96843535, rnn_1_1step_R2_maskV_None=0.030872632, rnn_1_1step_CC_maskV_None=0.17706957, learning_rate=0.001\n",
      "Epoch 49/73 - loss=rnn_1_1step_loss=rnn_1_1step_mse=0.96841532, rnn_1_1step_R2_maskV_None=0.030892123, rnn_1_1step_CC_maskV_None=0.17708416, learning_rate=0.001\n",
      "Epoch 57/73 - loss=rnn_1_1step_loss=rnn_1_1step_mse=0.96839273, rnn_1_1step_R2_maskV_None=0.030914238, rnn_1_1step_CC_maskV_None=0.17710549, learning_rate=0.001\n",
      "Epoch 65/73 - loss=rnn_1_1step_loss=rnn_1_1step_mse=0.96837294, rnn_1_1step_R2_maskV_None=0.030933574, rnn_1_1step_CC_maskV_None=0.17712855, learning_rate=0.001\n",
      "Epoch 73/73 - loss=rnn_1_1step_loss=rnn_1_1step_mse=0.96836513, rnn_1_1step_R2_maskV_None=0.030940941, rnn_1_1step_CC_maskV_None=0.17713615, learning_rate=0.001\n",
      "\n",
      "\u001b[32m2024-10-25 20:07:51\u001b[0m \u001b[34mDPAD.tools.model_base_classes\u001b[0m [model_base_classes.py > 539] \u001b[1;30mINFO\u001b[0m Model fitting took 67.76s\n",
      "\u001b[32m2024-10-25 20:08:09\u001b[0m \u001b[34mDPAD.DPADModel\u001b[0m [DPADModel.py > 1818] \u001b[1;30mINFO\u001b[0m Training Y pred after fitting RNN2: \n",
      "1-step: MSE_maskV_None=0.968, R2_maskV_None=0.0317, CC_maskV_None=0.18\n",
      "\u001b[32m2024-10-25 20:08:09\u001b[0m \u001b[34mDPAD.DPADModel\u001b[0m [DPADModel.py > 2017] \u001b[1;30mINFO\u001b[0m Stage 2: Learning Cz2 (ZType: cont)\n",
      "\u001b[32m2024-10-25 20:08:56\u001b[0m \u001b[34mDPAD.tools.model_base_classes\u001b[0m [model_base_classes.py > 114] \u001b[1;30mINFO\u001b[0m Restoring model weights from the end of the best epoch: 6 (stopped at 8 epochs).\n",
      "\u001b[32m2024-10-25 20:08:56\u001b[0m \u001b[34mDPAD.tools.model_base_classes\u001b[0m [model_base_classes.py > 499] \u001b[1;30mINFO\u001b[0m \n",
      "Epoch 1/9 - loss=mse=1.065336, R2_maskV_None=-0.12524575, CC_maskV_None=0.26006523, learning_rate=0.001\n",
      "Epoch 2/9 - loss=mse=0.89446795, R2_maskV_None=0.06460955, CC_maskV_None=0.30936086, learning_rate=0.001\n",
      "Epoch 3/9 - loss=mse=0.89446354, R2_maskV_None=0.065051973, CC_maskV_None=0.30843592, learning_rate=0.001\n",
      "Epoch 4/9 - loss=mse=0.89448369, R2_maskV_None=0.064506747, CC_maskV_None=0.30872378, learning_rate=0.001\n",
      "Epoch 5/9 - loss=mse=0.89446682, R2_maskV_None=0.064955711, CC_maskV_None=0.30862468, learning_rate=0.001\n",
      "Epoch 6/9 - loss=mse=0.89434928, R2_maskV_None=0.063909195, CC_maskV_None=0.30857661, learning_rate=0.001\n",
      "Epoch 7/9 - loss=mse=0.89436859, R2_maskV_None=0.064812981, CC_maskV_None=0.30926898, learning_rate=0.001\n",
      "Epoch 8/9 - loss=mse=0.89446127, R2_maskV_None=0.06584914, CC_maskV_None=0.30995542, learning_rate=0.001\n",
      "Epoch 9/9 - loss=mse=0.89442146, R2_maskV_None=0.064664841, CC_maskV_None=0.30939332, learning_rate=0.001\n",
      "\n",
      "\u001b[32m2024-10-25 20:08:56\u001b[0m \u001b[34mDPAD.tools.model_base_classes\u001b[0m [model_base_classes.py > 539] \u001b[1;30mINFO\u001b[0m Model fitting took 46.51s\n",
      "\u001b[32m2024-10-25 20:08:56\u001b[0m \u001b[34mDPAD.RegressionModel\u001b[0m [RegressionModel.py > 470] \u001b[1;30mINFO\u001b[0m Model fitting finished. Had 5625 batches each with batch_size of 32 samples each (ny_in=3, ny_out=1)\n"
     ]
    },
    {
     "name": "stdout",
     "output_type": "stream",
     "text": [
      "5625/5625 [==============================] - 5s 857us/step\n",
      "5625/5625 [==============================] - 5s 839us/step\n"
     ]
    },
    {
     "name": "stderr",
     "output_type": "stream",
     "text": [
      "\u001b[32m2024-10-25 20:09:09\u001b[0m \u001b[34mDPAD.DPADModel\u001b[0m [DPADModel.py > 2064] \u001b[1;30mINFO\u001b[0m Training Z pred after fitting model2_Cz: \n",
      "1-step: MSE_maskV_None=0.894, R2_maskV_None=0.106, CC_maskV_None=0.325\n"
     ]
    },
    {
     "name": "stdout",
     "output_type": "stream",
     "text": [
      "625/625 [==============================] - 1s 889us/step\n",
      "625/625 [==============================] - 1s 849us/step\n",
      "DPAD_CyNonLin => Behavior decoding CC: 0.31, Neural self-prediction CC: 0.176\n",
      "Working on DPAD_ANonLin, with nx=4 and n1=1\n"
     ]
    },
    {
     "name": "stderr",
     "output_type": "stream",
     "text": [
      "\u001b[32m2024-10-25 20:09:14\u001b[0m \u001b[34mDPAD.DPADModel\u001b[0m [DPADModel.py > 1525] \u001b[1;30mINFO\u001b[0m Stage 1: Learning A11, K1, Cz1 (ZType: cont)\n",
      "\u001b[32m2024-10-25 20:09:14\u001b[0m \u001b[34mDPAD.RNNModel\u001b[0m [RNNModel.py > 1583] \u001b[1;30mINFO\u001b[0m Shifting output by 1 samples to train network for 1-step ahead prediction\n",
      "\u001b[32m2024-10-25 20:09:14\u001b[0m \u001b[34mDPAD.RNNModel\u001b[0m [RNNModel.py > 1743] \u001b[1;30mINFO\u001b[0m Have 45 batches each with 31 128-sample data segments (ny_in=1, ny_out=1, nft=0)\n",
      "\u001b[32m2024-10-25 20:10:43\u001b[0m \u001b[34mDPAD.tools.model_base_classes\u001b[0m [model_base_classes.py > 114] \u001b[1;30mINFO\u001b[0m Restoring model weights from the end of the best epoch: 68 (stopped at 70 epochs).\n",
      "\u001b[32m2024-10-25 20:10:43\u001b[0m \u001b[34mDPAD.tools.model_base_classes\u001b[0m [model_base_classes.py > 499] \u001b[1;30mINFO\u001b[0m \n",
      "Epoch 1/71 - loss=rnn_1step_loss=rnn_1step_mse=0.99824822, rnn_1step_R2_maskV_None=0.0015366833, rnn_1step_CC_maskV_None=0.27644339, learning_rate=0.001\n",
      "Epoch 9/71 - loss=rnn_1step_loss=rnn_1step_mse=0.89782917, rnn_1step_R2_maskV_None=0.10184138, rnn_1step_CC_maskV_None=0.32312185, learning_rate=0.001\n",
      "Epoch 17/71 - loss=rnn_1step_loss=rnn_1step_mse=0.89428061, rnn_1step_R2_maskV_None=0.10535858, rnn_1step_CC_maskV_None=0.32510024, learning_rate=0.001\n",
      "Epoch 25/71 - loss=rnn_1step_loss=rnn_1step_mse=0.89425856, rnn_1step_R2_maskV_None=0.10538043, rnn_1step_CC_maskV_None=0.32513362, learning_rate=0.001\n",
      "Epoch 33/71 - loss=rnn_1step_loss=rnn_1step_mse=0.89425415, rnn_1step_R2_maskV_None=0.10538472, rnn_1step_CC_maskV_None=0.32514194, learning_rate=0.001\n",
      "Epoch 41/71 - loss=rnn_1step_loss=rnn_1step_mse=0.89424527, rnn_1step_R2_maskV_None=0.10539353, rnn_1step_CC_maskV_None=0.32515386, learning_rate=0.001\n",
      "Epoch 49/71 - loss=rnn_1step_loss=rnn_1step_mse=0.89424062, rnn_1step_R2_maskV_None=0.10539831, rnn_1step_CC_maskV_None=0.32516095, learning_rate=0.001\n",
      "Epoch 57/71 - loss=rnn_1step_loss=rnn_1step_mse=0.89423645, rnn_1step_R2_maskV_None=0.10540249, rnn_1step_CC_maskV_None=0.32516521, learning_rate=0.001\n",
      "Epoch 65/71 - loss=rnn_1step_loss=rnn_1step_mse=0.8942349, rnn_1step_R2_maskV_None=0.10540406, rnn_1step_CC_maskV_None=0.32516813, learning_rate=0.001\n",
      "Epoch 71/71 - loss=rnn_1step_loss=rnn_1step_mse=0.89423472, rnn_1step_R2_maskV_None=0.10540435, rnn_1step_CC_maskV_None=0.32516921, learning_rate=0.001\n",
      "\n",
      "\u001b[32m2024-10-25 20:10:43\u001b[0m \u001b[34mDPAD.tools.model_base_classes\u001b[0m [model_base_classes.py > 539] \u001b[1;30mINFO\u001b[0m Model fitting took 89.59s\n",
      "\u001b[32m2024-10-25 20:11:11\u001b[0m \u001b[34mDPAD.DPADModel\u001b[0m [DPADModel.py > 1557] \u001b[1;30mINFO\u001b[0m Training Z pred after fitting RNN1: \n",
      "1-step: MSE_maskV_None=0.894, R2_maskV_None=0.106, CC_maskV_None=0.326\n",
      "\u001b[32m2024-10-25 20:11:11\u001b[0m \u001b[34mDPAD.DPADModel\u001b[0m [DPADModel.py > 1659] \u001b[1;30mINFO\u001b[0m Stage 1: Learning Cy1 (YType: cont)\n",
      "\u001b[32m2024-10-25 20:12:02\u001b[0m \u001b[34mDPAD.tools.model_base_classes\u001b[0m [model_base_classes.py > 114] \u001b[1;30mINFO\u001b[0m Restoring model weights from the end of the best epoch: 7 (stopped at 9 epochs).\n",
      "\u001b[32m2024-10-25 20:12:02\u001b[0m \u001b[34mDPAD.tools.model_base_classes\u001b[0m [model_base_classes.py > 499] \u001b[1;30mINFO\u001b[0m \n",
      "Epoch 1/10 - loss=mse=1.0440459, R2_maskV_None=-0.083830103, CC_maskV_None=0.059316982, learning_rate=0.001\n",
      "Epoch 2/10 - loss=mse=0.99660468, R2_maskV_None=-0.030598531, CC_maskV_None=0.05895989, learning_rate=0.001\n",
      "Epoch 3/10 - loss=mse=0.99660105, R2_maskV_None=-0.030207528, CC_maskV_None=0.059408154, learning_rate=0.001\n",
      "Epoch 4/10 - loss=mse=0.99658561, R2_maskV_None=-0.030991588, CC_maskV_None=0.058806732, learning_rate=0.001\n",
      "Epoch 5/10 - loss=mse=0.99661303, R2_maskV_None=-0.03199628, CC_maskV_None=0.058304358, learning_rate=0.001\n",
      "Epoch 6/10 - loss=mse=0.99663419, R2_maskV_None=-0.030882476, CC_maskV_None=0.057746761, learning_rate=0.001\n",
      "Epoch 7/10 - loss=mse=0.9965691, R2_maskV_None=-0.031884156, CC_maskV_None=0.058526233, learning_rate=0.001\n",
      "Epoch 8/10 - loss=mse=0.99659836, R2_maskV_None=-0.032618716, CC_maskV_None=0.057728603, learning_rate=0.001\n",
      "Epoch 9/10 - loss=mse=0.99662822, R2_maskV_None=-0.030952351, CC_maskV_None=0.056898031, learning_rate=0.001\n",
      "Epoch 10/10 - loss=mse=0.99661303, R2_maskV_None=-0.031157177, CC_maskV_None=0.058482762, learning_rate=0.001\n",
      "\n",
      "\u001b[32m2024-10-25 20:12:02\u001b[0m \u001b[34mDPAD.tools.model_base_classes\u001b[0m [model_base_classes.py > 539] \u001b[1;30mINFO\u001b[0m Model fitting took 51.07s\n",
      "\u001b[32m2024-10-25 20:12:02\u001b[0m \u001b[34mDPAD.RegressionModel\u001b[0m [RegressionModel.py > 470] \u001b[1;30mINFO\u001b[0m Model fitting finished. Had 5625 batches each with batch_size of 32 samples each (ny_in=1, ny_out=1)\n"
     ]
    },
    {
     "name": "stdout",
     "output_type": "stream",
     "text": [
      "5625/5625 [==============================] - 4s 792us/step\n"
     ]
    },
    {
     "name": "stderr",
     "output_type": "stream",
     "text": [
      "\u001b[32m2024-10-25 20:12:08\u001b[0m \u001b[34mDPAD.DPADModel\u001b[0m [DPADModel.py > 1712] \u001b[1;30mINFO\u001b[0m Training Y pred after fitting model1_Cy: \n",
      "1-step: MSE_maskV_None=0.997, R2_maskV_None=0.00315, CC_maskV_None=0.0589\n"
     ]
    },
    {
     "name": "stdout",
     "output_type": "stream",
     "text": [
      "5625/5625 [==============================] - 5s 846us/step\n"
     ]
    },
    {
     "name": "stderr",
     "output_type": "stream",
     "text": [
      "\u001b[32m2024-10-25 20:12:15\u001b[0m \u001b[34mDPAD.DPADModel\u001b[0m [DPADModel.py > 1781] \u001b[1;30mINFO\u001b[0m Stage 2: Learning A12, A22, K2, Cy2 (YType: cont)\n",
      "\u001b[32m2024-10-25 20:12:15\u001b[0m \u001b[34mDPAD.RNNModel\u001b[0m [RNNModel.py > 1583] \u001b[1;30mINFO\u001b[0m Shifting output by 1 samples to train network for 1-step ahead prediction\n",
      "\u001b[32m2024-10-25 20:12:15\u001b[0m \u001b[34mDPAD.RNNModel\u001b[0m [RNNModel.py > 1743] \u001b[1;30mINFO\u001b[0m Have 45 batches each with 31 128-sample data segments (ny_in=2, ny_out=1, nft=0)\n",
      "\u001b[32m2024-10-25 20:12:42\u001b[0m \u001b[34mDPAD.tools.model_base_classes\u001b[0m [model_base_classes.py > 114] \u001b[1;30mINFO\u001b[0m Restoring model weights from the end of the best epoch: 18 (stopped at 20 epochs).\n",
      "\u001b[32m2024-10-25 20:12:42\u001b[0m \u001b[34mDPAD.tools.model_base_classes\u001b[0m [model_base_classes.py > 499] \u001b[1;30mINFO\u001b[0m \n",
      "Epoch 1/21 - loss=rnn_1_1step_loss=rnn_1_1step_mse=0.99407578, rnn_1_1step_R2_maskV_None=0.0052423002, rnn_1_1step_CC_maskV_None=0.080575459, learning_rate=0.001\n",
      "Epoch 4/21 - loss=rnn_1_1step_loss=rnn_1_1step_mse=0.97791874, rnn_1_1step_R2_maskV_None=0.021405313, rnn_1_1step_CC_maskV_None=0.14762598, learning_rate=0.001\n",
      "Epoch 7/21 - loss=rnn_1_1step_loss=rnn_1_1step_mse=0.96904558, rnn_1_1step_R2_maskV_None=0.030261938, rnn_1_1step_CC_maskV_None=0.17510396, learning_rate=0.001\n",
      "Epoch 10/21 - loss=rnn_1_1step_loss=rnn_1_1step_mse=0.96883941, rnn_1_1step_R2_maskV_None=0.030466231, rnn_1_1step_CC_maskV_None=0.17576715, learning_rate=0.001\n",
      "Epoch 13/21 - loss=rnn_1_1step_loss=rnn_1_1step_mse=0.96872079, rnn_1_1step_R2_maskV_None=0.030584799, rnn_1_1step_CC_maskV_None=0.17596033, learning_rate=0.001\n",
      "Epoch 16/21 - loss=rnn_1_1step_loss=rnn_1_1step_mse=0.96868676, rnn_1_1step_R2_maskV_None=0.030619306, rnn_1_1step_CC_maskV_None=0.17602842, learning_rate=0.001\n",
      "Epoch 19/21 - loss=rnn_1_1step_loss=rnn_1_1step_mse=0.96866983, rnn_1_1step_R2_maskV_None=0.030636739, rnn_1_1step_CC_maskV_None=0.17606847, learning_rate=0.001\n",
      "Epoch 21/21 - loss=rnn_1_1step_loss=rnn_1_1step_mse=0.96867108, rnn_1_1step_R2_maskV_None=0.030635834, rnn_1_1step_CC_maskV_None=0.1760888, learning_rate=0.001\n",
      "\n",
      "\u001b[32m2024-10-25 20:12:42\u001b[0m \u001b[34mDPAD.tools.model_base_classes\u001b[0m [model_base_classes.py > 539] \u001b[1;30mINFO\u001b[0m Model fitting took 27.12s\n",
      "\u001b[32m2024-10-25 20:13:09\u001b[0m \u001b[34mDPAD.DPADModel\u001b[0m [DPADModel.py > 1818] \u001b[1;30mINFO\u001b[0m Training Y pred after fitting RNN2: \n",
      "1-step: MSE_maskV_None=0.968, R2_maskV_None=0.0319, CC_maskV_None=0.179\n",
      "\u001b[32m2024-10-25 20:13:09\u001b[0m \u001b[34mDPAD.DPADModel\u001b[0m [DPADModel.py > 2017] \u001b[1;30mINFO\u001b[0m Stage 2: Learning Cz2 (ZType: cont)\n",
      "\u001b[32m2024-10-25 20:14:30\u001b[0m \u001b[34mDPAD.tools.model_base_classes\u001b[0m [model_base_classes.py > 114] \u001b[1;30mINFO\u001b[0m Restoring model weights from the end of the best epoch: 14 (stopped at 16 epochs).\n",
      "\u001b[32m2024-10-25 20:14:30\u001b[0m \u001b[34mDPAD.tools.model_base_classes\u001b[0m [model_base_classes.py > 499] \u001b[1;30mINFO\u001b[0m \n",
      "Epoch 1/17 - loss=mse=0.91139287, R2_maskV_None=0.044837788, CC_maskV_None=0.3040033, learning_rate=0.001\n",
      "Epoch 3/17 - loss=mse=0.89384907, R2_maskV_None=0.06535086, CC_maskV_None=0.30972868, learning_rate=0.001\n",
      "Epoch 5/17 - loss=mse=0.89377761, R2_maskV_None=0.065396927, CC_maskV_None=0.31009719, learning_rate=0.001\n",
      "Epoch 7/17 - loss=mse=0.89366025, R2_maskV_None=0.065363348, CC_maskV_None=0.3105014, learning_rate=0.001\n",
      "Epoch 9/17 - loss=mse=0.89363855, R2_maskV_None=0.065182582, CC_maskV_None=0.3107388, learning_rate=0.001\n",
      "Epoch 11/17 - loss=mse=0.89356273, R2_maskV_None=0.065060057, CC_maskV_None=0.31037113, learning_rate=0.001\n",
      "Epoch 13/17 - loss=mse=0.89353698, R2_maskV_None=0.066314407, CC_maskV_None=0.31194845, learning_rate=0.001\n",
      "Epoch 15/17 - loss=mse=0.89356005, R2_maskV_None=0.064655378, CC_maskV_None=0.30889285, learning_rate=0.001\n",
      "Epoch 17/17 - loss=mse=0.89356625, R2_maskV_None=0.064889975, CC_maskV_None=0.31036821, learning_rate=0.001\n",
      "\n",
      "\u001b[32m2024-10-25 20:14:30\u001b[0m \u001b[34mDPAD.tools.model_base_classes\u001b[0m [model_base_classes.py > 539] \u001b[1;30mINFO\u001b[0m Model fitting took 80.78s\n",
      "\u001b[32m2024-10-25 20:14:30\u001b[0m \u001b[34mDPAD.RegressionModel\u001b[0m [RegressionModel.py > 470] \u001b[1;30mINFO\u001b[0m Model fitting finished. Had 5625 batches each with batch_size of 32 samples each (ny_in=3, ny_out=1)\n"
     ]
    },
    {
     "name": "stdout",
     "output_type": "stream",
     "text": [
      "5625/5625 [==============================] - 5s 881us/step\n",
      "5625/5625 [==============================] - 5s 836us/step\n"
     ]
    },
    {
     "name": "stderr",
     "output_type": "stream",
     "text": [
      "\u001b[32m2024-10-25 20:14:44\u001b[0m \u001b[34mDPAD.DPADModel\u001b[0m [DPADModel.py > 2064] \u001b[1;30mINFO\u001b[0m Training Z pred after fitting model2_Cz: \n",
      "1-step: MSE_maskV_None=0.893, R2_maskV_None=0.107, CC_maskV_None=0.326\n"
     ]
    },
    {
     "name": "stdout",
     "output_type": "stream",
     "text": [
      "625/625 [==============================] - 0s 769us/step\n",
      "625/625 [==============================] - 1s 796us/step\n",
      "DPAD_ANonLin => Behavior decoding CC: 0.312, Neural self-prediction CC: 0.175\n",
      "Working on DPAD_KNonLin, with nx=4 and n1=1\n"
     ]
    },
    {
     "name": "stderr",
     "output_type": "stream",
     "text": [
      "\u001b[32m2024-10-25 20:14:49\u001b[0m \u001b[34mDPAD.DPADModel\u001b[0m [DPADModel.py > 1525] \u001b[1;30mINFO\u001b[0m Stage 1: Learning A11, K1, Cz1 (ZType: cont)\n",
      "\u001b[32m2024-10-25 20:14:49\u001b[0m \u001b[34mDPAD.RNNModel\u001b[0m [RNNModel.py > 1583] \u001b[1;30mINFO\u001b[0m Shifting output by 1 samples to train network for 1-step ahead prediction\n",
      "\u001b[32m2024-10-25 20:14:49\u001b[0m \u001b[34mDPAD.RNNModel\u001b[0m [RNNModel.py > 1743] \u001b[1;30mINFO\u001b[0m Have 45 batches each with 31 128-sample data segments (ny_in=1, ny_out=1, nft=0)\n",
      "\u001b[32m2024-10-25 20:18:16\u001b[0m \u001b[34mDPAD.tools.model_base_classes\u001b[0m [model_base_classes.py > 114] \u001b[1;30mINFO\u001b[0m Restoring model weights from the end of the best epoch: 281 (stopped at 283 epochs).\n",
      "\u001b[32m2024-10-25 20:18:16\u001b[0m \u001b[34mDPAD.tools.model_base_classes\u001b[0m [model_base_classes.py > 499] \u001b[1;30mINFO\u001b[0m \n",
      "Epoch 1/284 - loss=rnn_1step_loss=rnn_1step_mse=0.998631, rnn_1step_R2_maskV_None=0.0011611329, rnn_1step_CC_maskV_None=0.22527741, learning_rate=0.001\n",
      "Epoch 30/284 - loss=rnn_1step_loss=rnn_1step_mse=0.86093241, rnn_1step_R2_maskV_None=0.13873993, rnn_1step_CC_maskV_None=0.3734751, learning_rate=0.001\n",
      "Epoch 59/284 - loss=rnn_1step_loss=rnn_1step_mse=0.86071306, rnn_1step_R2_maskV_None=0.13895997, rnn_1step_CC_maskV_None=0.37367809, learning_rate=0.001\n",
      "Epoch 88/284 - loss=rnn_1step_loss=rnn_1step_mse=0.86060548, rnn_1step_R2_maskV_None=0.13906813, rnn_1step_CC_maskV_None=0.37376836, learning_rate=0.001\n",
      "Epoch 117/284 - loss=rnn_1step_loss=rnn_1step_mse=0.86054808, rnn_1step_R2_maskV_None=0.13912587, rnn_1step_CC_maskV_None=0.37382457, learning_rate=0.001\n",
      "Epoch 146/284 - loss=rnn_1step_loss=rnn_1step_mse=0.86050069, rnn_1step_R2_maskV_None=0.13917372, rnn_1step_CC_maskV_None=0.37386295, learning_rate=0.001\n",
      "Epoch 175/284 - loss=rnn_1step_loss=rnn_1step_mse=0.86046797, rnn_1step_R2_maskV_None=0.13920642, rnn_1step_CC_maskV_None=0.3738867, learning_rate=0.001\n",
      "Epoch 204/284 - loss=rnn_1step_loss=rnn_1step_mse=0.86044782, rnn_1step_R2_maskV_None=0.13922687, rnn_1step_CC_maskV_None=0.37390396, learning_rate=0.001\n",
      "Epoch 233/284 - loss=rnn_1step_loss=rnn_1step_mse=0.86043417, rnn_1step_R2_maskV_None=0.13924095, rnn_1step_CC_maskV_None=0.37391543, learning_rate=0.001\n",
      "Epoch 262/284 - loss=rnn_1step_loss=rnn_1step_mse=0.86042404, rnn_1step_R2_maskV_None=0.1392514, rnn_1step_CC_maskV_None=0.37392914, learning_rate=0.001\n",
      "Epoch 284/284 - loss=rnn_1step_loss=rnn_1step_mse=0.8604185, rnn_1step_R2_maskV_None=0.13925701, rnn_1step_CC_maskV_None=0.3739388, learning_rate=0.001\n",
      "\n",
      "\u001b[32m2024-10-25 20:18:16\u001b[0m \u001b[34mDPAD.tools.model_base_classes\u001b[0m [model_base_classes.py > 539] \u001b[1;30mINFO\u001b[0m Model fitting took 206.73s\n",
      "\u001b[32m2024-10-25 20:18:32\u001b[0m \u001b[34mDPAD.DPADModel\u001b[0m [DPADModel.py > 1557] \u001b[1;30mINFO\u001b[0m Training Z pred after fitting RNN1: \n",
      "1-step: MSE_maskV_None=0.859, R2_maskV_None=0.141, CC_maskV_None=0.375\n",
      "\u001b[32m2024-10-25 20:18:32\u001b[0m \u001b[34mDPAD.DPADModel\u001b[0m [DPADModel.py > 1659] \u001b[1;30mINFO\u001b[0m Stage 1: Learning Cy1 (YType: cont)\n",
      "\u001b[32m2024-10-25 20:18:57\u001b[0m \u001b[34mDPAD.tools.model_base_classes\u001b[0m [model_base_classes.py > 114] \u001b[1;30mINFO\u001b[0m Restoring model weights from the end of the best epoch: 2 (stopped at 4 epochs).\n",
      "\u001b[32m2024-10-25 20:18:57\u001b[0m \u001b[34mDPAD.tools.model_base_classes\u001b[0m [model_base_classes.py > 499] \u001b[1;30mINFO\u001b[0m \n",
      "Epoch 1/5 - loss=mse=28.121273, R2_maskV_None=-29.572006, CC_maskV_None=0.055150658, learning_rate=0.001\n",
      "Epoch 2/5 - loss=mse=0.99715918, R2_maskV_None=-0.031147812, CC_maskV_None=0.054714713, learning_rate=0.001\n",
      "Epoch 3/5 - loss=mse=0.99751717, R2_maskV_None=-0.031152941, CC_maskV_None=0.052751102, learning_rate=0.001\n",
      "Epoch 4/5 - loss=mse=0.99747199, R2_maskV_None=-0.031965982, CC_maskV_None=0.051998291, learning_rate=0.001\n",
      "Epoch 5/5 - loss=mse=0.99759948, R2_maskV_None=-0.032995962, CC_maskV_None=0.052730627, learning_rate=0.001\n",
      "\n",
      "\u001b[32m2024-10-25 20:18:57\u001b[0m \u001b[34mDPAD.tools.model_base_classes\u001b[0m [model_base_classes.py > 539] \u001b[1;30mINFO\u001b[0m Model fitting took 25.73s\n",
      "\u001b[32m2024-10-25 20:18:57\u001b[0m \u001b[34mDPAD.RegressionModel\u001b[0m [RegressionModel.py > 470] \u001b[1;30mINFO\u001b[0m Model fitting finished. Had 5625 batches each with batch_size of 32 samples each (ny_in=1, ny_out=1)\n"
     ]
    },
    {
     "name": "stdout",
     "output_type": "stream",
     "text": [
      "5625/5625 [==============================] - 5s 802us/step\n"
     ]
    },
    {
     "name": "stderr",
     "output_type": "stream",
     "text": [
      "\u001b[32m2024-10-25 20:19:04\u001b[0m \u001b[34mDPAD.DPADModel\u001b[0m [DPADModel.py > 1712] \u001b[1;30mINFO\u001b[0m Training Y pred after fitting model1_Cy: \n",
      "1-step: MSE_maskV_None=0.997, R2_maskV_None=0.00297, CC_maskV_None=0.0568\n"
     ]
    },
    {
     "name": "stdout",
     "output_type": "stream",
     "text": [
      "5625/5625 [==============================] - 5s 853us/step\n"
     ]
    },
    {
     "name": "stderr",
     "output_type": "stream",
     "text": [
      "\u001b[32m2024-10-25 20:19:11\u001b[0m \u001b[34mDPAD.DPADModel\u001b[0m [DPADModel.py > 1781] \u001b[1;30mINFO\u001b[0m Stage 2: Learning A12, A22, K2, Cy2 (YType: cont)\n",
      "\u001b[32m2024-10-25 20:19:11\u001b[0m \u001b[34mDPAD.RNNModel\u001b[0m [RNNModel.py > 1583] \u001b[1;30mINFO\u001b[0m Shifting output by 1 samples to train network for 1-step ahead prediction\n",
      "\u001b[32m2024-10-25 20:19:11\u001b[0m \u001b[34mDPAD.RNNModel\u001b[0m [RNNModel.py > 1743] \u001b[1;30mINFO\u001b[0m Have 45 batches each with 31 128-sample data segments (ny_in=2, ny_out=1, nft=0)\n",
      "\u001b[32m2024-10-25 20:19:56\u001b[0m \u001b[34mDPAD.tools.model_base_classes\u001b[0m [model_base_classes.py > 114] \u001b[1;30mINFO\u001b[0m Restoring model weights from the end of the best epoch: 35 (stopped at 37 epochs).\n",
      "\u001b[32m2024-10-25 20:19:56\u001b[0m \u001b[34mDPAD.tools.model_base_classes\u001b[0m [model_base_classes.py > 499] \u001b[1;30mINFO\u001b[0m \n",
      "Epoch 1/38 - loss=rnn_1_1step_loss=rnn_1_1step_mse=0.99221951, rnn_1_1step_R2_maskV_None=0.0070929569, rnn_1_1step_CC_maskV_None=0.084521875, learning_rate=0.001\n",
      "Epoch 5/38 - loss=rnn_1_1step_loss=rnn_1_1step_mse=0.98107505, rnn_1_1step_R2_maskV_None=0.018240752, rnn_1_1step_CC_maskV_None=0.13633689, learning_rate=0.001\n",
      "Epoch 9/38 - loss=rnn_1_1step_loss=rnn_1_1step_mse=0.97343278, rnn_1_1step_R2_maskV_None=0.025882827, rnn_1_1step_CC_maskV_None=0.16204858, learning_rate=0.001\n",
      "Epoch 13/38 - loss=rnn_1_1step_loss=rnn_1_1step_mse=0.96931809, rnn_1_1step_R2_maskV_None=0.029993258, rnn_1_1step_CC_maskV_None=0.17441791, learning_rate=0.001\n",
      "Epoch 17/38 - loss=rnn_1_1step_loss=rnn_1_1step_mse=0.96909642, rnn_1_1step_R2_maskV_None=0.03021458, rnn_1_1step_CC_maskV_None=0.17501962, learning_rate=0.001\n",
      "Epoch 21/38 - loss=rnn_1_1step_loss=rnn_1_1step_mse=0.96892941, rnn_1_1step_R2_maskV_None=0.030381672, rnn_1_1step_CC_maskV_None=0.17561902, learning_rate=0.001\n",
      "Epoch 25/38 - loss=rnn_1_1step_loss=rnn_1_1step_mse=0.96888316, rnn_1_1step_R2_maskV_None=0.03042849, rnn_1_1step_CC_maskV_None=0.17581853, learning_rate=0.001\n",
      "Epoch 29/38 - loss=rnn_1_1step_loss=rnn_1_1step_mse=0.96879041, rnn_1_1step_R2_maskV_None=0.030521883, rnn_1_1step_CC_maskV_None=0.17593612, learning_rate=0.001\n",
      "Epoch 33/38 - loss=rnn_1_1step_loss=rnn_1_1step_mse=0.96867526, rnn_1_1step_R2_maskV_None=0.03063735, rnn_1_1step_CC_maskV_None=0.1759793, learning_rate=0.001\n",
      "Epoch 37/38 - loss=rnn_1_1step_loss=rnn_1_1step_mse=0.96866679, rnn_1_1step_R2_maskV_None=0.030644672, rnn_1_1step_CC_maskV_None=0.17593856, learning_rate=0.001\n",
      "Epoch 38/38 - loss=rnn_1_1step_loss=rnn_1_1step_mse=0.9686771, rnn_1_1step_R2_maskV_None=0.030633993, rnn_1_1step_CC_maskV_None=0.17592238, learning_rate=0.001\n",
      "\n",
      "\u001b[32m2024-10-25 20:19:56\u001b[0m \u001b[34mDPAD.tools.model_base_classes\u001b[0m [model_base_classes.py > 539] \u001b[1;30mINFO\u001b[0m Model fitting took 45.19s\n",
      "\u001b[32m2024-10-25 20:20:13\u001b[0m \u001b[34mDPAD.DPADModel\u001b[0m [DPADModel.py > 1818] \u001b[1;30mINFO\u001b[0m Training Y pred after fitting RNN2: \n",
      "1-step: MSE_maskV_None=0.968, R2_maskV_None=0.0319, CC_maskV_None=0.179\n",
      "\u001b[32m2024-10-25 20:20:13\u001b[0m \u001b[34mDPAD.DPADModel\u001b[0m [DPADModel.py > 2017] \u001b[1;30mINFO\u001b[0m Stage 2: Learning Cz2 (ZType: cont)\n",
      "\u001b[32m2024-10-25 20:20:44\u001b[0m \u001b[34mDPAD.tools.model_base_classes\u001b[0m [model_base_classes.py > 114] \u001b[1;30mINFO\u001b[0m Restoring model weights from the end of the best epoch: 3 (stopped at 5 epochs).\n",
      "\u001b[32m2024-10-25 20:20:44\u001b[0m \u001b[34mDPAD.tools.model_base_classes\u001b[0m [model_base_classes.py > 499] \u001b[1;30mINFO\u001b[0m \n",
      "Epoch 1/6 - loss=mse=1.2500097, R2_maskV_None=-0.32018816, CC_maskV_None=0.15966332, learning_rate=0.001\n",
      "Epoch 2/6 - loss=mse=0.8625657, R2_maskV_None=0.09887936, CC_maskV_None=0.36169383, learning_rate=0.001\n",
      "Epoch 3/6 - loss=mse=0.85950232, R2_maskV_None=0.10113304, CC_maskV_None=0.36243486, learning_rate=0.001\n",
      "Epoch 4/6 - loss=mse=0.85960269, R2_maskV_None=0.10034981, CC_maskV_None=0.36247516, learning_rate=0.001\n",
      "Epoch 5/6 - loss=mse=0.85960627, R2_maskV_None=0.10097937, CC_maskV_None=0.3621327, learning_rate=0.001\n",
      "Epoch 6/6 - loss=mse=0.85957164, R2_maskV_None=0.09999302, CC_maskV_None=0.36254957, learning_rate=0.001\n",
      "\n",
      "\u001b[32m2024-10-25 20:20:44\u001b[0m \u001b[34mDPAD.tools.model_base_classes\u001b[0m [model_base_classes.py > 539] \u001b[1;30mINFO\u001b[0m Model fitting took 30.83s\n",
      "\u001b[32m2024-10-25 20:20:44\u001b[0m \u001b[34mDPAD.RegressionModel\u001b[0m [RegressionModel.py > 470] \u001b[1;30mINFO\u001b[0m Model fitting finished. Had 5625 batches each with batch_size of 32 samples each (ny_in=3, ny_out=1)\n"
     ]
    },
    {
     "name": "stdout",
     "output_type": "stream",
     "text": [
      "5625/5625 [==============================] - 5s 871us/step\n",
      "5625/5625 [==============================] - 5s 842us/step\n"
     ]
    },
    {
     "name": "stderr",
     "output_type": "stream",
     "text": [
      "\u001b[32m2024-10-25 20:20:57\u001b[0m \u001b[34mDPAD.DPADModel\u001b[0m [DPADModel.py > 2064] \u001b[1;30mINFO\u001b[0m Training Z pred after fitting model2_Cz: \n",
      "1-step: MSE_maskV_None=0.859, R2_maskV_None=0.14, CC_maskV_None=0.376\n"
     ]
    },
    {
     "name": "stdout",
     "output_type": "stream",
     "text": [
      "625/625 [==============================] - 0s 777us/step\n",
      "625/625 [==============================] - 1s 803us/step\n",
      "DPAD_KNonLin => Behavior decoding CC: 0.366, Neural self-prediction CC: 0.174\n",
      "Working on DPAD_Linear, with nx=4 and n1=1\n"
     ]
    },
    {
     "name": "stderr",
     "output_type": "stream",
     "text": [
      "\u001b[32m2024-10-25 20:21:01\u001b[0m \u001b[34mDPAD.DPADModel\u001b[0m [DPADModel.py > 1525] \u001b[1;30mINFO\u001b[0m Stage 1: Learning A11, K1, Cz1 (ZType: cont)\n",
      "\u001b[32m2024-10-25 20:21:01\u001b[0m \u001b[34mDPAD.RNNModel\u001b[0m [RNNModel.py > 1583] \u001b[1;30mINFO\u001b[0m Shifting output by 1 samples to train network for 1-step ahead prediction\n",
      "\u001b[32m2024-10-25 20:21:01\u001b[0m \u001b[34mDPAD.RNNModel\u001b[0m [RNNModel.py > 1743] \u001b[1;30mINFO\u001b[0m Have 45 batches each with 31 128-sample data segments (ny_in=1, ny_out=1, nft=0)\n",
      "\u001b[32m2024-10-25 20:21:11\u001b[0m \u001b[34mDPAD.tools.model_base_classes\u001b[0m [model_base_classes.py > 114] \u001b[1;30mINFO\u001b[0m Restoring model weights from the end of the best epoch: 15 (stopped at 17 epochs).\n",
      "\u001b[32m2024-10-25 20:21:11\u001b[0m \u001b[34mDPAD.tools.model_base_classes\u001b[0m [model_base_classes.py > 499] \u001b[1;30mINFO\u001b[0m \n",
      "Epoch 1/18 - loss=rnn_1step_loss=rnn_1step_mse=1.0002804, rnn_1step_R2_maskV_None=-0.00049620069, rnn_1step_CC_maskV_None=-0.12823616, learning_rate=0.001\n",
      "Epoch 3/18 - loss=rnn_1step_loss=rnn_1step_mse=0.99418348, rnn_1step_R2_maskV_None=0.0056008482, rnn_1step_CC_maskV_None=0.28446439, learning_rate=0.001\n",
      "Epoch 5/18 - loss=rnn_1step_loss=rnn_1step_mse=0.95916837, rnn_1step_R2_maskV_None=0.040594552, rnn_1step_CC_maskV_None=0.30838615, learning_rate=0.001\n",
      "Epoch 7/18 - loss=rnn_1step_loss=rnn_1step_mse=0.9135111, rnn_1step_R2_maskV_None=0.086199261, rnn_1step_CC_maskV_None=0.32194096, learning_rate=0.001\n",
      "Epoch 9/18 - loss=rnn_1step_loss=rnn_1step_mse=0.89610898, rnn_1step_R2_maskV_None=0.10354935, rnn_1step_CC_maskV_None=0.32364255, learning_rate=0.001\n",
      "Epoch 11/18 - loss=rnn_1step_loss=rnn_1step_mse=0.89509857, rnn_1step_R2_maskV_None=0.10454597, rnn_1step_CC_maskV_None=0.32375935, learning_rate=0.001\n",
      "Epoch 13/18 - loss=rnn_1step_loss=rnn_1step_mse=0.89501095, rnn_1step_R2_maskV_None=0.10463026, rnn_1step_CC_maskV_None=0.32384995, learning_rate=0.001\n",
      "Epoch 15/18 - loss=rnn_1step_loss=rnn_1step_mse=0.89500386, rnn_1step_R2_maskV_None=0.10463634, rnn_1step_CC_maskV_None=0.32385948, learning_rate=0.001\n",
      "Epoch 17/18 - loss=rnn_1step_loss=rnn_1step_mse=0.89500481, rnn_1step_R2_maskV_None=0.10463514, rnn_1step_CC_maskV_None=0.32385954, learning_rate=0.001\n",
      "Epoch 18/18 - loss=rnn_1step_loss=rnn_1step_mse=0.89500529, rnn_1step_R2_maskV_None=0.10463457, rnn_1step_CC_maskV_None=0.32385924, learning_rate=0.001\n",
      "\n",
      "\u001b[32m2024-10-25 20:21:11\u001b[0m \u001b[34mDPAD.tools.model_base_classes\u001b[0m [model_base_classes.py > 539] \u001b[1;30mINFO\u001b[0m Model fitting took 10.26s\n",
      "\u001b[32m2024-10-25 20:21:24\u001b[0m \u001b[34mDPAD.DPADModel\u001b[0m [DPADModel.py > 1557] \u001b[1;30mINFO\u001b[0m Training Z pred after fitting RNN1: \n",
      "1-step: MSE_maskV_None=0.894, R2_maskV_None=0.106, CC_maskV_None=0.325\n",
      "\u001b[32m2024-10-25 20:21:24\u001b[0m \u001b[34mDPAD.DPADModel\u001b[0m [DPADModel.py > 1659] \u001b[1;30mINFO\u001b[0m Stage 1: Learning Cy1 (YType: cont)\n",
      "\u001b[32m2024-10-25 20:22:15\u001b[0m \u001b[34mDPAD.tools.model_base_classes\u001b[0m [model_base_classes.py > 114] \u001b[1;30mINFO\u001b[0m Restoring model weights from the end of the best epoch: 7 (stopped at 9 epochs).\n",
      "\u001b[32m2024-10-25 20:22:15\u001b[0m \u001b[34mDPAD.tools.model_base_classes\u001b[0m [model_base_classes.py > 499] \u001b[1;30mINFO\u001b[0m \n",
      "Epoch 1/10 - loss=mse=1.0816962, R2_maskV_None=-0.1225118, CC_maskV_None=0.0085779438, learning_rate=0.001\n",
      "Epoch 2/10 - loss=mse=0.99696058, R2_maskV_None=-0.030928459, CC_maskV_None=0.055683047, learning_rate=0.001\n",
      "Epoch 3/10 - loss=mse=0.99696356, R2_maskV_None=-0.030556982, CC_maskV_None=0.056016516, learning_rate=0.001\n",
      "Epoch 4/10 - loss=mse=0.99693674, R2_maskV_None=-0.031342886, CC_maskV_None=0.055503678, learning_rate=0.001\n",
      "Epoch 5/10 - loss=mse=0.99696875, R2_maskV_None=-0.032346126, CC_maskV_None=0.054918155, learning_rate=0.001\n",
      "Epoch 6/10 - loss=mse=0.996988, R2_maskV_None=-0.031223603, CC_maskV_None=0.054504648, learning_rate=0.001\n",
      "Epoch 7/10 - loss=mse=0.99693006, R2_maskV_None=-0.032208744, CC_maskV_None=0.055230312, learning_rate=0.001\n",
      "Epoch 8/10 - loss=mse=0.99694705, R2_maskV_None=-0.03294858, CC_maskV_None=0.054413605, learning_rate=0.001\n",
      "Epoch 9/10 - loss=mse=0.99698472, R2_maskV_None=-0.031306822, CC_maskV_None=0.053587262, learning_rate=0.001\n",
      "Epoch 10/10 - loss=mse=0.99696583, R2_maskV_None=-0.031505812, CC_maskV_None=0.055190455, learning_rate=0.001\n",
      "\n",
      "\u001b[32m2024-10-25 20:22:15\u001b[0m \u001b[34mDPAD.tools.model_base_classes\u001b[0m [model_base_classes.py > 539] \u001b[1;30mINFO\u001b[0m Model fitting took 50.77s\n",
      "\u001b[32m2024-10-25 20:22:15\u001b[0m \u001b[34mDPAD.RegressionModel\u001b[0m [RegressionModel.py > 470] \u001b[1;30mINFO\u001b[0m Model fitting finished. Had 5625 batches each with batch_size of 32 samples each (ny_in=1, ny_out=1)\n"
     ]
    },
    {
     "name": "stdout",
     "output_type": "stream",
     "text": [
      "5625/5625 [==============================] - 4s 758us/step\n"
     ]
    },
    {
     "name": "stderr",
     "output_type": "stream",
     "text": [
      "\u001b[32m2024-10-25 20:22:21\u001b[0m \u001b[34mDPAD.DPADModel\u001b[0m [DPADModel.py > 1712] \u001b[1;30mINFO\u001b[0m Training Y pred after fitting model1_Cy: \n",
      "1-step: MSE_maskV_None=0.997, R2_maskV_None=0.00283, CC_maskV_None=0.0557\n"
     ]
    },
    {
     "name": "stdout",
     "output_type": "stream",
     "text": [
      "5625/5625 [==============================] - 5s 831us/step\n"
     ]
    },
    {
     "name": "stderr",
     "output_type": "stream",
     "text": [
      "\u001b[32m2024-10-25 20:22:28\u001b[0m \u001b[34mDPAD.DPADModel\u001b[0m [DPADModel.py > 1781] \u001b[1;30mINFO\u001b[0m Stage 2: Learning A12, A22, K2, Cy2 (YType: cont)\n",
      "\u001b[32m2024-10-25 20:22:28\u001b[0m \u001b[34mDPAD.RNNModel\u001b[0m [RNNModel.py > 1583] \u001b[1;30mINFO\u001b[0m Shifting output by 1 samples to train network for 1-step ahead prediction\n",
      "\u001b[32m2024-10-25 20:22:28\u001b[0m \u001b[34mDPAD.RNNModel\u001b[0m [RNNModel.py > 1743] \u001b[1;30mINFO\u001b[0m Have 45 batches each with 31 128-sample data segments (ny_in=2, ny_out=1, nft=0)\n",
      "\u001b[32m2024-10-25 20:23:00\u001b[0m \u001b[34mDPAD.tools.model_base_classes\u001b[0m [model_base_classes.py > 114] \u001b[1;30mINFO\u001b[0m Restoring model weights from the end of the best epoch: 39 (stopped at 41 epochs).\n",
      "\u001b[32m2024-10-25 20:23:00\u001b[0m \u001b[34mDPAD.tools.model_base_classes\u001b[0m [model_base_classes.py > 499] \u001b[1;30mINFO\u001b[0m \n",
      "Epoch 1/42 - loss=rnn_1_1step_loss=rnn_1_1step_mse=0.99495566, rnn_1_1step_R2_maskV_None=0.0043614283, rnn_1_1step_CC_maskV_None=0.073611788, learning_rate=0.001\n",
      "Epoch 6/42 - loss=rnn_1_1step_loss=rnn_1_1step_mse=0.97355521, rnn_1_1step_R2_maskV_None=0.025763718, rnn_1_1step_CC_maskV_None=0.16132496, learning_rate=0.001\n",
      "Epoch 11/42 - loss=rnn_1_1step_loss=rnn_1_1step_mse=0.96835345, rnn_1_1step_R2_maskV_None=0.03095443, rnn_1_1step_CC_maskV_None=0.17664073, learning_rate=0.001\n",
      "Epoch 16/42 - loss=rnn_1_1step_loss=rnn_1_1step_mse=0.96833074, rnn_1_1step_R2_maskV_None=0.030977298, rnn_1_1step_CC_maskV_None=0.17670025, learning_rate=0.001\n",
      "Epoch 21/42 - loss=rnn_1_1step_loss=rnn_1_1step_mse=0.96830475, rnn_1_1step_R2_maskV_None=0.031003444, rnn_1_1step_CC_maskV_None=0.1767756, learning_rate=0.001\n",
      "Epoch 26/42 - loss=rnn_1_1step_loss=rnn_1_1step_mse=0.96827924, rnn_1_1step_R2_maskV_None=0.031029377, rnn_1_1step_CC_maskV_None=0.17685427, learning_rate=0.001\n",
      "Epoch 31/42 - loss=rnn_1_1step_loss=rnn_1_1step_mse=0.96825945, rnn_1_1step_R2_maskV_None=0.031049309, rnn_1_1step_CC_maskV_None=0.17691852, learning_rate=0.001\n",
      "Epoch 36/42 - loss=rnn_1_1step_loss=rnn_1_1step_mse=0.96824962, rnn_1_1step_R2_maskV_None=0.031059213, rnn_1_1step_CC_maskV_None=0.17695549, learning_rate=0.001\n",
      "Epoch 41/42 - loss=rnn_1_1step_loss=rnn_1_1step_mse=0.96824843, rnn_1_1step_R2_maskV_None=0.03106056, rnn_1_1step_CC_maskV_None=0.17696783, learning_rate=0.001\n",
      "Epoch 42/42 - loss=rnn_1_1step_loss=rnn_1_1step_mse=0.96824867, rnn_1_1step_R2_maskV_None=0.031060202, rnn_1_1step_CC_maskV_None=0.17696837, learning_rate=0.001\n",
      "\n",
      "\u001b[32m2024-10-25 20:23:00\u001b[0m \u001b[34mDPAD.tools.model_base_classes\u001b[0m [model_base_classes.py > 539] \u001b[1;30mINFO\u001b[0m Model fitting took 31.49s\n",
      "\u001b[32m2024-10-25 20:23:15\u001b[0m \u001b[34mDPAD.DPADModel\u001b[0m [DPADModel.py > 1818] \u001b[1;30mINFO\u001b[0m Training Y pred after fitting RNN2: \n",
      "1-step: MSE_maskV_None=0.968, R2_maskV_None=0.0322, CC_maskV_None=0.179\n",
      "\u001b[32m2024-10-25 20:23:15\u001b[0m \u001b[34mDPAD.DPADModel\u001b[0m [DPADModel.py > 2017] \u001b[1;30mINFO\u001b[0m Stage 2: Learning Cz2 (ZType: cont)\n",
      "\u001b[32m2024-10-25 20:24:05\u001b[0m \u001b[34mDPAD.tools.model_base_classes\u001b[0m [model_base_classes.py > 114] \u001b[1;30mINFO\u001b[0m Restoring model weights from the end of the best epoch: 7 (stopped at 9 epochs).\n",
      "\u001b[32m2024-10-25 20:24:05\u001b[0m \u001b[34mDPAD.tools.model_base_classes\u001b[0m [model_base_classes.py > 499] \u001b[1;30mINFO\u001b[0m \n",
      "Epoch 1/10 - loss=mse=0.95532048, R2_maskV_None=-0.0052290657, CC_maskV_None=0.28363532, learning_rate=0.001\n",
      "Epoch 2/10 - loss=mse=0.89874947, R2_maskV_None=0.059733268, CC_maskV_None=0.30365884, learning_rate=0.001\n",
      "Epoch 3/10 - loss=mse=0.89596313, R2_maskV_None=0.063441068, CC_maskV_None=0.30635095, learning_rate=0.001\n",
      "Epoch 4/10 - loss=mse=0.89499193, R2_maskV_None=0.063903876, CC_maskV_None=0.30797625, learning_rate=0.001\n",
      "Epoch 5/10 - loss=mse=0.894629, R2_maskV_None=0.06472639, CC_maskV_None=0.30838451, learning_rate=0.001\n",
      "Epoch 6/10 - loss=mse=0.89440304, R2_maskV_None=0.063868068, CC_maskV_None=0.30850643, learning_rate=0.001\n",
      "Epoch 7/10 - loss=mse=0.89437544, R2_maskV_None=0.06480176, CC_maskV_None=0.30925059, learning_rate=0.001\n",
      "Epoch 8/10 - loss=mse=0.89444238, R2_maskV_None=0.065858357, CC_maskV_None=0.30998144, learning_rate=0.001\n",
      "Epoch 9/10 - loss=mse=0.89439452, R2_maskV_None=0.064679585, CC_maskV_None=0.30943283, learning_rate=0.001\n",
      "Epoch 10/10 - loss=mse=0.89442658, R2_maskV_None=0.065463886, CC_maskV_None=0.30948836, learning_rate=0.001\n",
      "\n",
      "\u001b[32m2024-10-25 20:24:05\u001b[0m \u001b[34mDPAD.tools.model_base_classes\u001b[0m [model_base_classes.py > 539] \u001b[1;30mINFO\u001b[0m Model fitting took 49.59s\n",
      "\u001b[32m2024-10-25 20:24:05\u001b[0m \u001b[34mDPAD.RegressionModel\u001b[0m [RegressionModel.py > 470] \u001b[1;30mINFO\u001b[0m Model fitting finished. Had 5625 batches each with batch_size of 32 samples each (ny_in=3, ny_out=1)\n"
     ]
    },
    {
     "name": "stdout",
     "output_type": "stream",
     "text": [
      "5625/5625 [==============================] - 5s 864us/step\n",
      "5625/5625 [==============================] - 5s 860us/step\n"
     ]
    },
    {
     "name": "stderr",
     "output_type": "stream",
     "text": [
      "\u001b[32m2024-10-25 20:24:19\u001b[0m \u001b[34mDPAD.DPADModel\u001b[0m [DPADModel.py > 2064] \u001b[1;30mINFO\u001b[0m Training Z pred after fitting model2_Cz: \n",
      "1-step: MSE_maskV_None=0.895, R2_maskV_None=0.105, CC_maskV_None=0.324\n"
     ]
    },
    {
     "name": "stdout",
     "output_type": "stream",
     "text": [
      "625/625 [==============================] - 0s 732us/step\n",
      "625/625 [==============================] - 1s 816us/step\n",
      "DPAD_Linear => Behavior decoding CC: 0.31, Neural self-prediction CC: 0.177\n"
     ]
    }
   ],
   "source": [
    "zCCAllH, yCCAllH, labelsH, idSysAllH = run_methods(\n",
    "    [\n",
    "        \"DPAD_CzNonLin\",  # Only Cz will be nonlinear\n",
    "        \"DPAD_CyNonLin\",  # Only Cy will be nonlinear\n",
    "        \"DPAD_ANonLin\",  # Only A will be nonlinear\n",
    "        \"DPAD_KNonLin\",  # Only K will be nonlinear\n",
    "        \"DPAD_Linear\",  # Fully linear\n",
    "    ],\n",
    "    nx=nx,\n",
    "    n1Vals=[n1],\n",
    ")\n",
    "\n"
   ]
  },
  {
   "cell_type": "code",
   "execution_count": 34,
   "metadata": {},
   "outputs": [
    {
     "data": {
      "image/png": "[encoded data removed]",
      "text/plain": [
       "<Figure size 1000x500 with 1 Axes>"
      ]
     },
     "metadata": {},
     "output_type": "display_data"
    }
   ],
   "source": [
    "zCCAllHA = [zCCIdeal, zCCNonLinF] + zCCAllH\n",
    "yCCAllHA = [yCCIdeal, yCCNonLinF] + yCCAllH\n",
    "labelsHA = [\"Ideal\", \"DPAD\\nFlexible\\nNonlinearity\"] + labelsH\n",
    "colsHA = []\n",
    "for label in labelsHA:\n",
    "    marker = \"+\"\n",
    "    if \"Ideal\" in label:\n",
    "        col = \"#010101\"  # Black\n",
    "    elif \"Flexible\" in label:\n",
    "        col = \"#1d5925\"  # Dark green\n",
    "    elif \"CzNonLin\" in label:\n",
    "        col = \"#ee2a7b\"  # Magenta\n",
    "    elif \"CyNonLin\" in label:\n",
    "        col = \"#662d91\"  # Purple\n",
    "    elif \"ANonLin\" in label:\n",
    "        col = \"#f15a29\"  # Orange\n",
    "    elif \"KNonLin\" in label:\n",
    "        col = \"#27aae1\"  # Cyan\n",
    "    elif \"Linear\" in label:\n",
    "        col = \"#39b54a\"  # Light Green\n",
    "    else:\n",
    "        col = None\n",
    "    colsHA.append(col)\n",
    "labelsHA = [\n",
    "    L.replace(f\"\\nnx={nx}\", \"\").replace(\"NonLin\", \" Nonlinear\") for L in labelsHA\n",
    "]\n",
    "plotDecodingVsSelfPred(zCCAllHA, yCCAllHA, labelsHA, colsHA, figsize=(10, 5))\n",
    "\n"
   ]
  },
  {
   "cell_type": "markdown",
   "metadata": {},
   "source": [
    "  We see that DPAD correctly identifies the origin of nonlinearity in this simulated example, because the model with the correct nonlinearity (i.e., with nonlinearity in the behavior readout parameter $C_z$) outperforms all other nonlinearities and reaches decoding and self-prediction similar to those of DPAD with flexible nonlinearity. For examples with other locations for nonlinearity see **ED Fig. 2** in the [DPAD paper](https://doi.org/10.1038/s41593-024-01731-2).\n",
    "\n",
    "  **Note:** If the goal is to model the data as accurately as possible, DPAD with flexible nonlinearity should be used to automatically fit nonlinearities. However, when the goal is to test hypotheses regarding the origin of nonlinearity (use-case 4), DPAD with flexible nonlinearity is not sufficient and one also needs to construct alternative models and compare them as shown in **Results** (**Fig. 6** in the [DPAD paper](https://doi.org/10.1038/s41593-024-01731-2)).\n",
    "\n",
    "  **Note 2:** Here, for ease of exposition, we only performed training and testing on one train/test split in one simulated data. In the manuscript, we have multiple experimental sessions each giving us performance values for each hypothesis regarding the origin of nonlinearity. Among these hypotheses, we then perform statistical tests to find the nonlinearity that is on the best performance frontier of neural/behavioral prediction, as described in the [DPAD paper](https://doi.org/10.1038/s41593-024-01731-2) (see **Fig. 6a** and the definition of performance frontier in **Results**/**Methods**). See more in **Fig. 6**, **ED Fig. 2**, and **S Fig. 6**."
   ]
  },
  {
   "cell_type": "markdown",
   "metadata": {},
   "source": [
    "   ## Use-case 5: Modeling non-Gaussian and intermittently sampled behaviors\n",
    "  As **Fig. 7** and **ED Figs. 8-9, S Fig. 8** in the [DPAD paper](https://doi.org/10.1038/s41593-024-01731-2) demonstrate, DPAD extends to modeling non-Gaussian and intermittently sampled behaviors, respectively. Here, we will emulate modeling of categorical behavioral data by assigning categories to different ranges of behavior values in the same simulated data. For ease of exposition, here for both DPAD and NDM we put the nonlinearity in the correct location (consistent with the true simulated model in this example), which is in the behavior readout parameter $C_z$.\n"
   ]
  },
  {
   "cell_type": "code",
   "execution_count": 35,
   "metadata": {},
   "outputs": [
    {
     "name": "stdout",
     "output_type": "stream",
     "text": [
      "Working on DPAD_CzNonLin, with nx=1 and n1=1\n"
     ]
    },
    {
     "name": "stderr",
     "output_type": "stream",
     "text": [
      "\u001b[32m2024-10-25 20:24:23\u001b[0m \u001b[34mDPAD.DPADModel\u001b[0m [DPADModel.py > 1525] \u001b[1;30mINFO\u001b[0m Stage 1: Learning A11, K1, Cz1 (ZType: cat)\n",
      "\u001b[32m2024-10-25 20:24:23\u001b[0m \u001b[34mDPAD.RNNModel\u001b[0m [RNNModel.py > 1583] \u001b[1;30mINFO\u001b[0m Shifting output by 1 samples to train network for 1-step ahead prediction\n",
      "\u001b[32m2024-10-25 20:24:23\u001b[0m \u001b[34mDPAD.RNNModel\u001b[0m [RNNModel.py > 1743] \u001b[1;30mINFO\u001b[0m Have 45 batches each with 31 128-sample data segments (ny_in=1, ny_out=1, nft=0)\n",
      "\u001b[32m2024-10-25 20:26:22\u001b[0m \u001b[34mDPAD.tools.model_base_classes\u001b[0m [model_base_classes.py > 114] \u001b[1;30mINFO\u001b[0m Restoring model weights from the end of the best epoch: 155 (stopped at 157 epochs).\n",
      "\u001b[32m2024-10-25 20:26:22\u001b[0m \u001b[34mDPAD.tools.model_base_classes\u001b[0m [model_base_classes.py > 499] \u001b[1;30mINFO\u001b[0m \n",
      "Epoch 1/158 - loss=rnn_1step_loss=1.0928069, rnn_1step_categorical_crossentropy=1.0928073, learning_rate=0.001\n",
      "Epoch 17/158 - loss=rnn_1step_loss=0.95470017, rnn_1step_categorical_crossentropy=0.95470029, learning_rate=0.001\n",
      "Epoch 33/158 - loss=rnn_1step_loss=0.95313323, rnn_1step_categorical_crossentropy=0.95313317, learning_rate=0.001\n",
      "Epoch 49/158 - loss=rnn_1step_loss=0.9527722, rnn_1step_categorical_crossentropy=0.95277208, learning_rate=0.001\n",
      "Epoch 65/158 - loss=rnn_1step_loss=0.95250338, rnn_1step_categorical_crossentropy=0.95250344, learning_rate=0.001\n",
      "Epoch 81/158 - loss=rnn_1step_loss=rnn_1step_categorical_crossentropy=0.95235747, learning_rate=0.001\n",
      "Epoch 97/158 - loss=rnn_1step_loss=0.95225352, rnn_1step_categorical_crossentropy=0.95225328, learning_rate=0.001\n",
      "Epoch 113/158 - loss=rnn_1step_loss=0.95217609, rnn_1step_categorical_crossentropy=0.95217597, learning_rate=0.001\n",
      "Epoch 129/158 - loss=rnn_1step_loss=0.95213234, rnn_1step_categorical_crossentropy=0.95213223, learning_rate=0.001\n",
      "Epoch 145/158 - loss=rnn_1step_loss=rnn_1step_categorical_crossentropy=0.95209044, learning_rate=0.001\n",
      "Epoch 158/158 - loss=rnn_1step_loss=0.95207447, rnn_1step_categorical_crossentropy=0.95207471, learning_rate=0.001\n",
      "\n",
      "\u001b[32m2024-10-25 20:26:22\u001b[0m \u001b[34mDPAD.tools.model_base_classes\u001b[0m [model_base_classes.py > 539] \u001b[1;30mINFO\u001b[0m Model fitting took 119.10s\n",
      "\u001b[32m2024-10-25 20:26:40\u001b[0m \u001b[34mDPAD.DPADModel\u001b[0m [DPADModel.py > 1557] \u001b[1;30mINFO\u001b[0m Training Z pred after fitting RNN1: \n",
      "1-step: CCE_maskV_None=1.02\n",
      "\u001b[32m2024-10-25 20:26:40\u001b[0m \u001b[34mDPAD.DPADModel\u001b[0m [DPADModel.py > 1659] \u001b[1;30mINFO\u001b[0m Stage 1: Learning Cy1 (YType: cont)\n",
      "\u001b[32m2024-10-25 20:27:31\u001b[0m \u001b[34mDPAD.tools.model_base_classes\u001b[0m [model_base_classes.py > 114] \u001b[1;30mINFO\u001b[0m Restoring model weights from the end of the best epoch: 7 (stopped at 9 epochs).\n",
      "\u001b[32m2024-10-25 20:27:31\u001b[0m \u001b[34mDPAD.tools.model_base_classes\u001b[0m [model_base_classes.py > 499] \u001b[1;30mINFO\u001b[0m \n",
      "Epoch 1/10 - loss=mse=1.0319443, R2_maskV_None=-0.068786122, CC_maskV_None=0.0230106, learning_rate=0.001\n",
      "Epoch 2/10 - loss=mse=0.99694633, R2_maskV_None=-0.030914335, CC_maskV_None=0.055869699, learning_rate=0.001\n",
      "Epoch 3/10 - loss=mse=0.99694765, R2_maskV_None=-0.03054519, CC_maskV_None=0.056202784, learning_rate=0.001\n",
      "Epoch 4/10 - loss=mse=0.99691987, R2_maskV_None=-0.031327646, CC_maskV_None=0.055690266, learning_rate=0.001\n",
      "Epoch 5/10 - loss=mse=0.99695498, R2_maskV_None=-0.032335527, CC_maskV_None=0.05510629, learning_rate=0.001\n",
      "Epoch 6/10 - loss=mse=0.99697649, R2_maskV_None=-0.031212213, CC_maskV_None=0.054690607, learning_rate=0.001\n",
      "Epoch 7/10 - loss=mse=0.99691373, R2_maskV_None=-0.032190043, CC_maskV_None=0.055418331, learning_rate=0.001\n",
      "Epoch 8/10 - loss=mse=0.9969328, R2_maskV_None=-0.032937486, CC_maskV_None=0.054598976, learning_rate=0.001\n",
      "Epoch 9/10 - loss=mse=0.99697214, R2_maskV_None=-0.031295121, CC_maskV_None=0.053775452, learning_rate=0.001\n",
      "Epoch 10/10 - loss=mse=0.99695015, R2_maskV_None=-0.031491634, CC_maskV_None=0.05537964, learning_rate=0.001\n",
      "\n",
      "\u001b[32m2024-10-25 20:27:31\u001b[0m \u001b[34mDPAD.tools.model_base_classes\u001b[0m [model_base_classes.py > 539] \u001b[1;30mINFO\u001b[0m Model fitting took 51.23s\n",
      "\u001b[32m2024-10-25 20:27:31\u001b[0m \u001b[34mDPAD.RegressionModel\u001b[0m [RegressionModel.py > 470] \u001b[1;30mINFO\u001b[0m Model fitting finished. Had 5625 batches each with batch_size of 32 samples each (ny_in=1, ny_out=1)\n"
     ]
    },
    {
     "name": "stdout",
     "output_type": "stream",
     "text": [
      "5625/5625 [==============================] - 4s 787us/step\n"
     ]
    },
    {
     "name": "stderr",
     "output_type": "stream",
     "text": [
      "\u001b[32m2024-10-25 20:27:38\u001b[0m \u001b[34mDPAD.DPADModel\u001b[0m [DPADModel.py > 1712] \u001b[1;30mINFO\u001b[0m Training Y pred after fitting model1_Cy: \n",
      "1-step: MSE_maskV_None=0.997, R2_maskV_None=0.00285, CC_maskV_None=0.0559\n"
     ]
    },
    {
     "name": "stdout",
     "output_type": "stream",
     "text": [
      "5625/5625 [==============================] - 5s 843us/step\n",
      "625/625 [==============================] - 1s 785us/step\n",
      "DPAD_CzNonLin => Behavior decoding AUC: 0.688, Neural self-prediction CC: 0.0481\n",
      "Working on NDM_CzNonLin, with nx=1\n"
     ]
    },
    {
     "name": "stderr",
     "output_type": "stream",
     "text": [
      "\u001b[32m2024-10-25 20:27:46\u001b[0m \u001b[34mDPAD.DPADModel\u001b[0m [DPADModel.py > 1781] \u001b[1;30mINFO\u001b[0m Stage 2: Learning A12, A22, K2, Cy2 (YType: cont)\n",
      "\u001b[32m2024-10-25 20:27:46\u001b[0m \u001b[34mDPAD.RNNModel\u001b[0m [RNNModel.py > 1583] \u001b[1;30mINFO\u001b[0m Shifting output by 1 samples to train network for 1-step ahead prediction\n",
      "\u001b[32m2024-10-25 20:27:46\u001b[0m \u001b[34mDPAD.RNNModel\u001b[0m [RNNModel.py > 1743] \u001b[1;30mINFO\u001b[0m Have 45 batches each with 31 128-sample data segments (ny_in=1, ny_out=1, nft=0)\n",
      "\u001b[32m2024-10-25 20:27:55\u001b[0m \u001b[34mDPAD.tools.model_base_classes\u001b[0m [model_base_classes.py > 114] \u001b[1;30mINFO\u001b[0m Restoring model weights from the end of the best epoch: 10 (stopped at 12 epochs).\n",
      "\u001b[32m2024-10-25 20:27:55\u001b[0m \u001b[34mDPAD.tools.model_base_classes\u001b[0m [model_base_classes.py > 499] \u001b[1;30mINFO\u001b[0m \n",
      "Epoch 1/13 - loss=rnn_1step_loss=rnn_1step_mse=0.99933577, rnn_1step_R2_maskV_None=-2.2564995e-05, rnn_1step_CC_maskV_None=0.085459374, learning_rate=0.001\n",
      "Epoch 3/13 - loss=rnn_1step_loss=rnn_1step_mse=0.9944396, rnn_1step_R2_maskV_None=0.0048766984, rnn_1step_CC_maskV_None=0.11960798, learning_rate=0.001\n",
      "Epoch 5/13 - loss=rnn_1step_loss=rnn_1step_mse=0.98727292, rnn_1step_R2_maskV_None=0.012047459, rnn_1step_CC_maskV_None=0.11973048, learning_rate=0.001\n",
      "Epoch 7/13 - loss=rnn_1step_loss=rnn_1step_mse=0.9852615, rnn_1step_R2_maskV_None=0.01406008, rnn_1step_CC_maskV_None=0.11976024, learning_rate=0.001\n",
      "Epoch 9/13 - loss=rnn_1step_loss=rnn_1step_mse=0.985174, rnn_1step_R2_maskV_None=0.014147527, rnn_1step_CC_maskV_None=0.11976331, learning_rate=0.001\n",
      "Epoch 11/13 - loss=rnn_1step_loss=rnn_1step_mse=0.98517281, rnn_1step_R2_maskV_None=0.014148765, rnn_1step_CC_maskV_None=0.11976386, learning_rate=0.001\n",
      "Epoch 13/13 - loss=rnn_1step_loss=rnn_1step_mse=0.98517263, rnn_1step_R2_maskV_None=0.014148647, rnn_1step_CC_maskV_None=0.1197642, learning_rate=0.001\n",
      "\n",
      "\u001b[32m2024-10-25 20:27:55\u001b[0m \u001b[34mDPAD.tools.model_base_classes\u001b[0m [model_base_classes.py > 539] \u001b[1;30mINFO\u001b[0m Model fitting took 9.00s\n",
      "\u001b[32m2024-10-25 20:28:10\u001b[0m \u001b[34mDPAD.DPADModel\u001b[0m [DPADModel.py > 1818] \u001b[1;30mINFO\u001b[0m Training Y pred after fitting RNN2: \n",
      "1-step: MSE_maskV_None=0.986, R2_maskV_None=0.0145, CC_maskV_None=0.12\n",
      "\u001b[32m2024-10-25 20:28:10\u001b[0m \u001b[34mDPAD.DPADModel\u001b[0m [DPADModel.py > 2017] \u001b[1;30mINFO\u001b[0m Stage 2: Learning Cz2 (ZType: cat)\n",
      "\u001b[32m2024-10-25 20:29:58\u001b[0m \u001b[34mDPAD.tools.model_base_classes\u001b[0m [model_base_classes.py > 114] \u001b[1;30mINFO\u001b[0m Restoring model weights from the end of the best epoch: 15 (stopped at 17 epochs).\n",
      "\u001b[32m2024-10-25 20:29:58\u001b[0m \u001b[34mDPAD.tools.model_base_classes\u001b[0m [model_base_classes.py > 499] \u001b[1;30mINFO\u001b[0m \n",
      "Epoch 1/18 - loss=categorical_crossentropy=1.0640635, learning_rate=0.001\n",
      "Epoch 3/18 - loss=categorical_crossentropy=1.0630827, learning_rate=0.001\n",
      "Epoch 5/18 - loss=categorical_crossentropy=1.0629652, learning_rate=0.001\n",
      "Epoch 7/18 - loss=categorical_crossentropy=1.0628182, learning_rate=0.001\n",
      "Epoch 9/18 - loss=categorical_crossentropy=1.0627345, learning_rate=0.001\n",
      "Epoch 11/18 - loss=categorical_crossentropy=1.0626609, learning_rate=0.001\n",
      "Epoch 13/18 - loss=categorical_crossentropy=1.0627304, learning_rate=0.001\n",
      "Epoch 15/18 - loss=categorical_crossentropy=1.0625678, learning_rate=0.001\n",
      "Epoch 17/18 - loss=categorical_crossentropy=1.062658, learning_rate=0.001\n",
      "Epoch 18/18 - loss=categorical_crossentropy=1.0626491, learning_rate=0.001\n",
      "\n",
      "\u001b[32m2024-10-25 20:29:58\u001b[0m \u001b[34mDPAD.tools.model_base_classes\u001b[0m [model_base_classes.py > 539] \u001b[1;30mINFO\u001b[0m Model fitting took 107.62s\n",
      "\u001b[32m2024-10-25 20:29:58\u001b[0m \u001b[34mDPAD.RegressionModel\u001b[0m [RegressionModel.py > 470] \u001b[1;30mINFO\u001b[0m Model fitting finished. Had 5625 batches each with batch_size of 32 samples each (ny_in=1, ny_out=1)\n"
     ]
    },
    {
     "name": "stdout",
     "output_type": "stream",
     "text": [
      "5625/5625 [==============================] - 5s 953us/step\n",
      "5625/5625 [==============================] - 5s 937us/step\n"
     ]
    },
    {
     "name": "stderr",
     "output_type": "stream",
     "text": [
      "\u001b[32m2024-10-25 20:30:13\u001b[0m \u001b[34mDPAD.DPADModel\u001b[0m [DPADModel.py > 2064] \u001b[1;30mINFO\u001b[0m Training Z pred after fitting model2_Cz: \n",
      "1-step: CCE_maskV_None=1.08\n"
     ]
    },
    {
     "name": "stdout",
     "output_type": "stream",
     "text": [
      "625/625 [==============================] - 1s 896us/step\n",
      "NDM_CzNonLin => Behavior decoding AUC: 0.567, Neural self-prediction CC: 0.116\n"
     ]
    }
   ],
   "source": [
    "def getCategory(zCont):\n",
    "    zCat = np.ones(zCont.shape, dtype=int)\n",
    "    zCat[zCont < -0.25] = 0  # 1st category\n",
    "    zCat[np.logical_and(zCont >= -0.25, zCont < 0.25)] = 1  # 2nd category\n",
    "    zCat[zCont >= 0.25] = 2  # 3rd category\n",
    "    return zCat\n",
    "\n",
    "\n",
    "zTrainCat = getCategory(zTrain)\n",
    "zTestCat = getCategory(zTest)\n",
    "\n",
    "zAUCAllCat, yCCAllCat, labelsCat, idSysAllCat = run_methods(\n",
    "    [\n",
    "        \"DPAD_CzNonLin\",  # Prioritized DPAD model with nonlinearity in Cz\n",
    "        \"NDM_CzNonLin\",  # Non-prioritized neural dynamic model (NDM) with nonlinearity in Cz\n",
    "        # (NDM is a standard RNN model as described in manuscript)\n",
    "    ],\n",
    "    nx=n1,  # We use the same low latent state dimension (i.e. n1) for both methods\n",
    "    n1Vals=[n1, 0],  # DPAD can also implement NDM as a special case when n1=0\n",
    "    # (i.e, when only optimization steps 3-4 are used for RNN training)\n",
    "    zPerfMeasure=\"AUC\",\n",
    "    zTrainThis=zTrainCat,\n",
    "    zTestThis=zTestCat,\n",
    ")\n",
    "\n",
    "zTestPredIdealCat = get_one_hot(getCategory(zTestPredIdeal), len(np.unique(zTrainCat)))\n",
    "zAUCIdeal = evalPrediction(zTestCat, zTestPredIdealCat, \"AUC\")\n",
    "\n"
   ]
  },
  {
   "cell_type": "code",
   "execution_count": 36,
   "metadata": {},
   "outputs": [
    {
     "data": {
      "image/png": "[encoded data removed]",
      "text/plain": [
       "<Figure size 400x400 with 1 Axes>"
      ]
     },
     "metadata": {},
     "output_type": "display_data"
    }
   ],
   "source": [
    "zAUCValsCat = [np.mean(tmp) for tmp in zAUCAllCat]\n",
    "colsCat = [\"#ee2a7b\", \"#ff7f0e\"]\n",
    "labelsCat2 = [L.replace(\"NonLin\", \" Nonlinear\") for L in labelsCat]\n",
    "plotDecoding(zAUCValsCat, labelsCat2, colsCat, zPerfMeasure=\"AUC\")\n",
    "\n"
   ]
  },
  {
   "cell_type": "markdown",
   "metadata": {},
   "source": [
    "  As we can see, DPAD extends to modeling categorically distributed behavior data and outperforms nonlinear NDM in that case too. For results in real data see **Fig. 7** in the [DPAD paper](https://doi.org/10.1038/s41593-024-01731-2)."
   ]
  }
 ],
 "metadata": {
  "kernelspec": {
   "display_name": "py311gtf215_DPAD",
   "language": "python",
   "name": "python3"
  },
  "language_info": {
   "codemirror_mode": {
    "name": "ipython",
    "version": 3
   },
   "file_extension": ".py",
   "mimetype": "text/x-python",
   "name": "python",
   "nbconvert_exporter": "python",
   "pygments_lexer": "ipython3",
   "version": "3.11.4"
  },
  "orig_nbformat": 4
 },
 "nbformat": 4,
 "nbformat_minor": 2
}
